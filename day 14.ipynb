{
 "cells": [
  {
   "cell_type": "markdown",
   "id": "254ae09d",
   "metadata": {},
   "source": [
    "## Day 14\n",
    "### pandas"
   ]
  },
  {
   "cell_type": "code",
   "execution_count": 104,
   "id": "d07659a8",
   "metadata": {},
   "outputs": [],
   "source": [
    "import pandas as pd\n",
    "import numpy as np"
   ]
  },
  {
   "cell_type": "code",
   "execution_count": 105,
   "id": "6248fafd",
   "metadata": {},
   "outputs": [
    {
     "data": {
      "text/plain": [
       "7    False\n",
       "4     True\n",
       "3    False\n",
       "2    False\n",
       "8     True\n",
       "9    False\n",
       "dtype: bool"
      ]
     },
     "execution_count": 105,
     "metadata": {},
     "output_type": "execute_result"
    }
   ],
   "source": [
    "sales_data = pd.Series([250,np.nan,175,300,np.nan,220],index =[7,4,3,2,8,9])\n",
    "sales_data.isnull() # Check for null values ,return true for nulls"
   ]
  },
  {
   "cell_type": "code",
   "execution_count": 106,
   "id": "e03a2d0d",
   "metadata": {},
   "outputs": [
    {
     "name": "stdout",
     "output_type": "stream",
     "text": [
      "Week 1 Sales Series:\n",
      "0      0.0\n",
      "1     75.0\n",
      "2    150.0\n",
      "3    225.0\n",
      "4    300.0\n",
      "dtype: float64\n",
      "\n",
      "\n",
      "Week 2 Sales Series:\n",
      "0      0.0\n",
      "1    100.0\n",
      "2    200.0\n",
      "3    300.0\n",
      "4    400.0\n",
      "dtype: float64\n"
     ]
    }
   ],
   "source": [
    "#create 2 series of data\n",
    "week1_sales = np.linspace(start=0,stop=300,num=5)\n",
    "week2_sales = np.linspace(start=0,stop=400,num=5)\n",
    "\n",
    "week1_sales_series = pd.Series(data = week1_sales)\n",
    "week2_sales_series = pd.Series(data = week2_sales)\n",
    "print(\"Week 1 Sales Series:\")\n",
    "print(week1_sales_series)\n",
    "\n",
    "print(\"\\n\\nWeek 2 Sales Series:\")\n",
    "print(week2_sales_series)\n"
   ]
  },
  {
   "cell_type": "code",
   "execution_count": 107,
   "id": "90b7e4eb",
   "metadata": {},
   "outputs": [
    {
     "data": {
      "text/plain": [
       "0      0.0\n",
       "1     75.0\n",
       "2    150.0\n",
       "3    225.0\n",
       "4    300.0\n",
       "0      0.0\n",
       "1    100.0\n",
       "2    200.0\n",
       "3    300.0\n",
       "4    400.0\n",
       "dtype: float64"
      ]
     },
     "execution_count": 107,
     "metadata": {},
     "output_type": "execute_result"
    }
   ],
   "source": [
    "# Concatenate the two series\n",
    "pd.concat([week1_sales_series, week2_sales_series])"
   ]
  },
  {
   "cell_type": "code",
   "execution_count": 108,
   "id": "1c469b2c",
   "metadata": {},
   "outputs": [],
   "source": [
    "# week1_sales_series.append(week2_sales_series)\n",
    "# Concatenating the two series using append method\n",
    "# Note: The append method is deprecated in future versions of pandas, use concat instead."
   ]
  },
  {
   "cell_type": "code",
   "execution_count": 109,
   "id": "02ec2922",
   "metadata": {},
   "outputs": [
    {
     "name": "stdout",
     "output_type": "stream",
     "text": [
      "\n",
      "\n",
      "DataFrame from list:\n",
      "  Machine Learning Topics\n",
      "0                  python\n",
      "1                   Numpy\n",
      "2                  pandas\n",
      "3              matplotlib\n",
      "4           Ml algorithms\n",
      "5              statistics\n"
     ]
    }
   ],
   "source": [
    "# create a data frame from a list\n",
    "machine_learning=['python','Numpy','pandas','matplotlib','Ml algorithms','statistics']\n",
    "df = pd.DataFrame(machine_learning , columns=['Machine Learning Topics'])\n",
    "print(\"\\n\\nDataFrame from list:\")\n",
    "print(df)"
   ]
  },
  {
   "cell_type": "code",
   "execution_count": 110,
   "id": "afb4645d",
   "metadata": {},
   "outputs": [
    {
     "name": "stdout",
     "output_type": "stream",
     "text": [
      "\n",
      "\n",
      "DataFrame from list of lists:\n",
      "\n",
      "       Course Name   Fee\n",
      "0    Ml foundation  8000\n",
      "1              IoT  5000\n",
      "2  Web development  6500\n",
      "3          O level  4500\n"
     ]
    }
   ],
   "source": [
    "#create a data frame from list of lists\n",
    "course_list=[['Ml foundation',8000],['IoT',5000],['Web development',6500],['O level',4500]]\n",
    "df2 = pd.DataFrame(course_list, columns=['Course Name', 'Fee'])\n",
    "print(\"\\n\\nDataFrame from list of lists:\\n\")\n",
    "print(df2)"
   ]
  },
  {
   "cell_type": "code",
   "execution_count": 111,
   "id": "faa97106",
   "metadata": {},
   "outputs": [
    {
     "name": "stdout",
     "output_type": "stream",
     "text": [
      "\n",
      "\n",
      "DataFrame from dictionary:\n",
      "\n",
      "      Name  Age         City\n",
      "0    Alice   24     New York\n",
      "1      Bob   27  Los Angeles\n",
      "2  Charlie   22      Chicago\n"
     ]
    }
   ],
   "source": [
    "#create a data frame from a dictionary\n",
    "data ={\n",
    "    'Name': ['Alice', 'Bob', 'Charlie'],\n",
    "    'Age': [24,27, 22],\n",
    "    'City': ['New York', 'Los Angeles', 'Chicago']\n",
    "}\n",
    "df = pd.DataFrame(data)\n",
    "print(\"\\n\\nDataFrame from dictionary:\\n\")\n",
    "print(df)"
   ]
  },
  {
   "cell_type": "code",
   "execution_count": 112,
   "id": "c4eeee78",
   "metadata": {},
   "outputs": [
    {
     "name": "stdout",
     "output_type": "stream",
     "text": [
      "\n",
      "\n",
      "DataFrame with custom index:\n",
      "\n",
      "       Name  Age         City\n",
      "A1    Alice   24     New York\n",
      "A2      Bob   27  Los Angeles\n",
      "A3  Charlie   22      Chicago\n"
     ]
    }
   ],
   "source": [
    "#data frame with custom index\n",
    "data = {\n",
    "    'Name': ['Alice', 'Bob', 'Charlie'],\n",
    "    'Age': [24, 27, 22],\n",
    "    'City': ['New York', 'Los Angeles', 'Chicago']\n",
    "}\n",
    "df = pd.DataFrame(data, index=['A1', 'A2', 'A3'])\n",
    "print(\"\\n\\nDataFrame with custom index:\\n\")\n",
    "print(df)"
   ]
  },
  {
   "cell_type": "code",
   "execution_count": 113,
   "id": "a52a1585",
   "metadata": {},
   "outputs": [
    {
     "name": "stdout",
     "output_type": "stream",
     "text": [
      "\n",
      "\n",
      "DataFrame from list of dictionaries:\n",
      "\n",
      "         date   product  units_sold  revenue\n",
      "0  2025-06-01    laptop           5    50000\n",
      "1  2025-06-02     Mouse          25     2500\n",
      "2  2025-06-03  keyboard          15     7500\n",
      "3  2025-06-04   Monitor           7    21000\n"
     ]
    }
   ],
   "source": [
    "#create a data frame from a  list of dictionary\n",
    "sales_data = [\n",
    "    {'date': '2025-06-01', 'product': 'laptop','units_sold': 5, 'revenue': 50000},\n",
    "    {'date': '2025-06-02', 'product': 'Mouse','units_sold': 25, 'revenue': 2500},\n",
    "    {'date': '2025-06-03', 'product': 'keyboard','units_sold': 15, 'revenue': 7500},\n",
    "    {'date': '2025-06-04', 'product': 'Monitor','units_sold': 7, 'revenue': 21000}\n",
    "]\n",
    "df = pd.DataFrame(sales_data)\n",
    "print(\"\\n\\nDataFrame from list of dictionaries:\\n\")\n",
    "print(df)"
   ]
  },
  {
   "cell_type": "markdown",
   "id": "292abe3e",
   "metadata": {},
   "source": [
    "## import files using pandas"
   ]
  },
  {
   "cell_type": "code",
   "execution_count": 114,
   "id": "bfac89a1",
   "metadata": {},
   "outputs": [
    {
     "name": "stdout",
     "output_type": "stream",
     "text": [
      "\n",
      "\n",
      "DataFrame from Excel file:\n",
      "\n"
     ]
    },
    {
     "data": {
      "text/html": [
       "<div>\n",
       "<style scoped>\n",
       "    .dataframe tbody tr th:only-of-type {\n",
       "        vertical-align: middle;\n",
       "    }\n",
       "\n",
       "    .dataframe tbody tr th {\n",
       "        vertical-align: top;\n",
       "    }\n",
       "\n",
       "    .dataframe thead th {\n",
       "        text-align: right;\n",
       "    }\n",
       "</style>\n",
       "<table border=\"1\" class=\"dataframe\">\n",
       "  <thead>\n",
       "    <tr style=\"text-align: right;\">\n",
       "      <th></th>\n",
       "      <th>Name</th>\n",
       "      <th>Age</th>\n",
       "      <th>City</th>\n",
       "      <th>Pincode</th>\n",
       "    </tr>\n",
       "  </thead>\n",
       "  <tbody>\n",
       "    <tr>\n",
       "      <th>0</th>\n",
       "      <td>Tony</td>\n",
       "      <td>23</td>\n",
       "      <td>USA</td>\n",
       "      <td>5453</td>\n",
       "    </tr>\n",
       "    <tr>\n",
       "      <th>1</th>\n",
       "      <td>Thor</td>\n",
       "      <td>25</td>\n",
       "      <td>Asgard</td>\n",
       "      <td>4323</td>\n",
       "    </tr>\n",
       "    <tr>\n",
       "      <th>2</th>\n",
       "      <td>Natasha</td>\n",
       "      <td>19</td>\n",
       "      <td>USA</td>\n",
       "      <td>4236</td>\n",
       "    </tr>\n",
       "    <tr>\n",
       "      <th>3</th>\n",
       "      <td>Brush</td>\n",
       "      <td>30</td>\n",
       "      <td>USA</td>\n",
       "      <td>4565</td>\n",
       "    </tr>\n",
       "    <tr>\n",
       "      <th>4</th>\n",
       "      <td>Tichala</td>\n",
       "      <td>28</td>\n",
       "      <td>Wakanda</td>\n",
       "      <td>7897</td>\n",
       "    </tr>\n",
       "    <tr>\n",
       "      <th>5</th>\n",
       "      <td>Naruto</td>\n",
       "      <td>26</td>\n",
       "      <td>Hidden Leaf</td>\n",
       "      <td>6775</td>\n",
       "    </tr>\n",
       "    <tr>\n",
       "      <th>6</th>\n",
       "      <td>Goku</td>\n",
       "      <td>18</td>\n",
       "      <td>Mount Paozu</td>\n",
       "      <td>2767</td>\n",
       "    </tr>\n",
       "    <tr>\n",
       "      <th>7</th>\n",
       "      <td>Liyasa</td>\n",
       "      <td>22</td>\n",
       "      <td>Korea</td>\n",
       "      <td>3456</td>\n",
       "    </tr>\n",
       "  </tbody>\n",
       "</table>\n",
       "</div>"
      ],
      "text/plain": [
       "      Name   Age         City  Pincode\n",
       "0      Tony   23          USA     5453\n",
       "1      Thor   25       Asgard     4323\n",
       "2  Natasha    19          USA     4236\n",
       "3     Brush   30          USA     4565\n",
       "4   Tichala   28      Wakanda     7897\n",
       "5    Naruto   26  Hidden Leaf     6775\n",
       "6      Goku   18  Mount Paozu     2767\n",
       "7    Liyasa   22        Korea     3456"
      ]
     },
     "execution_count": 114,
     "metadata": {},
     "output_type": "execute_result"
    }
   ],
   "source": [
    "df = pd.read_excel('Dataset/dataset1.xlsx', sheet_name='Sheet1') # Read data from an Excel file\n",
    "print(\"\\n\\nDataFrame from Excel file:\\n\")\n",
    "df"
   ]
  },
  {
   "cell_type": "code",
   "execution_count": 115,
   "id": "94cdf241",
   "metadata": {},
   "outputs": [
    {
     "name": "stdout",
     "output_type": "stream",
     "text": [
      "\n",
      "\n",
      "DataFrame from CSV file:\n",
      "\n"
     ]
    },
    {
     "data": {
      "text/html": [
       "<div>\n",
       "<style scoped>\n",
       "    .dataframe tbody tr th:only-of-type {\n",
       "        vertical-align: middle;\n",
       "    }\n",
       "\n",
       "    .dataframe tbody tr th {\n",
       "        vertical-align: top;\n",
       "    }\n",
       "\n",
       "    .dataframe thead th {\n",
       "        text-align: right;\n",
       "    }\n",
       "</style>\n",
       "<table border=\"1\" class=\"dataframe\">\n",
       "  <thead>\n",
       "    <tr style=\"text-align: right;\">\n",
       "      <th></th>\n",
       "      <th>EmployeeID</th>\n",
       "      <th>Name</th>\n",
       "      <th>age</th>\n",
       "    </tr>\n",
       "  </thead>\n",
       "  <tbody>\n",
       "    <tr>\n",
       "      <th>0</th>\n",
       "      <td>1</td>\n",
       "      <td>A</td>\n",
       "      <td>23</td>\n",
       "    </tr>\n",
       "    <tr>\n",
       "      <th>1</th>\n",
       "      <td>4</td>\n",
       "      <td>B</td>\n",
       "      <td>45</td>\n",
       "    </tr>\n",
       "    <tr>\n",
       "      <th>2</th>\n",
       "      <td>5</td>\n",
       "      <td>C</td>\n",
       "      <td>56</td>\n",
       "    </tr>\n",
       "    <tr>\n",
       "      <th>3</th>\n",
       "      <td>6</td>\n",
       "      <td>D</td>\n",
       "      <td>77</td>\n",
       "    </tr>\n",
       "  </tbody>\n",
       "</table>\n",
       "</div>"
      ],
      "text/plain": [
       "   EmployeeID   Name  age \n",
       "0             1    A    23\n",
       "1             4    B    45\n",
       "2             5    C    56\n",
       "3             6    D    77"
      ]
     },
     "execution_count": 115,
     "metadata": {},
     "output_type": "execute_result"
    }
   ],
   "source": [
    "df1 = pd.read_csv('Dataset/dataset11.csv')  # Read a CSV file into a DataFrame\n",
    "print(\"\\n\\nDataFrame from CSV file:\\n\")\n",
    "df1"
   ]
  },
  {
   "cell_type": "code",
   "execution_count": 116,
   "id": "bf991f04",
   "metadata": {},
   "outputs": [
    {
     "data": {
      "text/html": [
       "<div>\n",
       "<style scoped>\n",
       "    .dataframe tbody tr th:only-of-type {\n",
       "        vertical-align: middle;\n",
       "    }\n",
       "\n",
       "    .dataframe tbody tr th {\n",
       "        vertical-align: top;\n",
       "    }\n",
       "\n",
       "    .dataframe thead th {\n",
       "        text-align: right;\n",
       "    }\n",
       "</style>\n",
       "<table border=\"1\" class=\"dataframe\">\n",
       "  <thead>\n",
       "    <tr style=\"text-align: right;\">\n",
       "      <th></th>\n",
       "      <th>Name</th>\n",
       "      <th>Age</th>\n",
       "      <th>City</th>\n",
       "      <th>Pincode</th>\n",
       "    </tr>\n",
       "  </thead>\n",
       "  <tbody>\n",
       "    <tr>\n",
       "      <th>0</th>\n",
       "      <td>Tony</td>\n",
       "      <td>23</td>\n",
       "      <td>USA</td>\n",
       "      <td>5453</td>\n",
       "    </tr>\n",
       "    <tr>\n",
       "      <th>1</th>\n",
       "      <td>Thor</td>\n",
       "      <td>25</td>\n",
       "      <td>Asgard</td>\n",
       "      <td>4323</td>\n",
       "    </tr>\n",
       "    <tr>\n",
       "      <th>2</th>\n",
       "      <td>Natasha</td>\n",
       "      <td>19</td>\n",
       "      <td>USA</td>\n",
       "      <td>4236</td>\n",
       "    </tr>\n",
       "    <tr>\n",
       "      <th>3</th>\n",
       "      <td>Brush</td>\n",
       "      <td>30</td>\n",
       "      <td>USA</td>\n",
       "      <td>4565</td>\n",
       "    </tr>\n",
       "    <tr>\n",
       "      <th>4</th>\n",
       "      <td>Tichala</td>\n",
       "      <td>28</td>\n",
       "      <td>Wakanda</td>\n",
       "      <td>7897</td>\n",
       "    </tr>\n",
       "  </tbody>\n",
       "</table>\n",
       "</div>"
      ],
      "text/plain": [
       "      Name   Age     City  Pincode\n",
       "0      Tony   23      USA     5453\n",
       "1      Thor   25   Asgard     4323\n",
       "2  Natasha    19      USA     4236\n",
       "3     Brush   30      USA     4565\n",
       "4   Tichala   28  Wakanda     7897"
      ]
     },
     "execution_count": 116,
     "metadata": {},
     "output_type": "execute_result"
    }
   ],
   "source": [
    "df.head()  # Display the first few rows of the DataFrame"
   ]
  },
  {
   "cell_type": "code",
   "execution_count": 117,
   "id": "75b302bb",
   "metadata": {},
   "outputs": [
    {
     "data": {
      "text/html": [
       "<div>\n",
       "<style scoped>\n",
       "    .dataframe tbody tr th:only-of-type {\n",
       "        vertical-align: middle;\n",
       "    }\n",
       "\n",
       "    .dataframe tbody tr th {\n",
       "        vertical-align: top;\n",
       "    }\n",
       "\n",
       "    .dataframe thead th {\n",
       "        text-align: right;\n",
       "    }\n",
       "</style>\n",
       "<table border=\"1\" class=\"dataframe\">\n",
       "  <thead>\n",
       "    <tr style=\"text-align: right;\">\n",
       "      <th></th>\n",
       "      <th>Name</th>\n",
       "      <th>Age</th>\n",
       "      <th>City</th>\n",
       "      <th>Pincode</th>\n",
       "    </tr>\n",
       "  </thead>\n",
       "  <tbody>\n",
       "    <tr>\n",
       "      <th>0</th>\n",
       "      <td>Tony</td>\n",
       "      <td>23</td>\n",
       "      <td>USA</td>\n",
       "      <td>5453</td>\n",
       "    </tr>\n",
       "    <tr>\n",
       "      <th>1</th>\n",
       "      <td>Thor</td>\n",
       "      <td>25</td>\n",
       "      <td>Asgard</td>\n",
       "      <td>4323</td>\n",
       "    </tr>\n",
       "  </tbody>\n",
       "</table>\n",
       "</div>"
      ],
      "text/plain": [
       "  Name   Age    City  Pincode\n",
       "0  Tony   23     USA     5453\n",
       "1  Thor   25  Asgard     4323"
      ]
     },
     "execution_count": 117,
     "metadata": {},
     "output_type": "execute_result"
    }
   ],
   "source": [
    "df.head(2)  # Display the first two rows of the DataFrame"
   ]
  },
  {
   "cell_type": "code",
   "execution_count": 118,
   "id": "be59071c",
   "metadata": {},
   "outputs": [
    {
     "data": {
      "text/html": [
       "<div>\n",
       "<style scoped>\n",
       "    .dataframe tbody tr th:only-of-type {\n",
       "        vertical-align: middle;\n",
       "    }\n",
       "\n",
       "    .dataframe tbody tr th {\n",
       "        vertical-align: top;\n",
       "    }\n",
       "\n",
       "    .dataframe thead th {\n",
       "        text-align: right;\n",
       "    }\n",
       "</style>\n",
       "<table border=\"1\" class=\"dataframe\">\n",
       "  <thead>\n",
       "    <tr style=\"text-align: right;\">\n",
       "      <th></th>\n",
       "      <th>Name</th>\n",
       "      <th>Age</th>\n",
       "      <th>City</th>\n",
       "      <th>Pincode</th>\n",
       "    </tr>\n",
       "  </thead>\n",
       "  <tbody>\n",
       "    <tr>\n",
       "      <th>3</th>\n",
       "      <td>Brush</td>\n",
       "      <td>30</td>\n",
       "      <td>USA</td>\n",
       "      <td>4565</td>\n",
       "    </tr>\n",
       "    <tr>\n",
       "      <th>4</th>\n",
       "      <td>Tichala</td>\n",
       "      <td>28</td>\n",
       "      <td>Wakanda</td>\n",
       "      <td>7897</td>\n",
       "    </tr>\n",
       "    <tr>\n",
       "      <th>5</th>\n",
       "      <td>Naruto</td>\n",
       "      <td>26</td>\n",
       "      <td>Hidden Leaf</td>\n",
       "      <td>6775</td>\n",
       "    </tr>\n",
       "    <tr>\n",
       "      <th>6</th>\n",
       "      <td>Goku</td>\n",
       "      <td>18</td>\n",
       "      <td>Mount Paozu</td>\n",
       "      <td>2767</td>\n",
       "    </tr>\n",
       "    <tr>\n",
       "      <th>7</th>\n",
       "      <td>Liyasa</td>\n",
       "      <td>22</td>\n",
       "      <td>Korea</td>\n",
       "      <td>3456</td>\n",
       "    </tr>\n",
       "  </tbody>\n",
       "</table>\n",
       "</div>"
      ],
      "text/plain": [
       "     Name   Age         City  Pincode\n",
       "3    Brush   30          USA     4565\n",
       "4  Tichala   28      Wakanda     7897\n",
       "5   Naruto   26  Hidden Leaf     6775\n",
       "6     Goku   18  Mount Paozu     2767\n",
       "7   Liyasa   22        Korea     3456"
      ]
     },
     "execution_count": 118,
     "metadata": {},
     "output_type": "execute_result"
    }
   ],
   "source": [
    "df.tail()  # Display the last few rows of the DataFrame"
   ]
  },
  {
   "cell_type": "code",
   "execution_count": 119,
   "id": "21989c20",
   "metadata": {},
   "outputs": [
    {
     "data": {
      "text/html": [
       "<div>\n",
       "<style scoped>\n",
       "    .dataframe tbody tr th:only-of-type {\n",
       "        vertical-align: middle;\n",
       "    }\n",
       "\n",
       "    .dataframe tbody tr th {\n",
       "        vertical-align: top;\n",
       "    }\n",
       "\n",
       "    .dataframe thead th {\n",
       "        text-align: right;\n",
       "    }\n",
       "</style>\n",
       "<table border=\"1\" class=\"dataframe\">\n",
       "  <thead>\n",
       "    <tr style=\"text-align: right;\">\n",
       "      <th></th>\n",
       "      <th>Name</th>\n",
       "      <th>Age</th>\n",
       "      <th>City</th>\n",
       "      <th>Pincode</th>\n",
       "    </tr>\n",
       "  </thead>\n",
       "  <tbody>\n",
       "    <tr>\n",
       "      <th>6</th>\n",
       "      <td>Goku</td>\n",
       "      <td>18</td>\n",
       "      <td>Mount Paozu</td>\n",
       "      <td>2767</td>\n",
       "    </tr>\n",
       "    <tr>\n",
       "      <th>7</th>\n",
       "      <td>Liyasa</td>\n",
       "      <td>22</td>\n",
       "      <td>Korea</td>\n",
       "      <td>3456</td>\n",
       "    </tr>\n",
       "  </tbody>\n",
       "</table>\n",
       "</div>"
      ],
      "text/plain": [
       "    Name   Age         City  Pincode\n",
       "6    Goku   18  Mount Paozu     2767\n",
       "7  Liyasa   22        Korea     3456"
      ]
     },
     "execution_count": 119,
     "metadata": {},
     "output_type": "execute_result"
    }
   ],
   "source": [
    "df.tail(2)  # Display the last two rows of the DataFrame"
   ]
  },
  {
   "cell_type": "code",
   "execution_count": 120,
   "id": "8ba41aa0",
   "metadata": {},
   "outputs": [
    {
     "data": {
      "text/html": [
       "<div>\n",
       "<style scoped>\n",
       "    .dataframe tbody tr th:only-of-type {\n",
       "        vertical-align: middle;\n",
       "    }\n",
       "\n",
       "    .dataframe tbody tr th {\n",
       "        vertical-align: top;\n",
       "    }\n",
       "\n",
       "    .dataframe thead th {\n",
       "        text-align: right;\n",
       "    }\n",
       "</style>\n",
       "<table border=\"1\" class=\"dataframe\">\n",
       "  <thead>\n",
       "    <tr style=\"text-align: right;\">\n",
       "      <th></th>\n",
       "      <th>Age</th>\n",
       "      <th>Pincode</th>\n",
       "    </tr>\n",
       "  </thead>\n",
       "  <tbody>\n",
       "    <tr>\n",
       "      <th>count</th>\n",
       "      <td>8.000000</td>\n",
       "      <td>8.00000</td>\n",
       "    </tr>\n",
       "    <tr>\n",
       "      <th>mean</th>\n",
       "      <td>23.875000</td>\n",
       "      <td>4934.00000</td>\n",
       "    </tr>\n",
       "    <tr>\n",
       "      <th>std</th>\n",
       "      <td>4.189698</td>\n",
       "      <td>1703.57062</td>\n",
       "    </tr>\n",
       "    <tr>\n",
       "      <th>min</th>\n",
       "      <td>18.000000</td>\n",
       "      <td>2767.00000</td>\n",
       "    </tr>\n",
       "    <tr>\n",
       "      <th>25%</th>\n",
       "      <td>21.250000</td>\n",
       "      <td>4041.00000</td>\n",
       "    </tr>\n",
       "    <tr>\n",
       "      <th>50%</th>\n",
       "      <td>24.000000</td>\n",
       "      <td>4444.00000</td>\n",
       "    </tr>\n",
       "    <tr>\n",
       "      <th>75%</th>\n",
       "      <td>26.500000</td>\n",
       "      <td>5783.50000</td>\n",
       "    </tr>\n",
       "    <tr>\n",
       "      <th>max</th>\n",
       "      <td>30.000000</td>\n",
       "      <td>7897.00000</td>\n",
       "    </tr>\n",
       "  </tbody>\n",
       "</table>\n",
       "</div>"
      ],
      "text/plain": [
       "             Age     Pincode\n",
       "count   8.000000     8.00000\n",
       "mean   23.875000  4934.00000\n",
       "std     4.189698  1703.57062\n",
       "min    18.000000  2767.00000\n",
       "25%    21.250000  4041.00000\n",
       "50%    24.000000  4444.00000\n",
       "75%    26.500000  5783.50000\n",
       "max    30.000000  7897.00000"
      ]
     },
     "execution_count": 120,
     "metadata": {},
     "output_type": "execute_result"
    }
   ],
   "source": [
    "df.describe()  # Get a statistical summary of the DataFrame"
   ]
  },
  {
   "cell_type": "code",
   "execution_count": 121,
   "id": "ff98cb88",
   "metadata": {},
   "outputs": [
    {
     "name": "stdout",
     "output_type": "stream",
     "text": [
      "<class 'pandas.core.frame.DataFrame'>\n",
      "RangeIndex: 8 entries, 0 to 7\n",
      "Data columns (total 4 columns):\n",
      " #   Column   Non-Null Count  Dtype \n",
      "---  ------   --------------  ----- \n",
      " 0   Name     8 non-null      object\n",
      " 1   Age      8 non-null      int64 \n",
      " 2   City     8 non-null      object\n",
      " 3   Pincode  8 non-null      int64 \n",
      "dtypes: int64(2), object(2)\n",
      "memory usage: 388.0+ bytes\n"
     ]
    }
   ],
   "source": [
    "df.info() # Get information about the DataFrame, including data types and non-null counts"
   ]
  },
  {
   "cell_type": "code",
   "execution_count": 122,
   "id": "89fc41cb",
   "metadata": {},
   "outputs": [
    {
     "name": "stdout",
     "output_type": "stream",
     "text": [
      "\n",
      "\n",
      "DataFrame with custom index labels:\n",
      "\n"
     ]
    },
    {
     "data": {
      "text/html": [
       "<div>\n",
       "<style scoped>\n",
       "    .dataframe tbody tr th:only-of-type {\n",
       "        vertical-align: middle;\n",
       "    }\n",
       "\n",
       "    .dataframe tbody tr th {\n",
       "        vertical-align: top;\n",
       "    }\n",
       "\n",
       "    .dataframe thead th {\n",
       "        text-align: right;\n",
       "    }\n",
       "</style>\n",
       "<table border=\"1\" class=\"dataframe\">\n",
       "  <thead>\n",
       "    <tr style=\"text-align: right;\">\n",
       "      <th></th>\n",
       "      <th>Name</th>\n",
       "      <th>Age</th>\n",
       "      <th>City</th>\n",
       "      <th>Pincode</th>\n",
       "    </tr>\n",
       "  </thead>\n",
       "  <tbody>\n",
       "    <tr>\n",
       "      <th>Row1</th>\n",
       "      <td>Tony</td>\n",
       "      <td>23</td>\n",
       "      <td>USA</td>\n",
       "      <td>5453</td>\n",
       "    </tr>\n",
       "    <tr>\n",
       "      <th>Row2</th>\n",
       "      <td>Thor</td>\n",
       "      <td>25</td>\n",
       "      <td>Asgard</td>\n",
       "      <td>4323</td>\n",
       "    </tr>\n",
       "    <tr>\n",
       "      <th>Row3</th>\n",
       "      <td>Natasha</td>\n",
       "      <td>19</td>\n",
       "      <td>USA</td>\n",
       "      <td>4236</td>\n",
       "    </tr>\n",
       "    <tr>\n",
       "      <th>Row4</th>\n",
       "      <td>Brush</td>\n",
       "      <td>30</td>\n",
       "      <td>USA</td>\n",
       "      <td>4565</td>\n",
       "    </tr>\n",
       "    <tr>\n",
       "      <th>Row5</th>\n",
       "      <td>Tichala</td>\n",
       "      <td>28</td>\n",
       "      <td>Wakanda</td>\n",
       "      <td>7897</td>\n",
       "    </tr>\n",
       "    <tr>\n",
       "      <th>Row6</th>\n",
       "      <td>Naruto</td>\n",
       "      <td>26</td>\n",
       "      <td>Hidden Leaf</td>\n",
       "      <td>6775</td>\n",
       "    </tr>\n",
       "    <tr>\n",
       "      <th>Row7</th>\n",
       "      <td>Goku</td>\n",
       "      <td>18</td>\n",
       "      <td>Mount Paozu</td>\n",
       "      <td>2767</td>\n",
       "    </tr>\n",
       "    <tr>\n",
       "      <th>Row8</th>\n",
       "      <td>Liyasa</td>\n",
       "      <td>22</td>\n",
       "      <td>Korea</td>\n",
       "      <td>3456</td>\n",
       "    </tr>\n",
       "  </tbody>\n",
       "</table>\n",
       "</div>"
      ],
      "text/plain": [
       "         Name   Age         City  Pincode\n",
       "Row1      Tony   23          USA     5453\n",
       "Row2      Thor   25       Asgard     4323\n",
       "Row3  Natasha    19          USA     4236\n",
       "Row4     Brush   30          USA     4565\n",
       "Row5   Tichala   28      Wakanda     7897\n",
       "Row6    Naruto   26  Hidden Leaf     6775\n",
       "Row7      Goku   18  Mount Paozu     2767\n",
       "Row8    Liyasa   22        Korea     3456"
      ]
     },
     "execution_count": 122,
     "metadata": {},
     "output_type": "execute_result"
    }
   ],
   "source": [
    "# custom index\n",
    "df.index =['Row1', 'Row2', 'Row3', 'Row4', 'Row5', 'Row6', 'Row7', 'Row8'] # Set custom index labels for the DataFrame\n",
    "print(\"\\n\\nDataFrame with custom index labels:\\n\")\n",
    "df"
   ]
  },
  {
   "cell_type": "code",
   "execution_count": 123,
   "id": "9cdf3b48",
   "metadata": {},
   "outputs": [
    {
     "data": {
      "text/plain": [
       "Index(['Name ', 'Age', 'City', 'Pincode'], dtype='object')"
      ]
     },
     "execution_count": 123,
     "metadata": {},
     "output_type": "execute_result"
    }
   ],
   "source": [
    "df.columns  # Get the list of column names in the DataFrame"
   ]
  },
  {
   "cell_type": "code",
   "execution_count": 124,
   "id": "be098109",
   "metadata": {},
   "outputs": [
    {
     "name": "stdout",
     "output_type": "stream",
     "text": [
      "\n",
      "\n",
      "DataFrame with renamed columns:\n",
      "\n"
     ]
    },
    {
     "data": {
      "text/html": [
       "<div>\n",
       "<style scoped>\n",
       "    .dataframe tbody tr th:only-of-type {\n",
       "        vertical-align: middle;\n",
       "    }\n",
       "\n",
       "    .dataframe tbody tr th {\n",
       "        vertical-align: top;\n",
       "    }\n",
       "\n",
       "    .dataframe thead th {\n",
       "        text-align: right;\n",
       "    }\n",
       "</style>\n",
       "<table border=\"1\" class=\"dataframe\">\n",
       "  <thead>\n",
       "    <tr style=\"text-align: right;\">\n",
       "      <th></th>\n",
       "      <th>Employee Name</th>\n",
       "      <th>Age of employee</th>\n",
       "      <th>city</th>\n",
       "      <th>pin</th>\n",
       "    </tr>\n",
       "  </thead>\n",
       "  <tbody>\n",
       "    <tr>\n",
       "      <th>Row1</th>\n",
       "      <td>Tony</td>\n",
       "      <td>23</td>\n",
       "      <td>USA</td>\n",
       "      <td>5453</td>\n",
       "    </tr>\n",
       "    <tr>\n",
       "      <th>Row2</th>\n",
       "      <td>Thor</td>\n",
       "      <td>25</td>\n",
       "      <td>Asgard</td>\n",
       "      <td>4323</td>\n",
       "    </tr>\n",
       "    <tr>\n",
       "      <th>Row3</th>\n",
       "      <td>Natasha</td>\n",
       "      <td>19</td>\n",
       "      <td>USA</td>\n",
       "      <td>4236</td>\n",
       "    </tr>\n",
       "    <tr>\n",
       "      <th>Row4</th>\n",
       "      <td>Brush</td>\n",
       "      <td>30</td>\n",
       "      <td>USA</td>\n",
       "      <td>4565</td>\n",
       "    </tr>\n",
       "    <tr>\n",
       "      <th>Row5</th>\n",
       "      <td>Tichala</td>\n",
       "      <td>28</td>\n",
       "      <td>Wakanda</td>\n",
       "      <td>7897</td>\n",
       "    </tr>\n",
       "    <tr>\n",
       "      <th>Row6</th>\n",
       "      <td>Naruto</td>\n",
       "      <td>26</td>\n",
       "      <td>Hidden Leaf</td>\n",
       "      <td>6775</td>\n",
       "    </tr>\n",
       "    <tr>\n",
       "      <th>Row7</th>\n",
       "      <td>Goku</td>\n",
       "      <td>18</td>\n",
       "      <td>Mount Paozu</td>\n",
       "      <td>2767</td>\n",
       "    </tr>\n",
       "    <tr>\n",
       "      <th>Row8</th>\n",
       "      <td>Liyasa</td>\n",
       "      <td>22</td>\n",
       "      <td>Korea</td>\n",
       "      <td>3456</td>\n",
       "    </tr>\n",
       "  </tbody>\n",
       "</table>\n",
       "</div>"
      ],
      "text/plain": [
       "     Employee Name  Age of employee         city   pin\n",
       "Row1          Tony               23          USA  5453\n",
       "Row2          Thor               25       Asgard  4323\n",
       "Row3      Natasha                19          USA  4236\n",
       "Row4         Brush               30          USA  4565\n",
       "Row5       Tichala               28      Wakanda  7897\n",
       "Row6        Naruto               26  Hidden Leaf  6775\n",
       "Row7          Goku               18  Mount Paozu  2767\n",
       "Row8        Liyasa               22        Korea  3456"
      ]
     },
     "execution_count": 124,
     "metadata": {},
     "output_type": "execute_result"
    }
   ],
   "source": [
    "df.columns = ['Employee Name', 'Age of employee', 'city', 'pin']  # Rename the columns of the DataFrame\n",
    "print(\"\\n\\nDataFrame with renamed columns:\\n\")\n",
    "df"
   ]
  },
  {
   "cell_type": "code",
   "execution_count": 125,
   "id": "a43fc661",
   "metadata": {},
   "outputs": [
    {
     "data": {
      "text/plain": [
       "Row1            USA\n",
       "Row2         Asgard\n",
       "Row3            USA\n",
       "Row4            USA\n",
       "Row5        Wakanda\n",
       "Row6    Hidden Leaf\n",
       "Row7    Mount Paozu\n",
       "Row8          Korea\n",
       "Name: city, dtype: object"
      ]
     },
     "execution_count": 125,
     "metadata": {},
     "output_type": "execute_result"
    }
   ],
   "source": [
    "df.city  # Access a specific column in the DataFrame using dot notation"
   ]
  },
  {
   "cell_type": "code",
   "execution_count": 126,
   "id": "cc282425",
   "metadata": {},
   "outputs": [
    {
     "data": {
      "text/plain": [
       "Row1        Tony\n",
       "Row2        Thor\n",
       "Row3    Natasha \n",
       "Row4       Brush\n",
       "Row5     Tichala\n",
       "Row6      Naruto\n",
       "Row7        Goku\n",
       "Row8      Liyasa\n",
       "Name: Employee Name, dtype: object"
      ]
     },
     "execution_count": 126,
     "metadata": {},
     "output_type": "execute_result"
    }
   ],
   "source": [
    "df['Employee Name']  # Access a specific column in the DataFrame using bracket notation"
   ]
  },
  {
   "cell_type": "code",
   "execution_count": 127,
   "id": "720a14e2",
   "metadata": {},
   "outputs": [
    {
     "data": {
      "text/html": [
       "<div>\n",
       "<style scoped>\n",
       "    .dataframe tbody tr th:only-of-type {\n",
       "        vertical-align: middle;\n",
       "    }\n",
       "\n",
       "    .dataframe tbody tr th {\n",
       "        vertical-align: top;\n",
       "    }\n",
       "\n",
       "    .dataframe thead th {\n",
       "        text-align: right;\n",
       "    }\n",
       "</style>\n",
       "<table border=\"1\" class=\"dataframe\">\n",
       "  <thead>\n",
       "    <tr style=\"text-align: right;\">\n",
       "      <th></th>\n",
       "      <th>Employee Name</th>\n",
       "      <th>Age of employee</th>\n",
       "    </tr>\n",
       "  </thead>\n",
       "  <tbody>\n",
       "    <tr>\n",
       "      <th>Row1</th>\n",
       "      <td>Tony</td>\n",
       "      <td>23</td>\n",
       "    </tr>\n",
       "    <tr>\n",
       "      <th>Row2</th>\n",
       "      <td>Thor</td>\n",
       "      <td>25</td>\n",
       "    </tr>\n",
       "    <tr>\n",
       "      <th>Row3</th>\n",
       "      <td>Natasha</td>\n",
       "      <td>19</td>\n",
       "    </tr>\n",
       "    <tr>\n",
       "      <th>Row4</th>\n",
       "      <td>Brush</td>\n",
       "      <td>30</td>\n",
       "    </tr>\n",
       "    <tr>\n",
       "      <th>Row5</th>\n",
       "      <td>Tichala</td>\n",
       "      <td>28</td>\n",
       "    </tr>\n",
       "    <tr>\n",
       "      <th>Row6</th>\n",
       "      <td>Naruto</td>\n",
       "      <td>26</td>\n",
       "    </tr>\n",
       "    <tr>\n",
       "      <th>Row7</th>\n",
       "      <td>Goku</td>\n",
       "      <td>18</td>\n",
       "    </tr>\n",
       "    <tr>\n",
       "      <th>Row8</th>\n",
       "      <td>Liyasa</td>\n",
       "      <td>22</td>\n",
       "    </tr>\n",
       "  </tbody>\n",
       "</table>\n",
       "</div>"
      ],
      "text/plain": [
       "     Employee Name  Age of employee\n",
       "Row1          Tony               23\n",
       "Row2          Thor               25\n",
       "Row3      Natasha                19\n",
       "Row4         Brush               30\n",
       "Row5       Tichala               28\n",
       "Row6        Naruto               26\n",
       "Row7          Goku               18\n",
       "Row8        Liyasa               22"
      ]
     },
     "execution_count": 127,
     "metadata": {},
     "output_type": "execute_result"
    }
   ],
   "source": [
    "df[['Employee Name', 'Age of employee']]  # Access multiple columns in the DataFrame using bracket notation\n"
   ]
  },
  {
   "cell_type": "code",
   "execution_count": 128,
   "id": "5224f237",
   "metadata": {},
   "outputs": [
    {
     "data": {
      "text/plain": [
       "pandas.core.frame.DataFrame"
      ]
     },
     "execution_count": 128,
     "metadata": {},
     "output_type": "execute_result"
    }
   ],
   "source": [
    "type(df) # Check the type of the DataFrame object"
   ]
  },
  {
   "cell_type": "code",
   "execution_count": 129,
   "id": "12faf65f",
   "metadata": {},
   "outputs": [
    {
     "data": {
      "text/plain": [
       "30"
      ]
     },
     "execution_count": 129,
     "metadata": {},
     "output_type": "execute_result"
    }
   ],
   "source": [
    "df['Age of employee'].max()  # Get the maximum value in the 'Age of employee' column"
   ]
  },
  {
   "cell_type": "code",
   "execution_count": 130,
   "id": "edc067e6",
   "metadata": {},
   "outputs": [
    {
     "data": {
      "text/plain": [
       "18"
      ]
     },
     "execution_count": 130,
     "metadata": {},
     "output_type": "execute_result"
    }
   ],
   "source": [
    "df['Age of employee'].min()  # Get the minimum value in the 'Age of employee' column"
   ]
  },
  {
   "cell_type": "code",
   "execution_count": 131,
   "id": "3e6c13c3",
   "metadata": {},
   "outputs": [
    {
     "data": {
      "text/plain": [
       "23.875"
      ]
     },
     "execution_count": 131,
     "metadata": {},
     "output_type": "execute_result"
    }
   ],
   "source": [
    "df['Age of employee'].mean() # Get the mean (average) value in the 'Age of employee' column"
   ]
  },
  {
   "cell_type": "code",
   "execution_count": 132,
   "id": "5e2cb8ff",
   "metadata": {},
   "outputs": [
    {
     "data": {
      "text/plain": [
       "Index(['Row1', 'Row2', 'Row3', 'Row4', 'Row5', 'Row6', 'Row7', 'Row8'], dtype='object')"
      ]
     },
     "execution_count": 132,
     "metadata": {},
     "output_type": "execute_result"
    }
   ],
   "source": [
    "df.index  # Get the index labels of the DataFrame"
   ]
  },
  {
   "cell_type": "code",
   "execution_count": 133,
   "id": "af689b51",
   "metadata": {},
   "outputs": [],
   "source": [
    "df.set_index('pin',inplace=True)  # Set the 'pin' column as the index of the DataFrame\n"
   ]
  },
  {
   "cell_type": "code",
   "execution_count": 136,
   "id": "d1ddbb52",
   "metadata": {},
   "outputs": [],
   "source": [
    "# df.set_index('pin', inplace=False) # Set the 'pin' column as the index of the DataFrame without modifying the original DataFrame\n",
    "# df.reset_index(inplace=True)  # Reset the index of the DataFrame, converting the index back to a column\n",
    "# df.reset_index(inplace=False)  # Reset the index of the DataFrame without modifying the original DataFrame\n",
    "# df.set_index('pin', inplace=True)  # Set the 'pin' column as the index of the DataFrame again\n",
    "# df.sort_index(inplace=True)  # Sort the DataFrame by its index labels\n"
   ]
  },
  {
   "cell_type": "code",
   "execution_count": 137,
   "id": "7f59cbea",
   "metadata": {},
   "outputs": [
    {
     "data": {
      "text/plain": [
       "Index(['Employee Name', 'Age of employee', 'city'], dtype='object')"
      ]
     },
     "execution_count": 137,
     "metadata": {},
     "output_type": "execute_result"
    }
   ],
   "source": [
    "df.columns"
   ]
  },
  {
   "cell_type": "code",
   "execution_count": 138,
   "id": "a57bcd8b",
   "metadata": {},
   "outputs": [
    {
     "data": {
      "text/html": [
       "<div>\n",
       "<style scoped>\n",
       "    .dataframe tbody tr th:only-of-type {\n",
       "        vertical-align: middle;\n",
       "    }\n",
       "\n",
       "    .dataframe tbody tr th {\n",
       "        vertical-align: top;\n",
       "    }\n",
       "\n",
       "    .dataframe thead th {\n",
       "        text-align: right;\n",
       "    }\n",
       "</style>\n",
       "<table border=\"1\" class=\"dataframe\">\n",
       "  <thead>\n",
       "    <tr style=\"text-align: right;\">\n",
       "      <th></th>\n",
       "      <th>Employee Name</th>\n",
       "      <th>Age of employee</th>\n",
       "      <th>city</th>\n",
       "    </tr>\n",
       "    <tr>\n",
       "      <th>pin</th>\n",
       "      <th></th>\n",
       "      <th></th>\n",
       "      <th></th>\n",
       "    </tr>\n",
       "  </thead>\n",
       "  <tbody>\n",
       "    <tr>\n",
       "      <th>5453</th>\n",
       "      <td>Tony</td>\n",
       "      <td>23</td>\n",
       "      <td>USA</td>\n",
       "    </tr>\n",
       "    <tr>\n",
       "      <th>4323</th>\n",
       "      <td>Thor</td>\n",
       "      <td>25</td>\n",
       "      <td>Asgard</td>\n",
       "    </tr>\n",
       "    <tr>\n",
       "      <th>4236</th>\n",
       "      <td>Natasha</td>\n",
       "      <td>19</td>\n",
       "      <td>USA</td>\n",
       "    </tr>\n",
       "    <tr>\n",
       "      <th>4565</th>\n",
       "      <td>Brush</td>\n",
       "      <td>30</td>\n",
       "      <td>USA</td>\n",
       "    </tr>\n",
       "    <tr>\n",
       "      <th>7897</th>\n",
       "      <td>Tichala</td>\n",
       "      <td>28</td>\n",
       "      <td>Wakanda</td>\n",
       "    </tr>\n",
       "    <tr>\n",
       "      <th>6775</th>\n",
       "      <td>Naruto</td>\n",
       "      <td>26</td>\n",
       "      <td>Hidden Leaf</td>\n",
       "    </tr>\n",
       "    <tr>\n",
       "      <th>2767</th>\n",
       "      <td>Goku</td>\n",
       "      <td>18</td>\n",
       "      <td>Mount Paozu</td>\n",
       "    </tr>\n",
       "    <tr>\n",
       "      <th>3456</th>\n",
       "      <td>Liyasa</td>\n",
       "      <td>22</td>\n",
       "      <td>Korea</td>\n",
       "    </tr>\n",
       "  </tbody>\n",
       "</table>\n",
       "</div>"
      ],
      "text/plain": [
       "     Employee Name  Age of employee         city\n",
       "pin                                             \n",
       "5453          Tony               23          USA\n",
       "4323          Thor               25       Asgard\n",
       "4236      Natasha                19          USA\n",
       "4565         Brush               30          USA\n",
       "7897       Tichala               28      Wakanda\n",
       "6775        Naruto               26  Hidden Leaf\n",
       "2767          Goku               18  Mount Paozu\n",
       "3456        Liyasa               22        Korea"
      ]
     },
     "execution_count": 138,
     "metadata": {},
     "output_type": "execute_result"
    }
   ],
   "source": [
    "df"
   ]
  },
  {
   "cell_type": "code",
   "execution_count": null,
   "id": "ac5a0983",
   "metadata": {},
   "outputs": [],
   "source": []
  }
 ],
 "metadata": {
  "kernelspec": {
   "display_name": "base",
   "language": "python",
   "name": "python3"
  },
  "language_info": {
   "codemirror_mode": {
    "name": "ipython",
    "version": 3
   },
   "file_extension": ".py",
   "mimetype": "text/x-python",
   "name": "python",
   "nbconvert_exporter": "python",
   "pygments_lexer": "ipython3",
   "version": "3.11.5"
  }
 },
 "nbformat": 4,
 "nbformat_minor": 5
}

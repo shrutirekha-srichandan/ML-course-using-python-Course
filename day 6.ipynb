{
 "cells": [
  {
   "cell_type": "markdown",
   "id": "12cebb74",
   "metadata": {},
   "source": [
    "# Day - 6 (21-05-2025)"
   ]
  },
  {
   "cell_type": "markdown",
   "id": "1a6506b5",
   "metadata": {},
   "source": [
    "## Break Statement"
   ]
  },
  {
   "cell_type": "code",
   "execution_count": 9,
   "id": "78758198",
   "metadata": {},
   "outputs": [
    {
     "name": "stdout",
     "output_type": "stream",
     "text": [
      "K\n",
      "n\n",
      "o\n",
      "w\n",
      "l\n",
      "e\n",
      "d\n",
      "g\n",
      "e\n",
      "The for loop stopped executing\n"
     ]
    }
   ],
   "source": [
    "# declare a string variable\n",
    "\n",
    "text = \"Knowledgehut\"\n",
    "for letter in text:\n",
    "    if(letter == 'h'):\n",
    "        break\n",
    "    print(letter)\n",
    "print(\"The for loop stopped executing\")"
   ]
  },
  {
   "cell_type": "markdown",
   "id": "54f7a81c",
   "metadata": {},
   "source": [
    "## Continue statement"
   ]
  },
  {
   "cell_type": "code",
   "execution_count": 12,
   "id": "5a8f7b34",
   "metadata": {},
   "outputs": [
    {
     "name": "stdout",
     "output_type": "stream",
     "text": [
      "K\n",
      "n\n",
      "o\n",
      "w\n",
      "l\n",
      "e\n",
      "d\n",
      "g\n",
      "e\n",
      "The loop skipped as a space encountered\n",
      "h\n",
      "u\n",
      "t\n",
      "The for loop stopped executing\n"
     ]
    }
   ],
   "source": [
    "# declare a string variable\n",
    "\n",
    "text = \"Knowledge hut\"\n",
    "for letter in text:\n",
    "    if(letter == ' '):\n",
    "        print(\"The loop skipped as a space encountered\")\n",
    "        continue\n",
    "    print(letter)\n",
    "print(\"The for loop stopped executing\")"
   ]
  },
  {
   "cell_type": "markdown",
   "id": "22fcb6d0",
   "metadata": {},
   "source": [
    "## Nested For Loop"
   ]
  },
  {
   "cell_type": "code",
   "execution_count": 15,
   "id": "17988bb2",
   "metadata": {},
   "outputs": [
    {
     "name": "stdout",
     "output_type": "stream",
     "text": [
      "enter the number of levels: 3\n",
      "1 \n",
      "\n",
      "2 2 \n",
      "\n",
      "3 3 3 \n",
      "\n"
     ]
    }
   ],
   "source": [
    "# Number pyramid\n",
    "# print a number pattern using a for loop and range function\n",
    "# take levels from user\n",
    "levels = int(input(\"enter the number of levels: \"))\n",
    "for levels in range(1,levels+1):\n",
    "    for num in range (levels):\n",
    "        print(levels, end=\" \") #print numbers\n",
    "    print(\"\\n\")"
   ]
  },
  {
   "cell_type": "markdown",
   "id": "c3a3a8cd",
   "metadata": {},
   "source": [
    "## Built In function"
   ]
  },
  {
   "cell_type": "code",
   "execution_count": 17,
   "id": "87445266",
   "metadata": {},
   "outputs": [
    {
     "name": "stdout",
     "output_type": "stream",
     "text": [
      "Enter your name : shrutirekha srichandan\n",
      "Hii  shrutirekha srichandan\n"
     ]
    }
   ],
   "source": [
    "# the input() in python\n",
    "name = input(\"Enter your name : \")\n",
    "print(\"Hii \",name)"
   ]
  },
  {
   "cell_type": "markdown",
   "id": "d7229d95",
   "metadata": {},
   "source": [
    "## User Defined function"
   ]
  },
  {
   "cell_type": "code",
   "execution_count": 20,
   "id": "90f86f5a",
   "metadata": {},
   "outputs": [
    {
     "name": "stdout",
     "output_type": "stream",
     "text": [
      "Enter your name : padma\n",
      "Hello  padma\n"
     ]
    }
   ],
   "source": [
    "def greet(name):\n",
    "    print(\"Hello \",name)\n",
    "\n",
    "name = input(\"Enter your name : \")\n",
    "greet(name)"
   ]
  },
  {
   "cell_type": "markdown",
   "id": "1a530dd5",
   "metadata": {},
   "source": [
    "## Lambda function"
   ]
  },
  {
   "cell_type": "code",
   "execution_count": 21,
   "id": "9df72941",
   "metadata": {},
   "outputs": [
    {
     "name": "stdout",
     "output_type": "stream",
     "text": [
      "64\n"
     ]
    }
   ],
   "source": [
    "s = lambda x:x*x\n",
    "print(s(8))"
   ]
  },
  {
   "cell_type": "code",
   "execution_count": null,
   "id": "918ceaec",
   "metadata": {},
   "outputs": [],
   "source": []
  }
 ],
 "metadata": {
  "kernelspec": {
   "display_name": "Python 3 (ipykernel)",
   "language": "python",
   "name": "python3"
  },
  "language_info": {
   "codemirror_mode": {
    "name": "ipython",
    "version": 3
   },
   "file_extension": ".py",
   "mimetype": "text/x-python",
   "name": "python",
   "nbconvert_exporter": "python",
   "pygments_lexer": "ipython3",
   "version": "3.11.5"
  }
 },
 "nbformat": 4,
 "nbformat_minor": 5
}

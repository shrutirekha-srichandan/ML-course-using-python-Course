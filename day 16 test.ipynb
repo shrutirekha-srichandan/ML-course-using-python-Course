{
 "cells": [
  {
   "cell_type": "markdown",
   "id": "5426668c",
   "metadata": {},
   "source": [
    "NumPy"
   ]
  },
  {
   "cell_type": "code",
   "execution_count": 2,
   "id": "2b933bbe",
   "metadata": {},
   "outputs": [],
   "source": [
    "import numpy as np\n",
    "import pandas as pd"
   ]
  },
  {
   "cell_type": "markdown",
   "id": "04ab14a2",
   "metadata": {},
   "source": [
    "1.Create a 1D array from a list.\n"
   ]
  },
  {
   "cell_type": "code",
   "execution_count": 3,
   "id": "18ac6dee",
   "metadata": {},
   "outputs": [
    {
     "name": "stdout",
     "output_type": "stream",
     "text": [
      "[1 2 3 4 5]\n"
     ]
    }
   ],
   "source": [
    "list = [1,2,3,4,5]\n",
    "arr = np.array(list)\n",
    "print(arr)"
   ]
  },
  {
   "cell_type": "markdown",
   "id": "6685e60b",
   "metadata": {},
   "source": [
    "2. Create a 3x3 array of zeros.\n"
   ]
  },
  {
   "cell_type": "code",
   "execution_count": 4,
   "id": "54b2d01e",
   "metadata": {},
   "outputs": [
    {
     "data": {
      "text/plain": [
       "array([[0., 0., 0.],\n",
       "       [0., 0., 0.],\n",
       "       [0., 0., 0.]])"
      ]
     },
     "execution_count": 4,
     "metadata": {},
     "output_type": "execute_result"
    }
   ],
   "source": [
    "arr = np.zeros((3,3))\n",
    "arr"
   ]
  },
  {
   "cell_type": "markdown",
   "id": "4b3228e3",
   "metadata": {},
   "source": [
    "3. Create a 2x2 array of ones."
   ]
  },
  {
   "cell_type": "code",
   "execution_count": 5,
   "id": "4ceb5558",
   "metadata": {},
   "outputs": [
    {
     "data": {
      "text/plain": [
       "array([[1., 1.],\n",
       "       [1., 1.]])"
      ]
     },
     "execution_count": 5,
     "metadata": {},
     "output_type": "execute_result"
    }
   ],
   "source": [
    "arr = np.ones((2,2))\n",
    "arr"
   ]
  },
  {
   "cell_type": "markdown",
   "id": "216a6008",
   "metadata": {},
   "source": [
    "4. Generate array from 0 to 10 (exclusive)."
   ]
  },
  {
   "cell_type": "code",
   "execution_count": 6,
   "id": "c47d89a5",
   "metadata": {},
   "outputs": [
    {
     "data": {
      "text/plain": [
       "array([ 0,  1,  2,  3,  4,  5,  6,  7,  8,  9, 10])"
      ]
     },
     "execution_count": 6,
     "metadata": {},
     "output_type": "execute_result"
    }
   ],
   "source": [
    "arr = np.arange(0,11)\n",
    "arr"
   ]
  },
  {
   "cell_type": "markdown",
   "id": "33fc220e",
   "metadata": {},
   "source": [
    "5. Create 5 evenly spaced numbers between 0 and 1.\n"
   ]
  },
  {
   "cell_type": "code",
   "execution_count": 7,
   "id": "cde44023",
   "metadata": {},
   "outputs": [
    {
     "data": {
      "text/plain": [
       "array([0.  , 0.25, 0.5 , 0.75, 1.  ])"
      ]
     },
     "execution_count": 7,
     "metadata": {},
     "output_type": "execute_result"
    }
   ],
   "source": [
    "arr = np.linspace(0,1,5)\n",
    "arr"
   ]
  },
  {
   "cell_type": "markdown",
   "id": "36beae34",
   "metadata": {},
   "source": [
    "6. Create a 4x4 identity matrix."
   ]
  },
  {
   "cell_type": "code",
   "execution_count": 8,
   "id": "ffa72181",
   "metadata": {},
   "outputs": [
    {
     "data": {
      "text/plain": [
       "array([[1., 0., 0., 0.],\n",
       "       [0., 1., 0., 0.],\n",
       "       [0., 0., 1., 0.],\n",
       "       [0., 0., 0., 1.]])"
      ]
     },
     "execution_count": 8,
     "metadata": {},
     "output_type": "execute_result"
    }
   ],
   "source": [
    "arr = np.eye(4)\n",
    "arr"
   ]
  },
  {
   "cell_type": "markdown",
   "id": "f98bcaf1",
   "metadata": {},
   "source": [
    "7. Reshape 1D array to 2D."
   ]
  },
  {
   "cell_type": "code",
   "execution_count": 9,
   "id": "9625634d",
   "metadata": {},
   "outputs": [
    {
     "name": "stdout",
     "output_type": "stream",
     "text": [
      "[1 2 3 4]\n"
     ]
    },
    {
     "data": {
      "text/plain": [
       "array([[1, 2],\n",
       "       [3, 4]])"
      ]
     },
     "execution_count": 9,
     "metadata": {},
     "output_type": "execute_result"
    }
   ],
   "source": [
    "arr1d= np.array([1,2,3,4])\n",
    "print(arr1d)\n",
    "\n",
    "arr2d = arr1d.reshape((2,2))\n",
    "arr2d"
   ]
  },
  {
   "cell_type": "markdown",
   "id": "7d03d242",
   "metadata": {},
   "source": [
    "8. Get the shape and dtype of an array."
   ]
  },
  {
   "cell_type": "code",
   "execution_count": 10,
   "id": "9644c504",
   "metadata": {},
   "outputs": [
    {
     "name": "stdout",
     "output_type": "stream",
     "text": [
      "(2, 2)\n",
      "int64\n"
     ]
    }
   ],
   "source": [
    "print(arr2d.shape)\n",
    "print(arr1d.dtype)"
   ]
  },
  {
   "cell_type": "markdown",
   "id": "f8ac921f",
   "metadata": {},
   "source": [
    "9. Reverse a NumPy array."
   ]
  },
  {
   "cell_type": "code",
   "execution_count": 11,
   "id": "134a60c5",
   "metadata": {},
   "outputs": [
    {
     "name": "stdout",
     "output_type": "stream",
     "text": [
      "[1 2 3]\n"
     ]
    },
    {
     "data": {
      "text/plain": [
       "array([3, 2, 1])"
      ]
     },
     "execution_count": 11,
     "metadata": {},
     "output_type": "execute_result"
    }
   ],
   "source": [
    "arr2d = np.array([1,2,3])\n",
    "print(arr2d)\n",
    "revarr = arr2d[::-1]\n",
    "revarr"
   ]
  },
  {
   "cell_type": "markdown",
   "id": "5af24276",
   "metadata": {},
   "source": [
    "10. Extract even numbers from an array."
   ]
  },
  {
   "cell_type": "code",
   "execution_count": 12,
   "id": "17b3d27a",
   "metadata": {},
   "outputs": [
    {
     "name": "stdout",
     "output_type": "stream",
     "text": [
      "[0 2 4 2 6 8]\n"
     ]
    }
   ],
   "source": [
    "arr = np.array([0,2,3,4,2,6,9,7,8])\n",
    "n = arr.size\n",
    "evenarr =arr[arr%2==0]\n",
    "print(evenarr)\n"
   ]
  },
  {
   "cell_type": "markdown",
   "id": "e49ee456",
   "metadata": {},
   "source": [
    "11. Find the max in each row."
   ]
  },
  {
   "cell_type": "code",
   "execution_count": 13,
   "id": "b717e715",
   "metadata": {},
   "outputs": [
    {
     "name": "stdout",
     "output_type": "stream",
     "text": [
      "[[ 1  2  3]\n",
      " [11 23 12]]\n",
      "Maximum elements along rows: [ 3 23]\n"
     ]
    }
   ],
   "source": [
    "arr = np.array([[1,2,3],[11,23,12]])\n",
    "print(arr)\n",
    "max = arr.max(axis = 1)  # Max along rows\n",
    "print(\"Maximum elements along rows:\", max)"
   ]
  },
  {
   "cell_type": "markdown",
   "id": "af60589c",
   "metadata": {},
   "source": [
    "12. Compute the mean, std, and median of an array.\n"
   ]
  },
  {
   "cell_type": "code",
   "execution_count": 14,
   "id": "f8a0ef95",
   "metadata": {},
   "outputs": [
    {
     "name": "stdout",
     "output_type": "stream",
     "text": [
      "Array 1D:  [1, 2, 3, 4, 5, 6, 7]\n",
      "Array : \n",
      " [[1 2 3]\n",
      " [4 5 6]]\n",
      "Mean of arr2d: 3.5\n",
      "median of arr2d: 4.0\n",
      "standard deviation of arr2d: 1.707825127659933\n"
     ]
    }
   ],
   "source": [
    "arr2d = np.array([[1,2,3],[4,5,6]])\n",
    "arr1d =[1,2,3,4,5,6,7]\n",
    "print(\"Array 1D: \", arr1d)\n",
    "print(\"Array : \\n\",arr2d)\n",
    "print(f\"Mean of arr2d: {arr2d.mean()}\")\n",
    "print(f\"median of arr2d: {np.median(arr1d)}\")\n",
    "print(f\"standard deviation of arr2d: {arr2d.std()}\")"
   ]
  },
  {
   "cell_type": "markdown",
   "id": "872d701b",
   "metadata": {},
   "source": [
    "13. Stack two arrays vertically."
   ]
  },
  {
   "cell_type": "code",
   "execution_count": 15,
   "id": "744f3d61",
   "metadata": {},
   "outputs": [
    {
     "name": "stdout",
     "output_type": "stream",
     "text": [
      "Stacked array along vertically:\n",
      " [[11 20]\n",
      " [23 30]\n",
      " [12 40]]\n"
     ]
    }
   ],
   "source": [
    "arr1 = np.array([11,23,12])\n",
    "arr2 = np.array([20,30,40])\n",
    "stack_arr = np.stack((arr1,arr2),axis=1)\n",
    "print(\"Stacked array along vertically:\\n\", stack_arr)"
   ]
  },
  {
   "cell_type": "markdown",
   "id": "533a16f7",
   "metadata": {},
   "source": [
    "14. Stack two arrays horizontally."
   ]
  },
  {
   "cell_type": "code",
   "execution_count": 16,
   "id": "f86aee9e",
   "metadata": {},
   "outputs": [
    {
     "name": "stdout",
     "output_type": "stream",
     "text": [
      "[[11 23 12]\n",
      " [20 30 40]]\n"
     ]
    }
   ],
   "source": [
    "stack_arrh =np.stack((arr1,arr2),axis=0)\n",
    "print(stack_arrh)"
   ]
  },
  {
   "cell_type": "markdown",
   "id": "82160fef",
   "metadata": {},
   "source": [
    "15. Stack two arrays horizontally.\n"
   ]
  },
  {
   "cell_type": "code",
   "execution_count": 17,
   "id": "eb4f6779",
   "metadata": {},
   "outputs": [
    {
     "name": "stdout",
     "output_type": "stream",
     "text": [
      "[[1 2 3]\n",
      " [4 5 6]]\n"
     ]
    }
   ],
   "source": [
    "arr1 = np.array([1,2,3])\n",
    "arr2 = np.array([4,5,6])\n",
    "stack_arrh =np.stack((arr1,arr2),axis=0)\n",
    "print(stack_arrh)"
   ]
  },
  {
   "cell_type": "markdown",
   "id": "4e877ea8",
   "metadata": {},
   "source": [
    "16. Find the unique values and their counts.\n"
   ]
  },
  {
   "cell_type": "code",
   "execution_count": 18,
   "id": "8072fdeb",
   "metadata": {},
   "outputs": [
    {
     "name": "stdout",
     "output_type": "stream",
     "text": [
      "Unique elements in the array: [1 2 3 4 5]\n",
      "Counts of unique elements: [3 5 3 1 1]\n"
     ]
    }
   ],
   "source": [
    "arr = np.array([1,2,3,4,5,1,2,3,1,2,3,2,2])\n",
    "# unique_arr = np.unique(arr)\n",
    "unique,count= np.unique(arr, return_counts=True)\n",
    "# print(\"Unique elements in the array:\", unique_arr)\n",
    "print(\"Unique elements in the array:\", unique)\n",
    "print(\"Counts of unique elements:\", count)\n"
   ]
  },
  {
   "cell_type": "markdown",
   "id": "879b38d0",
   "metadata": {},
   "source": [
    "17. Replace NaN with column means.\n"
   ]
  },
  {
   "cell_type": "code",
   "execution_count": 19,
   "id": "bf7574c6",
   "metadata": {},
   "outputs": [
    {
     "name": "stdout",
     "output_type": "stream",
     "text": [
      "Original array with NaN values:\n",
      " [[ 1. nan  3.  4.  5.]\n",
      " [ 1.  2. nan  4.  5.]\n",
      " [ 1.  3.  3.  4.  5.]]\n",
      "Array after replacing NaN with column means:\n",
      " [[1.  2.5 3.  4.  5. ]\n",
      " [1.  2.  3.  4.  5. ]\n",
      " [1.  3.  3.  4.  5. ]]\n"
     ]
    }
   ],
   "source": [
    "arr = np.array([[1,np.nan,3,4,5],[1,2,np.nan,4,5],[1,3,3,4,5]])\n",
    "print(\"Original array with NaN values:\\n\", arr)\n",
    "print(\"Array after replacing NaN with column means:\\n\", np.where(np.isnan(arr), np.nanmean(arr, axis=0), arr))\n"
   ]
  },
  {
   "cell_type": "markdown",
   "id": "9fa051df",
   "metadata": {},
   "source": [
    "18. Get index of min and max values.\n"
   ]
  },
  {
   "cell_type": "code",
   "execution_count": 20,
   "id": "42d1790b",
   "metadata": {},
   "outputs": [
    {
     "name": "stdout",
     "output_type": "stream",
     "text": [
      "Original array: [ 1  2  3  4  5  0 -3 44]\n",
      "Index of minimum value in the array: 6\n",
      "Index of maximum value in the array: 7\n"
     ]
    }
   ],
   "source": [
    "arr = np.array([1,2,3,4,5,0,-3,44])\n",
    "print(\"Original array:\", arr)\n",
    "# index of Minimum value in the array\n",
    "min_value_index = np.argmin(arr)\n",
    "print(\"Index of minimum value in the array:\", min_value_index)\n",
    "# index of Maximum value in the array\n",
    "max_value_index = np.argmax(arr)\n",
    "print(\"Index of maximum value in the array:\", max_value_index)\n"
   ]
  },
  {
   "cell_type": "markdown",
   "id": "ea1257d4",
   "metadata": {},
   "source": [
    "19. Create a 3D array of random integers.\n",
    "\n"
   ]
  },
  {
   "cell_type": "code",
   "execution_count": 21,
   "id": "07040630",
   "metadata": {},
   "outputs": [
    {
     "data": {
      "text/plain": [
       "array([[[7, 8],\n",
       "        [3, 4],\n",
       "        [7, 8]],\n",
       "\n",
       "       [[9, 0],\n",
       "        [6, 9],\n",
       "        [0, 6]],\n",
       "\n",
       "       [[5, 4],\n",
       "        [7, 5],\n",
       "        [6, 5]]], dtype=int32)"
      ]
     },
     "execution_count": 21,
     "metadata": {},
     "output_type": "execute_result"
    }
   ],
   "source": [
    "arr3d = np.random.randint(0, 10, (3, 3, 2))\n",
    "arr3d\n"
   ]
  },
  {
   "cell_type": "markdown",
   "id": "61844a5c",
   "metadata": {},
   "source": [
    "20. Use np.where() to replace values\n"
   ]
  },
  {
   "cell_type": "code",
   "execution_count": 22,
   "id": "83bd2cb6",
   "metadata": {},
   "outputs": [
    {
     "name": "stdout",
     "output_type": "stream",
     "text": [
      "[[1 2 3]\n",
      " [4 5 6]]\n",
      "[[0 0 0]\n",
      " [0 0 6]]\n"
     ]
    }
   ],
   "source": [
    "arr2d = np.array([[1,2,3],[4,5,6]])\n",
    "print(arr2d)\n",
    "print(np.where(arr2d > 5,arr2d,0))"
   ]
  },
  {
   "cell_type": "markdown",
   "id": "2f74ec47",
   "metadata": {
    "vscode": {
     "languageId": "plaintext"
    }
   },
   "source": [
    "Pandas"
   ]
  },
  {
   "cell_type": "markdown",
   "id": "30bece49",
   "metadata": {},
   "source": [
    "1. Create a Series using a Python list.\n"
   ]
  },
  {
   "cell_type": "code",
   "execution_count": 23,
   "id": "a03750e5",
   "metadata": {},
   "outputs": [
    {
     "name": "stdout",
     "output_type": "stream",
     "text": [
      "0    1\n",
      "1    2\n",
      "2    3\n",
      "3    4\n",
      "4    5\n",
      "dtype: int64\n"
     ]
    }
   ],
   "source": [
    "s = pd.Series([1,2,3,4,5])\n",
    "print(s)"
   ]
  },
  {
   "cell_type": "markdown",
   "id": "9a7038c5",
   "metadata": {},
   "source": [
    "2. Create a Series with custom string indices.\n",
    "\n",
    "\n"
   ]
  },
  {
   "cell_type": "code",
   "execution_count": 24,
   "id": "d368b040",
   "metadata": {},
   "outputs": [
    {
     "name": "stdout",
     "output_type": "stream",
     "text": [
      "a    1\n",
      "b    2\n",
      "c    3\n",
      "d    4\n",
      "e    5\n",
      "dtype: int64\n"
     ]
    }
   ],
   "source": [
    "data =[1,2,3,4,5]\n",
    "s1 = pd.Series(data,index=['a','b','c','d','e'])\n",
    "print(s1)"
   ]
  },
  {
   "cell_type": "markdown",
   "id": "19ae6db0",
   "metadata": {},
   "source": [
    "3. Create a Series from a dictionary.\n"
   ]
  },
  {
   "cell_type": "code",
   "execution_count": 25,
   "id": "516f062f",
   "metadata": {},
   "outputs": [
    {
     "name": "stdout",
     "output_type": "stream",
     "text": [
      "a    1\n",
      "b    2\n",
      "c    3\n",
      "dtype: int64\n"
     ]
    }
   ],
   "source": [
    "dict = {'a':1,'b':2,'c':3}\n",
    "s2 = pd.Series(dict)\n",
    "print(s2)"
   ]
  },
  {
   "cell_type": "markdown",
   "id": "d505873f",
   "metadata": {},
   "source": [
    "4. Access first 3 elements of a Series.\n"
   ]
  },
  {
   "cell_type": "code",
   "execution_count": 26,
   "id": "0ccb07a0",
   "metadata": {},
   "outputs": [
    {
     "name": "stdout",
     "output_type": "stream",
     "text": [
      "0     1\n",
      "1     2\n",
      "2     3\n",
      "3     4\n",
      "4     5\n",
      "5     6\n",
      "6     7\n",
      "7     8\n",
      "8     9\n",
      "9    10\n",
      "dtype: int64\n",
      "\n",
      " First 3 elements of the Series:\n",
      "\n"
     ]
    },
    {
     "data": {
      "text/plain": [
       "0    1\n",
       "1    2\n",
       "2    3\n",
       "dtype: int64"
      ]
     },
     "execution_count": 26,
     "metadata": {},
     "output_type": "execute_result"
    }
   ],
   "source": [
    "s3 = pd.Series([1,2,3,4,5,6,7,8,9,10])\n",
    "print(s3)\n",
    "print('\\n First 3 elements of the Series:\\n')\n",
    "s3.head(3)"
   ]
  },
  {
   "cell_type": "markdown",
   "id": "8f759ac0",
   "metadata": {},
   "source": [
    "5. Filter Series elements greater than 50.\n",
    "\n"
   ]
  },
  {
   "cell_type": "code",
   "execution_count": 27,
   "id": "8aae9129",
   "metadata": {},
   "outputs": [
    {
     "name": "stdout",
     "output_type": "stream",
     "text": [
      "Original Series:\n",
      " 0      1\n",
      "1      2\n",
      "2      3\n",
      "3      4\n",
      "4     50\n",
      "5     55\n",
      "6      6\n",
      "7      7\n",
      "8     80\n",
      "9     90\n",
      "10    10\n",
      "dtype: int64\n",
      "Elements greater than 50:\n",
      " 5    55\n",
      "8    80\n",
      "9    90\n",
      "dtype: int64\n"
     ]
    }
   ],
   "source": [
    "s= pd.Series([1,2,3,4,50,55,6,7,80,90,10])\n",
    "print(\"Original Series:\\n\", s)\n",
    "print(\"Elements greater than 50:\\n\",s[s>50])"
   ]
  },
  {
   "cell_type": "markdown",
   "id": "86562d48",
   "metadata": {},
   "source": [
    "6. Add two Series with different indices.\n",
    "\n"
   ]
  },
  {
   "cell_type": "code",
   "execution_count": 28,
   "id": "67697ea1",
   "metadata": {},
   "outputs": [
    {
     "name": "stdout",
     "output_type": "stream",
     "text": [
      "Sum of two Series:\n",
      " 0     7.0\n",
      "1     9.0\n",
      "2    11.0\n",
      "3    13.0\n",
      "4    15.0\n",
      "5     NaN\n",
      "6     NaN\n",
      "dtype: float64\n"
     ]
    }
   ],
   "source": [
    "s1 =pd.Series([1,2,3,4,5])\n",
    "s2 = pd.Series([6,7,8,9,10,11,12])\n",
    "s3 = s1 + s2\n",
    "print(\"Sum of two Series:\\n\", s3)"
   ]
  },
  {
   "cell_type": "code",
   "execution_count": 29,
   "id": "39a9143a",
   "metadata": {},
   "outputs": [
    {
     "data": {
      "text/plain": [
       "0     7.0\n",
       "1     9.0\n",
       "2    11.0\n",
       "3    13.0\n",
       "4    15.0\n",
       "5    11.0\n",
       "6    12.0\n",
       "dtype: float64"
      ]
     },
     "execution_count": 29,
     "metadata": {},
     "output_type": "execute_result"
    }
   ],
   "source": [
    "s1.add(s2, fill_value=0)  # Adding with fill_value for different lengths"
   ]
  },
  {
   "cell_type": "markdown",
   "id": "b09aa6fa",
   "metadata": {},
   "source": [
    "\n",
    "7. Multiply a Series by a scalar.\n"
   ]
  },
  {
   "cell_type": "code",
   "execution_count": 30,
   "id": "0aa982d1",
   "metadata": {},
   "outputs": [
    {
     "name": "stdout",
     "output_type": "stream",
     "text": [
      "Original Series:\n",
      " 0    1\n",
      "1    2\n",
      "2    3\n",
      "3    4\n",
      "4    5\n",
      "dtype: int64\n",
      "series multiply by 2:\n",
      " 0     2\n",
      "1     4\n",
      "2     6\n",
      "3     8\n",
      "4    10\n",
      "dtype: int64\n"
     ]
    }
   ],
   "source": [
    "series = pd.Series([1,2,3,4,5])\n",
    "print(\"Original Series:\\n\", series)\n",
    "print(\"series multiply by 2:\\n\",series*2)"
   ]
  },
  {
   "cell_type": "markdown",
   "id": "18f4cc3d",
   "metadata": {},
   "source": [
    "8. Use .multiply() method to multiply with scalar.\n"
   ]
  },
  {
   "cell_type": "code",
   "execution_count": 31,
   "id": "a1e35793",
   "metadata": {},
   "outputs": [
    {
     "data": {
      "text/plain": [
       "0     2\n",
       "1     4\n",
       "2     6\n",
       "3     8\n",
       "4    10\n",
       "dtype: int64"
      ]
     },
     "execution_count": 31,
     "metadata": {},
     "output_type": "execute_result"
    }
   ],
   "source": [
    "s = pd.Series([1,2,3,4,5])\n",
    "s.multiply(2)"
   ]
  },
  {
   "cell_type": "markdown",
   "id": "ef461afc",
   "metadata": {},
   "source": [
    "10. Sort Series by values descending.\n"
   ]
  },
  {
   "cell_type": "code",
   "execution_count": 32,
   "id": "130d7ffe",
   "metadata": {},
   "outputs": [
    {
     "name": "stdout",
     "output_type": "stream",
     "text": [
      "Original Series:\n",
      " 0     1\n",
      "1    20\n",
      "2    30\n",
      "3     4\n",
      "4     5\n",
      "dtype: int64\n",
      "sorted series: \n",
      " 0     1\n",
      "3     4\n",
      "4     5\n",
      "1    20\n",
      "2    30\n",
      "dtype: int64\n"
     ]
    }
   ],
   "source": [
    "s = pd.Series([1,20,30,4,5])\n",
    "print(\"Original Series:\\n\", s)\n",
    "print(\"sorted series: \\n\",s.sort_values())"
   ]
  },
  {
   "cell_type": "markdown",
   "id": "9cd5b813",
   "metadata": {},
   "source": [
    "11. Sort Series by index.\n"
   ]
  },
  {
   "cell_type": "code",
   "execution_count": 33,
   "id": "0b77f1b0",
   "metadata": {},
   "outputs": [
    {
     "name": "stdout",
     "output_type": "stream",
     "text": [
      "Original Series with custom index:\n",
      " 1    1\n",
      "2    2\n",
      "4    3\n",
      "5    4\n",
      "3    5\n",
      "dtype: int64\n",
      "Sorted Series by index:\n",
      " 1    1\n",
      "2    2\n",
      "3    5\n",
      "4    3\n",
      "5    4\n",
      "dtype: int64\n"
     ]
    }
   ],
   "source": [
    "s = pd.Series([1,2,3,4,5],index = [1,2,4,5,3])\n",
    "print(\"Original Series with custom index:\\n\", s)\n",
    "print(\"Sorted Series by index:\\n\", s.sort_index())"
   ]
  },
  {
   "cell_type": "markdown",
   "id": "da4cc61b",
   "metadata": {},
   "source": [
    "12. Check for null values.\n",
    "\n"
   ]
  },
  {
   "cell_type": "markdown",
   "id": "6c34d1a5",
   "metadata": {},
   "source": [
    "14. Concatenate two Series using concat().\n"
   ]
  },
  {
   "cell_type": "markdown",
   "id": "ec9793a2",
   "metadata": {},
   "source": [
    "15. Concatenate two Series using append().\n"
   ]
  },
  {
   "cell_type": "markdown",
   "id": "640d8e91",
   "metadata": {},
   "source": [
    "16. Retrieve first 5 elements using .head()\n",
    "\n"
   ]
  },
  {
   "cell_type": "markdown",
   "id": "70fddb7b",
   "metadata": {},
   "source": [
    "17. Retrieve last 5 elements using .tail()\n"
   ]
  },
  {
   "cell_type": "markdown",
   "id": "2294bda2",
   "metadata": {},
   "source": [
    "18. Convert Series to DataFrame.\n"
   ]
  },
  {
   "cell_type": "markdown",
   "id": "fae5cb5e",
   "metadata": {},
   "source": [
    "19. Replace NaN with 0.\n"
   ]
  },
  {
   "cell_type": "markdown",
   "id": "410fb0f9",
   "metadata": {},
   "source": [
    "20. Drop missing values.\n"
   ]
  },
  {
   "cell_type": "markdown",
   "id": "8cd11f96",
   "metadata": {},
   "source": [
    "21. Check Series data type.\n",
    "\n"
   ]
  },
  {
   "cell_type": "markdown",
   "id": "4cbe802e",
   "metadata": {},
   "source": []
  }
 ],
 "metadata": {
  "kernelspec": {
   "display_name": "Python 3",
   "language": "python",
   "name": "python3"
  },
  "language_info": {
   "codemirror_mode": {
    "name": "ipython",
    "version": 3
   },
   "file_extension": ".py",
   "mimetype": "text/x-python",
   "name": "python",
   "nbconvert_exporter": "python",
   "pygments_lexer": "ipython3",
   "version": "3.13.1"
  }
 },
 "nbformat": 4,
 "nbformat_minor": 5
}

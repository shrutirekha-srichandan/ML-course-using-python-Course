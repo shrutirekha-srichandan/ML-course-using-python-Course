{
 "cells": [
  {
   "cell_type": "markdown",
   "id": "eff71c08",
   "metadata": {},
   "source": [
    "## Day 9 "
   ]
  },
  {
   "cell_type": "markdown",
   "id": "83eac992",
   "metadata": {},
   "source": [
    "### File Handling"
   ]
  },
  {
   "cell_type": "code",
   "execution_count": null,
   "id": "169a8fa9",
   "metadata": {},
   "outputs": [],
   "source": [
    "# f = open(\"file_handling\\sample.txt\", \"r\")\n",
    "# content = f.read()\n",
    "# print(content)\n",
    "# f.close()\n",
    "\n",
    "# f = open(\"file_handling\\sample.txt\", \"w\")\n",
    "# f.write(\"This is a new line added to the file.\\n\")\n",
    "# f.write(\"Appending another line to the file.\\n\")\n",
    "# f.close()\n",
    "\n",
    "# lines = [\"Line A\\n\", \"Line B\\n\", \"Line C\\n\"]\n",
    "# f = open(\"file_handling\\sample.txt\", \"w\")\n",
    "# f.writelines(lines)\n",
    "# f.close()\n",
    "\n",
    "# f = open(\"file_handling/sample.txt\", \"a\")\n",
    "# f.write(\"This is an appended line.\\n\")\n",
    "# f.close()\n",
    "\n",
    "# with open(\"file_handling/sample.txt\", \"r\") as f: \n",
    "#     content = f.read()\n",
    "#     print(content)\n",
    "\n",
    "# import os\n",
    "# if os.path.exists(\"file_handling/sample.txt\"):\n",
    "#     print(\"File exists.\")\n",
    "# else:\n",
    "#     print(\"File does not exist.\")\n",
    "\n",
    "# os.rename(\"file_handling/sample.txt\", \"file_handling/renamed_sample.txt\")\n",
    "\n",
    "# os.remove(\"file.text\")\n",
    "# print(os.getcwd())\n",
    "\n",
    "# os.chdir(\"C://Users/jueld/Documents\")"
   ]
  },
  {
   "cell_type": "code",
   "execution_count": null,
   "id": "4fec446b",
   "metadata": {},
   "outputs": [],
   "source": [
    "#list file directory\n",
    "# files = os.listdir()\n",
    "# print(files)\n",
    "\n",
    "# make a new directory\n",
    "#os.mkdir(\"new_folder2\")\n",
    "\n",
    "# remove dirctory\n",
    "# os.rmdir(\"new_folder\")"
   ]
  }
 ],
 "metadata": {
  "kernelspec": {
   "display_name": "base",
   "language": "python",
   "name": "python3"
  },
  "language_info": {
   "name": "python",
   "version": "3.11.5"
  }
 },
 "nbformat": 4,
 "nbformat_minor": 5
}

{
 "cells": [
  {
   "cell_type": "code",
   "execution_count": 1,
   "id": "dde099aa",
   "metadata": {},
   "outputs": [],
   "source": [
    "import numpy as np"
   ]
  },
  {
   "cell_type": "code",
   "execution_count": 17,
   "id": "035afa12",
   "metadata": {},
   "outputs": [
    {
     "name": "stdout",
     "output_type": "stream",
     "text": [
      "[8 8 6 2 8]\n"
     ]
    }
   ],
   "source": [
    "np.random.seed(2)  # Set seed for reproducibility (value repeated)\n",
    "arr = np.random.randint(0, 10, 5)\n",
    "print(arr)"
   ]
  },
  {
   "cell_type": "code",
   "execution_count": 24,
   "id": "49bf3835",
   "metadata": {},
   "outputs": [
    {
     "name": "stdout",
     "output_type": "stream",
     "text": [
      "[[1 2 3]\n",
      " [4 5 6]]\n",
      "Data Type =  int64\n",
      "Shape =  (2, 3)\n",
      "Dimension =  2\n",
      "Array Size =  6\n",
      "Item Size = 8\n"
     ]
    }
   ],
   "source": [
    "arr =np.array([[1, 2, 3],\n",
    "               [4, 5, 6]],dtype = np.int64)\n",
    "print(arr)\n",
    "print(\"Data Type = \",arr.dtype)  # Print the data type of the array\n",
    "print(\"Shape = \",arr.shape)  # Print the shape of the array\n",
    "print(\"Dimension = \",arr.ndim)   # Print the number of dimensions of the array\n",
    "print(\"Array Size = \",arr.size)   # Print the total number of elements in the array\n",
    "print(\"Item Size =\",arr.itemsize)  # Print the size in bytes of each element in the array"
   ]
  },
  {
   "cell_type": "markdown",
   "id": "a976c601",
   "metadata": {},
   "source": [
    "### Type conversion"
   ]
  },
  {
   "cell_type": "code",
   "execution_count": 28,
   "id": "d0fab89a",
   "metadata": {},
   "outputs": [
    {
     "name": "stdout",
     "output_type": "stream",
     "text": [
      "[[1 2 3]\n",
      " [4 5 6]]\n",
      "Data Type =  int32\n",
      "[[1. 2. 3.]\n",
      " [4. 5. 6.]]\n",
      "Data Type =  float64\n"
     ]
    }
   ],
   "source": [
    "arr =np.array([[1, 2, 3],\n",
    "               [4, 5, 6]],dtype = np.int32)\n",
    "print(arr)\n",
    "print(\"Data Type = \",arr.dtype)  # Print the data type of the array\n",
    "arr = arr.astype(np.float64)  # Convert the array to float64 type\n",
    "print(arr)\n",
    "print(\"Data Type = \",arr.dtype)  # Print the data type of the array after conversion\n"
   ]
  },
  {
   "cell_type": "code",
   "execution_count": 30,
   "id": "24697c29",
   "metadata": {},
   "outputs": [
    {
     "name": "stdout",
     "output_type": "stream",
     "text": [
      "Array1+Array2 =\n",
      "[[2 4 6]\n",
      " [5 7 9]]\n"
     ]
    }
   ],
   "source": [
    "arr1 =np.array([[1, 2, 3],\n",
    "               [4, 5, 6]])\n",
    "arr2 = np.array([1,2,3])\n",
    "print(\"Array1+Array2 =\")\n",
    "print(arr1+arr2)"
   ]
  }
 ],
 "metadata": {
  "kernelspec": {
   "display_name": "base",
   "language": "python",
   "name": "python3"
  },
  "language_info": {
   "codemirror_mode": {
    "name": "ipython",
    "version": 3
   },
   "file_extension": ".py",
   "mimetype": "text/x-python",
   "name": "python",
   "nbconvert_exporter": "python",
   "pygments_lexer": "ipython3",
   "version": "3.11.5"
  }
 },
 "nbformat": 4,
 "nbformat_minor": 5
}

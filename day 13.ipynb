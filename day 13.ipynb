{
 "cells": [
  {
   "cell_type": "markdown",
   "id": "7c5f0ea9",
   "metadata": {},
   "source": [
    "## Day 13"
   ]
  },
  {
   "cell_type": "markdown",
   "id": "7633b363",
   "metadata": {},
   "source": [
    "## pandas"
   ]
  },
  {
   "cell_type": "code",
   "execution_count": 2,
   "id": "7b5d5f8c",
   "metadata": {},
   "outputs": [
    {
     "name": "stdout",
     "output_type": "stream",
     "text": [
      "Requirement already satisfied: pandas in c:\\users\\kiit\\appdata\\local\\programs\\python\\python313\\lib\\site-packages (2.2.3)\n",
      "Requirement already satisfied: numpy>=1.26.0 in c:\\users\\kiit\\appdata\\local\\programs\\python\\python313\\lib\\site-packages (from pandas) (2.2.6)\n",
      "Requirement already satisfied: python-dateutil>=2.8.2 in c:\\users\\kiit\\appdata\\roaming\\python\\python313\\site-packages (from pandas) (2.9.0.post0)\n",
      "Requirement already satisfied: pytz>=2020.1 in c:\\users\\kiit\\appdata\\local\\programs\\python\\python313\\lib\\site-packages (from pandas) (2025.2)\n",
      "Requirement already satisfied: tzdata>=2022.7 in c:\\users\\kiit\\appdata\\local\\programs\\python\\python313\\lib\\site-packages (from pandas) (2025.2)\n",
      "Requirement already satisfied: six>=1.5 in c:\\users\\kiit\\appdata\\roaming\\python\\python313\\site-packages (from python-dateutil>=2.8.2->pandas) (1.17.0)\n"
     ]
    },
    {
     "name": "stderr",
     "output_type": "stream",
     "text": [
      "\n",
      "[notice] A new release of pip is available: 24.3.1 -> 25.1.1\n",
      "[notice] To update, run: python.exe -m pip install --upgrade pip\n"
     ]
    }
   ],
   "source": [
    "! pip install pandas"
   ]
  },
  {
   "cell_type": "code",
   "execution_count": 10,
   "id": "b1bc488f",
   "metadata": {},
   "outputs": [],
   "source": [
    "#import pandas\n",
    "import pandas as pd\n",
    "import numpy as np\n"
   ]
  },
  {
   "cell_type": "code",
   "execution_count": null,
   "id": "def5eecf",
   "metadata": {},
   "outputs": [
    {
     "name": "stdout",
     "output_type": "stream",
     "text": [
      "0    1\n",
      "1    2\n",
      "2    3\n",
      "3    4\n",
      "dtype: int64\n"
     ]
    }
   ],
   "source": [
    "#create a Series using python list \n",
    "s= pd.Series([1,2,3,4])\n",
    "print(s)"
   ]
  },
  {
   "cell_type": "code",
   "execution_count": 11,
   "id": "c8971c44",
   "metadata": {},
   "outputs": [
    {
     "name": "stdout",
     "output_type": "stream",
     "text": [
      "0    1\n",
      "1    2\n",
      "2    3\n",
      "3    4\n",
      "dtype: int64\n"
     ]
    }
   ],
   "source": [
    "arr = np.array([1,2,3,4])\n",
    "#create a Series using numpy array\n",
    "s1 = pd.Series(arr)\n",
    "print(s1)"
   ]
  },
  {
   "cell_type": "code",
   "execution_count": 19,
   "id": "27c29d5c",
   "metadata": {},
   "outputs": [
    {
     "name": "stdout",
     "output_type": "stream",
     "text": [
      "0     20\n",
      "2     21\n",
      "4     22\n",
      "6     23\n",
      "8     34\n",
      "10    33\n",
      "dtype: int64\n"
     ]
    }
   ],
   "source": [
    "age_series_index = pd.Series(np.array([20, 21, 22,23,34,33]),\n",
    "                     index=np.arange(0,12,2)) #creating a Series with custom index(0, 2, 4, 6, 8, 10)\n",
    "print(age_series_index)"
   ]
  },
  {
   "cell_type": "code",
   "execution_count": 17,
   "id": "2b17e62c",
   "metadata": {},
   "outputs": [
    {
     "name": "stdout",
     "output_type": "stream",
     "text": [
      "a    10\n",
      "b    20\n",
      "c    30\n",
      "d    40\n",
      "e    50\n",
      "dtype: int64\n"
     ]
    }
   ],
   "source": [
    "std_mark_series = pd.Series([10, 20, 30, 40, 50], index=['a', 'b', 'c', 'd', 'e']) # creating a Series with custom index\n",
    "print(std_mark_series)"
   ]
  },
  {
   "cell_type": "code",
   "execution_count": 18,
   "id": "3b0509a7",
   "metadata": {},
   "outputs": [
    {
     "name": "stdout",
     "output_type": "stream",
     "text": [
      "rent          2500\n",
      "grocery       3000\n",
      "travelling    2000\n",
      "insurance     5000\n",
      "dtype: int64\n"
     ]
    }
   ],
   "source": [
    "expense_dict = {'rent':2500,'grocery':3000,'travelling':2000,'insurance':5000}\n",
    "expense_series = pd.Series(expense_dict) # creating a Series from a dictionary\n",
    "print(expense_series)"
   ]
  },
  {
   "cell_type": "code",
   "execution_count": 37,
   "id": "e53d8bca",
   "metadata": {},
   "outputs": [
    {
     "name": "stdout",
     "output_type": "stream",
     "text": [
      "A    [math, science, english]\n",
      "B             [math, physics]\n",
      "C                   chemistry\n",
      "dtype: object\n"
     ]
    }
   ],
   "source": [
    "#create a dictionary \n",
    "classes_dict ={ \"A\":[\"math\",\"science\",\"english\"],\n",
    "                \"B\":[\"math\",\"physics\"],\n",
    "                \"C\":\"chemistry\"}\n",
    "#creating a Series from a dictionary\n",
    "classes_series = pd.Series(classes_dict)\n",
    "#printing the Series\n",
    "print(classes_series)\n"
   ]
  },
  {
   "cell_type": "code",
   "execution_count": 38,
   "id": "0bef0174",
   "metadata": {},
   "outputs": [
    {
     "name": "stdout",
     "output_type": "stream",
     "text": [
      "['math', 'science', 'english']\n"
     ]
    }
   ],
   "source": [
    "print(classes_series['A']) #accessing the Series using key"
   ]
  },
  {
   "cell_type": "code",
   "execution_count": 42,
   "id": "b0bb5e3b",
   "metadata": {},
   "outputs": [
    {
     "name": "stdout",
     "output_type": "stream",
     "text": [
      "A    [math, science, english]\n",
      "B             [math, physics]\n",
      "C                   chemistry\n",
      "dtype: object\n"
     ]
    }
   ],
   "source": [
    "print(classes_series[['A','B','C']]) #accessing the Series using key\n"
   ]
  },
  {
   "cell_type": "code",
   "execution_count": 24,
   "id": "29548e63",
   "metadata": {},
   "outputs": [
    {
     "name": "stdout",
     "output_type": "stream",
     "text": [
      "Index(['A', 'B', 'c'], dtype='object')\n"
     ]
    }
   ],
   "source": [
    "print(classes_series.index) #printing the index of the Series"
   ]
  },
  {
   "cell_type": "code",
   "execution_count": 25,
   "id": "4ed50a7f",
   "metadata": {},
   "outputs": [
    {
     "name": "stdout",
     "output_type": "stream",
     "text": [
      "[list(['math', 'science', 'english']) list(['math', 'physics'])\n",
      " 'chemistry']\n"
     ]
    }
   ],
   "source": [
    "print(classes_series.values) #printing the values of the Series\n"
   ]
  },
  {
   "cell_type": "code",
   "execution_count": 27,
   "id": "56f92cee",
   "metadata": {},
   "outputs": [
    {
     "name": "stdout",
     "output_type": "stream",
     "text": [
      "0        ram\n",
      "1       sita\n",
      "2      laxmi\n",
      "3    krishna\n",
      "4     madhav\n",
      "5      Arjun\n",
      "dtype: object\n"
     ]
    }
   ],
   "source": [
    "#Accessing series elements\n",
    "std_data =np.array(['ram','sita','laxmi','krishna','madhav','Arjun'])\n",
    "std_data_series = pd.Series(std_data)\n",
    "print(std_data_series)\n"
   ]
  },
  {
   "cell_type": "code",
   "execution_count": null,
   "id": "8ef84272",
   "metadata": {},
   "outputs": [
    {
     "name": "stdout",
     "output_type": "stream",
     "text": [
      "0        ram\n",
      "1       sita\n",
      "2      laxmi\n",
      "3    krishna\n",
      "4     madhav\n",
      "dtype: object\n"
     ]
    }
   ],
   "source": [
    "print(std_data_series[:5]) #accessing first 5 element"
   ]
  },
  {
   "cell_type": "code",
   "execution_count": 29,
   "id": "14e2389f",
   "metadata": {},
   "outputs": [
    {
     "name": "stdout",
     "output_type": "stream",
     "text": [
      "1       sita\n",
      "2      laxmi\n",
      "3    krishna\n",
      "4     madhav\n",
      "5      Arjun\n",
      "dtype: object\n"
     ]
    }
   ],
   "source": [
    "print(std_data_series[-5:])"
   ]
  },
  {
   "cell_type": "code",
   "execution_count": 33,
   "id": "e49568c8",
   "metadata": {},
   "outputs": [
    {
     "name": "stdout",
     "output_type": "stream",
     "text": [
      "ram\n",
      "1       sita\n",
      "2      laxmi\n",
      "3    krishna\n",
      "dtype: object\n",
      "5    Arjun\n",
      "dtype: object\n",
      "3    krishna\n",
      "4     madhav\n",
      "5      Arjun\n",
      "dtype: object\n"
     ]
    }
   ],
   "source": [
    "print(std_data_series[0]) #accessing first element\n",
    "print(std_data_series[1:4]) #accessing elements from index 1 to 3 (4 is exclusive)\n",
    "print(std_data_series[-1:]) #accessing last element\n",
    "print(std_data_series[-3:]) #accessing last 3 elements"
   ]
  },
  {
   "cell_type": "code",
   "execution_count": 43,
   "id": "bb110468",
   "metadata": {},
   "outputs": [
    {
     "name": "stdout",
     "output_type": "stream",
     "text": [
      "ram        457\n",
      "sita       456\n",
      "laxmi      540\n",
      "krishna    348\n",
      "madhav     502\n",
      "Arjun      480\n",
      "dtype: int64\n"
     ]
    }
   ],
   "source": [
    "student_series = pd.Series(np.array([457,456,540,348,502,480]),\n",
    "                    index=['ram','sita','laxmi','krishna','madhav','Arjun'])\n",
    "print(student_series)"
   ]
  },
  {
   "cell_type": "code",
   "execution_count": 44,
   "id": "f1fe7e61",
   "metadata": {},
   "outputs": [
    {
     "name": "stdout",
     "output_type": "stream",
     "text": [
      "ram       457\n",
      "sita      456\n",
      "laxmi     540\n",
      "madhav    502\n",
      "Arjun     480\n",
      "dtype: int64\n"
     ]
    }
   ],
   "source": [
    "print(student_series[student_series>350]) #accessing elements greater than 350"
   ]
  },
  {
   "cell_type": "markdown",
   "id": "c1275d45",
   "metadata": {},
   "source": [
    "### Arithmetic Operations"
   ]
  },
  {
   "cell_type": "code",
   "execution_count": 45,
   "id": "18700fea",
   "metadata": {},
   "outputs": [
    {
     "name": "stdout",
     "output_type": "stream",
     "text": [
      "0    12\n",
      "1    14\n",
      "2    16\n",
      "3    18\n",
      "4    20\n",
      "5    22\n",
      "6    24\n",
      "7    26\n",
      "8    28\n",
      "9    30\n",
      "dtype: int64\n"
     ]
    }
   ],
   "source": [
    "s1 = pd.Series([1,2,3,4,5,6,7,8,9,10])\n",
    "s2 = pd.Series([11,12,13,14,15,16,17,18,19,20])\n",
    "#performing arithmetic operation on Series\n",
    "print(s1 + s2)  # Addition"
   ]
  },
  {
   "cell_type": "code",
   "execution_count": 48,
   "id": "020ff2ae",
   "metadata": {},
   "outputs": [
    {
     "data": {
      "text/plain": [
       "0    12\n",
       "1    14\n",
       "2    16\n",
       "3    18\n",
       "4    20\n",
       "5    22\n",
       "6    24\n",
       "7    26\n",
       "8    28\n",
       "9    30\n",
       "dtype: int64"
      ]
     },
     "execution_count": 48,
     "metadata": {},
     "output_type": "execute_result"
    }
   ],
   "source": [
    "s1.add(s2)  # Addition using add method"
   ]
  },
  {
   "cell_type": "code",
   "execution_count": 46,
   "id": "0a799a2f",
   "metadata": {},
   "outputs": [
    {
     "name": "stdout",
     "output_type": "stream",
     "text": [
      "0   -10\n",
      "1   -10\n",
      "2   -10\n",
      "3   -10\n",
      "4   -10\n",
      "5   -10\n",
      "6   -10\n",
      "7   -10\n",
      "8   -10\n",
      "9   -10\n",
      "dtype: int64\n"
     ]
    }
   ],
   "source": [
    "print(s1- s2)  # Subtraction"
   ]
  },
  {
   "cell_type": "code",
   "execution_count": 49,
   "id": "d982b122",
   "metadata": {},
   "outputs": [
    {
     "data": {
      "text/plain": [
       "0   -10\n",
       "1   -10\n",
       "2   -10\n",
       "3   -10\n",
       "4   -10\n",
       "5   -10\n",
       "6   -10\n",
       "7   -10\n",
       "8   -10\n",
       "9   -10\n",
       "dtype: int64"
      ]
     },
     "execution_count": 49,
     "metadata": {},
     "output_type": "execute_result"
    }
   ],
   "source": [
    "s1.sub(s2)  # Subtraction using sub method"
   ]
  },
  {
   "cell_type": "code",
   "execution_count": 47,
   "id": "29666a84",
   "metadata": {},
   "outputs": [
    {
     "name": "stdout",
     "output_type": "stream",
     "text": [
      "0     11\n",
      "1     24\n",
      "2     39\n",
      "3     56\n",
      "4     75\n",
      "5     96\n",
      "6    119\n",
      "7    144\n",
      "8    171\n",
      "9    200\n",
      "dtype: int64\n"
     ]
    }
   ],
   "source": [
    "print(s1*s2)  # Multiplication"
   ]
  },
  {
   "cell_type": "code",
   "execution_count": 50,
   "id": "a8e9cc96",
   "metadata": {},
   "outputs": [
    {
     "data": {
      "text/plain": [
       "0     11\n",
       "1     24\n",
       "2     39\n",
       "3     56\n",
       "4     75\n",
       "5     96\n",
       "6    119\n",
       "7    144\n",
       "8    171\n",
       "9    200\n",
       "dtype: int64"
      ]
     },
     "execution_count": 50,
     "metadata": {},
     "output_type": "execute_result"
    }
   ],
   "source": [
    "s1.mul(s2)  # Multiplication using mul method"
   ]
  },
  {
   "cell_type": "code",
   "execution_count": 51,
   "id": "3d89c991",
   "metadata": {},
   "outputs": [
    {
     "name": "stdout",
     "output_type": "stream",
     "text": [
      "0    0.090909\n",
      "1    0.166667\n",
      "2    0.230769\n",
      "3    0.285714\n",
      "4    0.333333\n",
      "5    0.375000\n",
      "6    0.411765\n",
      "7    0.444444\n",
      "8    0.473684\n",
      "9    0.500000\n",
      "dtype: float64\n"
     ]
    }
   ],
   "source": [
    "print(s1/s2)  # Division"
   ]
  },
  {
   "cell_type": "code",
   "execution_count": 52,
   "id": "5b4dacb0",
   "metadata": {},
   "outputs": [
    {
     "data": {
      "text/plain": [
       "0    0.090909\n",
       "1    0.166667\n",
       "2    0.230769\n",
       "3    0.285714\n",
       "4    0.333333\n",
       "5    0.375000\n",
       "6    0.411765\n",
       "7    0.444444\n",
       "8    0.473684\n",
       "9    0.500000\n",
       "dtype: float64"
      ]
     },
     "execution_count": 52,
     "metadata": {},
     "output_type": "execute_result"
    }
   ],
   "source": [
    "s1.div(s2)  # Division using div method"
   ]
  },
  {
   "cell_type": "code",
   "execution_count": 53,
   "id": "0b35c94d",
   "metadata": {},
   "outputs": [
    {
     "data": {
      "text/plain": [
       "0     1\n",
       "1     2\n",
       "2     3\n",
       "3     4\n",
       "4     5\n",
       "5     6\n",
       "6     7\n",
       "7     8\n",
       "8     9\n",
       "9    10\n",
       "dtype: int64"
      ]
     },
     "execution_count": 53,
     "metadata": {},
     "output_type": "execute_result"
    }
   ],
   "source": [
    "s1.mod(s2)  # Modulus"
   ]
  },
  {
   "cell_type": "code",
   "execution_count": null,
   "id": "8ee08e9a",
   "metadata": {},
   "outputs": [
    {
     "name": "stdout",
     "output_type": "stream",
     "text": [
      "0     1\n",
      "1     2\n",
      "2     3\n",
      "3     4\n",
      "4     5\n",
      "5     6\n",
      "6     7\n",
      "7     8\n",
      "8     9\n",
      "9    10\n",
      "dtype: int64\n"
     ]
    }
   ],
   "source": [
    "print(s1%s2)  # Modulus using % operator"
   ]
  },
  {
   "cell_type": "code",
   "execution_count": 55,
   "id": "cda9e922",
   "metadata": {},
   "outputs": [
    {
     "data": {
      "text/plain": [
       "0                      1\n",
       "1                   4096\n",
       "2                1594323\n",
       "3              268435456\n",
       "4            30517578125\n",
       "5          2821109907456\n",
       "6        232630513987207\n",
       "7      18014398509481984\n",
       "8    1350851717672992089\n",
       "9    7766279631452241920\n",
       "dtype: int64"
      ]
     },
     "execution_count": 55,
     "metadata": {},
     "output_type": "execute_result"
    }
   ],
   "source": [
    "s1.pow(s2)  # Power"
   ]
  },
  {
   "cell_type": "code",
   "execution_count": 56,
   "id": "7ef0b493",
   "metadata": {},
   "outputs": [
    {
     "name": "stdout",
     "output_type": "stream",
     "text": [
      "0                      1\n",
      "1                   4096\n",
      "2                1594323\n",
      "3              268435456\n",
      "4            30517578125\n",
      "5          2821109907456\n",
      "6        232630513987207\n",
      "7      18014398509481984\n",
      "8    1350851717672992089\n",
      "9    7766279631452241920\n",
      "dtype: int64\n"
     ]
    }
   ],
   "source": [
    "print(s1**s2)  # Power using ** operator"
   ]
  },
  {
   "cell_type": "code",
   "execution_count": 57,
   "id": "2e7ec3b7",
   "metadata": {},
   "outputs": [
    {
     "name": "stdout",
     "output_type": "stream",
     "text": [
      "0    12.0\n",
      "1    14.0\n",
      "2     4.0\n",
      "3     NaN\n",
      "4     NaN\n",
      "dtype: float64\n"
     ]
    }
   ],
   "source": [
    "s11 = pd.Series([1,2,3,4,5])\n",
    "s22 = pd.Series([11,12,1])\n",
    "#performing arithmetic operation on Series with different lengths\n",
    "print(s11 + s22)  # Addition with different lengths"
   ]
  },
  {
   "cell_type": "code",
   "execution_count": 58,
   "id": "981bca1d",
   "metadata": {},
   "outputs": [
    {
     "data": {
      "text/plain": [
       "0    12.0\n",
       "1    14.0\n",
       "2     4.0\n",
       "3     NaN\n",
       "4     NaN\n",
       "dtype: float64"
      ]
     },
     "execution_count": 58,
     "metadata": {},
     "output_type": "execute_result"
    }
   ],
   "source": [
    "s11.add(s22)  # Addition with different lengths using add method"
   ]
  },
  {
   "cell_type": "code",
   "execution_count": 60,
   "id": "8f587892",
   "metadata": {},
   "outputs": [
    {
     "data": {
      "text/plain": [
       "0     2\n",
       "1     4\n",
       "2     6\n",
       "3     8\n",
       "4    10\n",
       "dtype: int64"
      ]
     },
     "execution_count": 60,
     "metadata": {},
     "output_type": "execute_result"
    }
   ],
   "source": [
    "s11*2 # Multiplication with scalar"
   ]
  },
  {
   "cell_type": "code",
   "execution_count": 62,
   "id": "40ffd376",
   "metadata": {},
   "outputs": [
    {
     "data": {
      "text/plain": [
       "0    3\n",
       "1    4\n",
       "2    5\n",
       "3    6\n",
       "4    7\n",
       "dtype: int64"
      ]
     },
     "execution_count": 62,
     "metadata": {},
     "output_type": "execute_result"
    }
   ],
   "source": [
    "s11+2 # Addition with scalar"
   ]
  },
  {
   "cell_type": "code",
   "execution_count": 64,
   "id": "07ffb20c",
   "metadata": {},
   "outputs": [
    {
     "data": {
      "text/plain": [
       "0    3\n",
       "1    4\n",
       "2    5\n",
       "3    6\n",
       "4    7\n",
       "dtype: int64"
      ]
     },
     "execution_count": 64,
     "metadata": {},
     "output_type": "execute_result"
    }
   ],
   "source": [
    "s11.add(2) # Addition with scalar using add method"
   ]
  },
  {
   "cell_type": "code",
   "execution_count": 72,
   "id": "dc00ed2a",
   "metadata": {},
   "outputs": [
    {
     "name": "stdout",
     "output_type": "stream",
     "text": [
      "student scores\n",
      "alice      88\n",
      "bob        92\n",
      "charlie    75\n",
      "dave       91\n",
      "eve        85\n",
      "dtype: int64\n",
      "\n",
      "\n",
      "Ascending order rank:\n",
      "alice      3.0\n",
      "bob        5.0\n",
      "charlie    1.0\n",
      "dave       4.0\n",
      "eve        2.0\n",
      "dtype: float64\n",
      "\n",
      "\n",
      "Descending order rank:\n",
      "alice      3.0\n",
      "bob        1.0\n",
      "charlie    5.0\n",
      "dave       2.0\n",
      "eve        4.0\n",
      "dtype: float64\n"
     ]
    }
   ],
   "source": [
    "student_scores =pd.Series([88,92,75,91,85],\n",
    "                          index =['alice','bob','charlie','dave','eve'])\n",
    " #rank the students based on their scores\n",
    "print(\"student scores\")\n",
    "print(student_scores)\n",
    "print(\"\\n\\nAscending order rank:\")\n",
    "student_rank = student_scores.rank() # Rank in ascending order \n",
    "print(student_rank)\n",
    "# Rank in descending order\n",
    "print(\"\\n\\nDescending order rank:\")\n",
    "student_rank_desc = student_scores.rank(ascending=False)\n",
    "print(student_rank_desc)"
   ]
  },
  {
   "cell_type": "code",
   "execution_count": 80,
   "id": "9e33015b",
   "metadata": {},
   "outputs": [
    {
     "name": "stdout",
     "output_type": "stream",
     "text": [
      "\n",
      "\n",
      "Sales data before sorting:\n",
      "Jan    250.0\n",
      "Feb      NaN\n",
      "Mar    175.0\n",
      "Apr    300.0\n",
      "May      NaN\n",
      "Jun    220.0\n",
      "dtype: float64\n",
      "\n",
      "\n",
      "Sales data after sorting:\n",
      "Feb      NaN\n",
      "May      NaN\n",
      "Mar    175.0\n",
      "Jun    220.0\n",
      "Jan    250.0\n",
      "Apr    300.0\n",
      "dtype: float64\n"
     ]
    }
   ],
   "source": [
    "sales_data = pd.Series([250,np.nan,175,300,np.nan,220],\n",
    "                       index=['Jan', 'Feb', 'Mar', 'Apr', 'May', 'Jun'])\n",
    "# sort the sales data in ascending order\n",
    "print(\"\\n\\nSales data before sorting:\")\n",
    "print(sales_data)\n",
    "print(\"\\n\\nSales data after sorting:\")\n",
    "print(sales_data.sort_values(na_position='first'))  # NaN values will be placed at the first position "
   ]
  },
  {
   "cell_type": "code",
   "execution_count": 81,
   "id": "07b8a54d",
   "metadata": {},
   "outputs": [
    {
     "name": "stdout",
     "output_type": "stream",
     "text": [
      "\n",
      "\n",
      "placing nan values at the end\n",
      " Mar    175.0\n",
      "Jun    220.0\n",
      "Jan    250.0\n",
      "Apr    300.0\n",
      "Feb      NaN\n",
      "May      NaN\n",
      "dtype: float64\n"
     ]
    }
   ],
   "source": [
    "print(\"\\n\\nplacing nan values at the end\\n\",sales_data.sort_values(na_position='last'))  # NaN values will be placed at the end\n"
   ]
  },
  {
   "cell_type": "code",
   "execution_count": 82,
   "id": "6d85dc13",
   "metadata": {},
   "outputs": [
    {
     "name": "stdout",
     "output_type": "stream",
     "text": [
      "\n",
      "\n",
      "Sales data in descending order:\n",
      "Apr    300.0\n",
      "Jan    250.0\n",
      "Jun    220.0\n",
      "Mar    175.0\n",
      "Feb      NaN\n",
      "May      NaN\n",
      "dtype: float64\n"
     ]
    }
   ],
   "source": [
    "#data as decescending order\n",
    "print(\"\\n\\nSales data in descending order:\")\n",
    "print(sales_data.sort_values(ascending=False, na_position='last'))  # NaN values will be placed at the end"
   ]
  },
  {
   "cell_type": "code",
   "execution_count": 87,
   "id": "dca41c71",
   "metadata": {},
   "outputs": [
    {
     "name": "stdout",
     "output_type": "stream",
     "text": [
      "\n",
      "\n",
      "Student Series before sorting by index:\n",
      "1        ram\n",
      "4       sita\n",
      "6      laxmi\n",
      "2    krishna\n",
      "7        NaN\n",
      "8      Arjun\n",
      "dtype: object\n",
      "\n",
      "\n",
      "Student Series after sorting by index:\n",
      "1        ram\n",
      "2    krishna\n",
      "4       sita\n",
      "6      laxmi\n",
      "7        NaN\n",
      "8      Arjun\n",
      "dtype: object\n"
     ]
    }
   ],
   "source": [
    "student=pd.Series(['ram','sita','laxmi','krishna',np.nan,'Arjun'],\n",
    "                  index=[1,4,6,2,7,8])\n",
    "#sorting the Series by index\n",
    "print(\"\\n\\nStudent Series before sorting by index:\")\n",
    "print(student)  \n",
    "print(\"\\n\\nStudent Series after sorting by index:\")\n",
    "print(student.sort_index())  # Sorting by index in ascending order\n"
   ]
  },
  {
   "cell_type": "code",
   "execution_count": 88,
   "id": "85956bce",
   "metadata": {},
   "outputs": [
    {
     "name": "stdout",
     "output_type": "stream",
     "text": [
      "\n",
      "\n",
      "Student Series after sorting by index in descending order:\n",
      "8      Arjun\n",
      "7        NaN\n",
      "6      laxmi\n",
      "4       sita\n",
      "2    krishna\n",
      "1        ram\n",
      "dtype: object\n"
     ]
    }
   ],
   "source": [
    "print(\"\\n\\nStudent Series after sorting by index in descending order:\")\n",
    "print(student.sort_index(ascending=False))  # Sorting by index in descending order"
   ]
  },
  {
   "cell_type": "code",
   "execution_count": null,
   "id": "3e519d5d",
   "metadata": {},
   "outputs": [],
   "source": []
  }
 ],
 "metadata": {
  "kernelspec": {
   "display_name": "Python 3",
   "language": "python",
   "name": "python3"
  },
  "language_info": {
   "codemirror_mode": {
    "name": "ipython",
    "version": 3
   },
   "file_extension": ".py",
   "mimetype": "text/x-python",
   "name": "python",
   "nbconvert_exporter": "python",
   "pygments_lexer": "ipython3",
   "version": "undefined.undefined.undefined"
  }
 },
 "nbformat": 4,
 "nbformat_minor": 5
}

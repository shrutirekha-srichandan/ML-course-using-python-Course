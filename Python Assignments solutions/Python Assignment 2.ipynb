{
 "cells": [
  {
   "cell_type": "markdown",
   "id": "94ea4c53",
   "metadata": {},
   "source": [
    "# Assignment 2"
   ]
  },
  {
   "cell_type": "markdown",
   "id": "f427d121",
   "metadata": {},
   "source": [
    "### 1. Write a function to check if a number is prime."
   ]
  },
  {
   "cell_type": "code",
   "execution_count": 2,
   "id": "55c82818",
   "metadata": {},
   "outputs": [
    {
     "name": "stdout",
     "output_type": "stream",
     "text": [
      "Enter the number : 23\n",
      "23 is prime number\n"
     ]
    }
   ],
   "source": [
    "def prime(n):\n",
    "    p=True\n",
    "    for i in range (2,n):\n",
    "        if(n%i==0):\n",
    "            print(n,\" is Not a prime Number\")\n",
    "            p=False\n",
    "            break\n",
    "    if(p==True):\n",
    "        print(n,\"is prime number\")\n",
    "        \n",
    "num = int(input(\"Enter the number : \"))\n",
    "prime(num)"
   ]
  },
  {
   "cell_type": "markdown",
   "id": "412f3cd4",
   "metadata": {},
   "source": [
    "### 2. Create a function to calculate the area of a rectangle."
   ]
  },
  {
   "cell_type": "code",
   "execution_count": 3,
   "id": "b3cac11e",
   "metadata": {},
   "outputs": [
    {
     "name": "stdout",
     "output_type": "stream",
     "text": [
      "Enter Length of Rectangle : 3\n",
      "Enter width of Rectangle : 4\n",
      "Area of Rectangle having length 3 Width 4 is  12\n"
     ]
    }
   ],
   "source": [
    "def area_rect(l,w):\n",
    "    return (l*w)\n",
    "\n",
    "l= int(input(\"Enter Length of Rectangle : \"))\n",
    "w= int(input(\"Enter width of Rectangle : \"))\n",
    "area = area_rect(l,w)\n",
    "print(\"Area of Rectangle having length\",l,\"Width\",w,\"is \",area)"
   ]
  },
  {
   "cell_type": "markdown",
   "id": "bdfcc73c",
   "metadata": {},
   "source": [
    "### 3. Create a function to find the maximum of three numbers."
   ]
  },
  {
   "cell_type": "code",
   "execution_count": 6,
   "id": "261416da",
   "metadata": {},
   "outputs": [
    {
     "name": "stdout",
     "output_type": "stream",
     "text": [
      "Number 1: 1\n",
      "Number 2: 3\n",
      "Number 3: 2\n",
      "Maximum =  3\n"
     ]
    }
   ],
   "source": [
    "def Find_max(n1,n2,n3):\n",
    "    if(n1>n2):\n",
    "        if(n1>n3):\n",
    "            print(\"maximum = \",n1)\n",
    "        else:\n",
    "            print(\"maximum = \",n3)\n",
    "    else:\n",
    "        if(n2>n3):\n",
    "            print(\"Maximum = \",n2)\n",
    "        else:\n",
    "            print(\"Maximum = \",n3)\n",
    "            \n",
    "num1=int(input(\"Number 1: \"))\n",
    "num2=int(input(\"Number 2: \"))\n",
    "num3=int(input(\"Number 3: \"))\n",
    "Find_max(num1,num2,num3)\n",
    "            "
   ]
  },
  {
   "cell_type": "markdown",
   "id": "ab2e8988",
   "metadata": {},
   "source": [
    "### 4. Write a function to reverse a string.\n"
   ]
  },
  {
   "cell_type": "code",
   "execution_count": 10,
   "id": "70224922",
   "metadata": {},
   "outputs": [
    {
     "name": "stdout",
     "output_type": "stream",
     "text": [
      "Enter the string : shruti\n",
      "reverse of string shruti is iturhs\n"
     ]
    }
   ],
   "source": [
    "string = input(\"Enter the string : \")\n",
    "rev_string = string[::-1]\n",
    "print(\"reverse of string\",string,\"is\",rev_string) "
   ]
  },
  {
   "cell_type": "markdown",
   "id": "58342227",
   "metadata": {},
   "source": [
    "### 5. Create a function to count the number of vowels in a string."
   ]
  },
  {
   "cell_type": "code",
   "execution_count": 11,
   "id": "2753f8e6",
   "metadata": {},
   "outputs": [
    {
     "name": "stdout",
     "output_type": "stream",
     "text": [
      "Enter string = shrutirekha srichandan\n",
      "Number of vowels in  shrutirekha srichandan  =  7\n"
     ]
    }
   ],
   "source": [
    "def count(s):\n",
    "    c=0\n",
    "    for i in s:\n",
    "        if(i==\"a\" or i==\"A\" or i=='E' or i=='e' or i=='i' or i==\"I\" or i==\"O\" or i==\"o\" or i==\"u\" or i==\"U\"):\n",
    "            c=c+1\n",
    "    return c\n",
    "s=input(\"Enter string = \")\n",
    "print(\"Number of vowels in \",s ,\" = \",count(s))"
   ]
  },
  {
   "cell_type": "markdown",
   "id": "09fa4e52",
   "metadata": {},
   "source": [
    "### 6. Write a function to check if a string is a palindrome."
   ]
  },
  {
   "cell_type": "code",
   "execution_count": 5,
   "id": "ffd82350",
   "metadata": {},
   "outputs": [
    {
     "name": "stdout",
     "output_type": "stream",
     "text": [
      "Enter the string : malayalam\n",
      "malayalam is a palindrome string\n"
     ]
    }
   ],
   "source": [
    "def palindrome(n):\n",
    "    if(n[::-1]==n):\n",
    "        print(n,\"is a palindrome string\")\n",
    "    else:\n",
    "        print(n,\"is not a palindrome string\")\n",
    "n =  input(\"Enter the string : \")\n",
    "palindrome(n)\n",
    "        "
   ]
  },
  {
   "cell_type": "markdown",
   "id": "b345f6f8",
   "metadata": {},
   "source": [
    "### 7. Create a function to calculate the sum of a list of numbers."
   ]
  },
  {
   "cell_type": "code",
   "execution_count": 17,
   "id": "eccea153",
   "metadata": {},
   "outputs": [
    {
     "name": "stdout",
     "output_type": "stream",
     "text": [
      "Enter the total Number of inputs in list :4\n",
      "Enter the 1 number : 1\n",
      "Enter the 2 number : 2\n",
      "Enter the 3 number : 3\n",
      "Enter the 4 number : 40\n",
      "the sum of a list [1, 2, 3, 40] of numbers = 46\n"
     ]
    }
   ],
   "source": [
    "def sum_list(n):\n",
    "    s=0\n",
    "    for i in n:\n",
    "        s=s+i\n",
    "    return s\n",
    "r=int(input(\"Enter the total Number of inputs in list :\"))\n",
    "l=[]\n",
    "for i in range (0,r):\n",
    "    e =int(input(f\"Enter the {i+1} number : \"))\n",
    "    l.append(e)\n",
    "print(f\"the sum of a list {l} of numbers = {sum_list(l)}\")"
   ]
  },
  {
   "cell_type": "markdown",
   "id": "6ecf799a",
   "metadata": {},
   "source": [
    "### 8. Write a function to return the Fibonacci sequence up to n terms."
   ]
  },
  {
   "cell_type": "code",
   "execution_count": 33,
   "id": "65214192",
   "metadata": {},
   "outputs": [
    {
     "name": "stdout",
     "output_type": "stream",
     "text": [
      "Enter number: 4\n",
      "fibonacci series upto 4 number is  :[0, 1, 1, 2]\n"
     ]
    }
   ],
   "source": [
    "def fibonacci(n):\n",
    "    i,j=0,1\n",
    "    if(n<=0):\n",
    "        return []\n",
    "    elif n == 1:\n",
    "        return [0]\n",
    "    else:\n",
    "        fib = [0, 1]\n",
    "        while len(fib) < n:\n",
    "            e = fib[-1] + fib[-2]\n",
    "            fib.append(e)\n",
    "        return fib\n",
    "\n",
    "\n",
    "n = int(input(\"Enter number: \"))\n",
    "print(f\"fibonacci series upto {n} number is  :{fibonacci(n)}\")"
   ]
  },
  {
   "cell_type": "markdown",
   "id": "69453923",
   "metadata": {},
   "source": [
    "### 9. Write a function to convert Celsius to Fahrenheit."
   ]
  },
  {
   "cell_type": "code",
   "execution_count": 37,
   "id": "3f4e8af4",
   "metadata": {},
   "outputs": [
    {
     "name": "stdout",
     "output_type": "stream",
     "text": [
      "Enter the celsius : 23\n",
      "23 degree celsius is equal to 73.4 fahrenheit degree\n"
     ]
    }
   ],
   "source": [
    "def convert_fahrenheit(n):\n",
    "    f=(n*9/5)+32\n",
    "    return f\n",
    "c= int(input(\"Enter the celsius : \"))\n",
    "print(f\"{c} degree celsius is equal to {convert_fahrenheit(c)} fahrenheit degree\")"
   ]
  },
  {
   "cell_type": "markdown",
   "id": "ac95b278",
   "metadata": {},
   "source": [
    "### 10. Write a function to find the minimum value in a list"
   ]
  },
  {
   "cell_type": "code",
   "execution_count": 40,
   "id": "37d3f8eb",
   "metadata": {},
   "outputs": [
    {
     "name": "stdout",
     "output_type": "stream",
     "text": [
      "minimum in the list [9, 23, 2, 1, -3, 0, -5] = -5\n"
     ]
    }
   ],
   "source": [
    "def minimum(l):\n",
    "    if not l:\n",
    "        return None\n",
    "    else:\n",
    "        return min(l)\n",
    "l=[9,23,2,1,-3,0,-5]\n",
    "print(f\"minimum in the list {l} = {minimum(l)}\")"
   ]
  },
  {
   "cell_type": "markdown",
   "id": "d7394447",
   "metadata": {},
   "source": [
    "### 11. Create a function to count how many times a character appears in a string."
   ]
  },
  {
   "cell_type": "code",
   "execution_count": 56,
   "id": "7ae390d0",
   "metadata": {},
   "outputs": [
    {
     "name": "stdout",
     "output_type": "stream",
     "text": [
      "Enter the string : ertee\n",
      "Enter the character you want to count : e\n",
      "e frequency in string ertee = 3\n"
     ]
    }
   ],
   "source": [
    "def count(s,c):\n",
    "    return s.count(c)\n",
    "s=input(\"Enter the string : \")\n",
    "c=input(\"Enter the character you want to count : \")\n",
    "print(f\"{c} frequency in string {s} = {count(s,c)}\")\n"
   ]
  },
  {
   "cell_type": "markdown",
   "id": "5d20b45a",
   "metadata": {},
   "source": [
    "### 12. Write a function to check if a number is a perfect number."
   ]
  },
  {
   "cell_type": "code",
   "execution_count": 53,
   "id": "c8743b1b",
   "metadata": {},
   "outputs": [
    {
     "name": "stdout",
     "output_type": "stream",
     "text": [
      "Enter the number: 6\n",
      "6 is a Perfect number\n"
     ]
    }
   ],
   "source": [
    "def perfect(n):\n",
    "    s=0\n",
    "    for i in range(1,n):\n",
    "        if(n%i==0):\n",
    "            s=s+i\n",
    "    if(s==n):\n",
    "        print(f\"{n} is a Perfect number\")\n",
    "    else:\n",
    "        print(f\"{n} is not a Perfect number\")\n",
    "        \n",
    "        \n",
    "n=int(input(\"Enter the number: \"))\n",
    "perfect(n)"
   ]
  },
  {
   "cell_type": "markdown",
   "id": "3a4d36f0",
   "metadata": {},
   "source": [
    "### 13. Create a function to find the sum of digits of a number."
   ]
  },
  {
   "cell_type": "code",
   "execution_count": 51,
   "id": "c11eec0f",
   "metadata": {},
   "outputs": [
    {
     "name": "stdout",
     "output_type": "stream",
     "text": [
      "Enter the number : 342\n",
      "The sum of digits in 342 = 9\n"
     ]
    }
   ],
   "source": [
    "def sod(n):\n",
    "    s=0\n",
    "    t=n\n",
    "    while t>0:\n",
    "        d=t%10\n",
    "        s=s+d\n",
    "        t=t//10\n",
    "    return s\n",
    "n=int(input(\"Enter the number : \"))\n",
    "print(f\"The sum of digits in {n} = {sod(n)}\")"
   ]
  },
  {
   "cell_type": "markdown",
   "id": "c36d483d",
   "metadata": {},
   "source": [
    "### 14. Write a function that takes a string and returns a dictionary of character frequencies."
   ]
  },
  {
   "cell_type": "code",
   "execution_count": 54,
   "id": "994c7f47",
   "metadata": {},
   "outputs": [
    {
     "name": "stdout",
     "output_type": "stream",
     "text": [
      "Enter the string : wesw\n",
      "character frequency in string wesw= {'s': 1, 'w': 2, 'e': 1}\n"
     ]
    }
   ],
   "source": [
    "def count(s):\n",
    "    c={c:s.count(c) for c in set(s)}\n",
    "    return c\n",
    "s=input(\"Enter the string : \")\n",
    "print(f\"character frequency in string {s}= {count(s)}\")\n"
   ]
  },
  {
   "cell_type": "markdown",
   "id": "9c887445",
   "metadata": {},
   "source": [
    "### 15. Write a function that returns the average of a list of numbers."
   ]
  },
  {
   "cell_type": "code",
   "execution_count": 61,
   "id": "5d538d3c",
   "metadata": {},
   "outputs": [
    {
     "name": "stdout",
     "output_type": "stream",
     "text": [
      "Enter the total Number of inputs in list :4\n",
      "Enter the 1 number : 3\n",
      "Enter the 2 number : 3\n",
      "Enter the 3 number : 3\n",
      "Enter the 4 number : 3\n",
      "the avgerage of a list [3, 3, 3, 3] of numbers = 3.0\n"
     ]
    }
   ],
   "source": [
    "def avg_list(n):\n",
    "    s=0\n",
    "    for i in n:\n",
    "        s=s+i\n",
    "    return s/len(n)\n",
    "r=int(input(\"Enter the total Number of inputs in list :\"))\n",
    "l=[]\n",
    "for i in range (0,r):\n",
    "    e =int(input(f\"Enter the {i+1} number : \"))\n",
    "    l.append(e)\n",
    "print(f\"the avgerage of a list {l} of numbers = {avg_list(l)}\")"
   ]
  },
  {
   "cell_type": "markdown",
   "id": "371c8d0a",
   "metadata": {},
   "source": [
    "### 16. Create a function that accepts a number and prints its multiplication table."
   ]
  },
  {
   "cell_type": "code",
   "execution_count": 66,
   "id": "3ad02f12",
   "metadata": {},
   "outputs": [
    {
     "name": "stdout",
     "output_type": "stream",
     "text": [
      "Enter the number : 4\n",
      "Multiplication Table For  4\n",
      "4*1=4\n",
      "4*2=8\n",
      "4*3=12\n",
      "4*4=16\n",
      "4*5=20\n",
      "4*6=24\n",
      "4*7=28\n",
      "4*8=32\n",
      "4*9=36\n",
      "4*10=40\n"
     ]
    }
   ],
   "source": [
    "def multiplication_table(n):\n",
    "    for i in range (1,11):\n",
    "        print(f\"{n}*{i}={n*i}\")\n",
    "\n",
    "n=int(input(\"Enter the number : \"))\n",
    "print(\"Multiplication Table For \",n)\n",
    "multiplication_table(n)"
   ]
  },
  {
   "cell_type": "markdown",
   "id": "267bf0d5",
   "metadata": {},
   "source": [
    "### 17. Write a function that accepts a list and returns the list in reverse order."
   ]
  },
  {
   "cell_type": "code",
   "execution_count": 68,
   "id": "2a6587f8",
   "metadata": {},
   "outputs": [
    {
     "name": "stdout",
     "output_type": "stream",
     "text": [
      "['rekha', 3, 'shruti', 2, 1]\n"
     ]
    }
   ],
   "source": [
    "def rev_order(l):\n",
    "    return l[::-1]\n",
    "l=[1,2,'shruti',3,'rekha']\n",
    "print(rev_order(l))"
   ]
  },
  {
   "cell_type": "markdown",
   "id": "c1c4a572",
   "metadata": {},
   "source": [
    "### 18. Write a function to find the second largest number in a list."
   ]
  },
  {
   "cell_type": "code",
   "execution_count": 71,
   "id": "fb5d2171",
   "metadata": {},
   "outputs": [
    {
     "name": "stdout",
     "output_type": "stream",
     "text": [
      "second largest element in [1, 2, 3, 2, 3, 4, 4, 5, 6, 6] is 5\n"
     ]
    }
   ],
   "source": [
    "def sec_lar(l):\n",
    "    lar=max(l)\n",
    "    c = l.count(lar)\n",
    "    for i in range(c):\n",
    "        l.remove(lar)\n",
    "    sl=max(l)\n",
    "    return sl\n",
    "l=[1,2,3,2,3,4,4,5,6,6]\n",
    "print(f\"second largest element in {l} is {sec_lar(l)}\")"
   ]
  },
  {
   "cell_type": "markdown",
   "id": "b1699a9c",
   "metadata": {},
   "source": [
    "### 19. Create a function that accepts a list of integers and returns only the even ones."
   ]
  },
  {
   "cell_type": "code",
   "execution_count": 3,
   "id": "22d8f303",
   "metadata": {},
   "outputs": [
    {
     "name": "stdout",
     "output_type": "stream",
     "text": [
      "the even elements in list [1, 2, 3, 4, 5, 6, 8, 10] = [2, 4, 6, 8, 10]\n"
     ]
    }
   ],
   "source": [
    "def even(l):\n",
    "    l1=[]\n",
    "    for i in range (0,len(l)):\n",
    "        e=l[i]\n",
    "        if(e%2==0):\n",
    "            l1.append(e)\n",
    "    return l1\n",
    "l=[1,2,3,4,5,6,8,10]\n",
    "print(f\"the even elements in list {l} = {even(l)}\")\n"
   ]
  },
  {
   "cell_type": "markdown",
   "id": "289efcd1",
   "metadata": {},
   "source": [
    "### 20. Write a function to check if all characters in a string are unique."
   ]
  },
  {
   "cell_type": "code",
   "execution_count": 25,
   "id": "1033a29c",
   "metadata": {},
   "outputs": [
    {
     "name": "stdout",
     "output_type": "stream",
     "text": [
      "Enter the string : shruti\n",
      "All character in string shruti are unique\n"
     ]
    }
   ],
   "source": [
    "def check(s):\n",
    "    p = len(set(s))==len(s)\n",
    "    return p\n",
    "s= input(\"Enter the string : \")\n",
    "c = check(s)\n",
    "if c:\n",
    "    print(f\"All character in string {s} are unique\")\n",
    "else:\n",
    "    print(f\"All character in string {s} are not unique\")\n",
    "    "
   ]
  },
  {
   "cell_type": "markdown",
   "id": "549316c8",
   "metadata": {},
   "source": [
    "### 21. Create a function to calculate the greatest common divisor (GCD) of two numbers."
   ]
  },
  {
   "cell_type": "code",
   "execution_count": 15,
   "id": "10785f75",
   "metadata": {},
   "outputs": [
    {
     "name": "stdout",
     "output_type": "stream",
     "text": [
      "100\n"
     ]
    }
   ],
   "source": [
    "def gcd(n1,n2):\n",
    "    while n2!=0: #euclidean algorithm\n",
    "        n1,n2=n2,n1%n2\n",
    "    return n1\n",
    "\n",
    "print(gcd(100,200))\n",
    "        "
   ]
  },
  {
   "cell_type": "markdown",
   "id": "f87acca8",
   "metadata": {},
   "source": [
    "### 22. Write a function to find the least common multiple (LCM) of two numbers."
   ]
  },
  {
   "cell_type": "code",
   "execution_count": null,
   "id": "50f14434",
   "metadata": {},
   "outputs": [],
   "source": []
  },
  {
   "cell_type": "markdown",
   "id": "6256abf7",
   "metadata": {},
   "source": [
    "### 23. Create a function to remove duplicates from a list."
   ]
  },
  {
   "cell_type": "code",
   "execution_count": null,
   "id": "aee8aec3",
   "metadata": {},
   "outputs": [],
   "source": []
  },
  {
   "cell_type": "markdown",
   "id": "342642f9",
   "metadata": {},
   "source": [
    "### 24. Write a recursive function to compute the factorial of a number."
   ]
  },
  {
   "cell_type": "code",
   "execution_count": 66,
   "id": "0b797fd8",
   "metadata": {},
   "outputs": [
    {
     "name": "stdout",
     "output_type": "stream",
     "text": [
      "Enter the number : 4\n",
      "4! = 24\n"
     ]
    }
   ],
   "source": [
    "def fact(n):\n",
    "    f=1\n",
    "    if(n==0):\n",
    "        return 1\n",
    "    else:\n",
    "        f=n*fact(n-1)\n",
    "        return f\n",
    "    \n",
    "n=int(input(\"Enter the number : \"))\n",
    "print(f\"{n}! = {fact(n)}\")"
   ]
  },
  {
   "cell_type": "markdown",
   "id": "f934501d",
   "metadata": {},
   "source": [
    "### 25. Create a function that checks if a number is an Armstrong number."
   ]
  },
  {
   "cell_type": "code",
   "execution_count": 89,
   "id": "ebf6f8d1",
   "metadata": {},
   "outputs": [
    {
     "name": "stdout",
     "output_type": "stream",
     "text": [
      "Enter the number: 1634\n",
      "1634 is an Armstrong Number\n"
     ]
    }
   ],
   "source": [
    "def armstrong(n):\n",
    "    l= len(str(n))\n",
    "    n1=n\n",
    "    s=0\n",
    "    while n1!=0:\n",
    "        d=n1%10\n",
    "        s=s+d**l\n",
    "        n1=n1//10\n",
    "    if(n==s):\n",
    "        print(f\"{n} is an Armstrong Number\")\n",
    "    else:\n",
    "        print(f\"{n} is Not An Armstrong Number\")\n",
    "\n",
    "n=int(input(\"Enter the number: \"))\n",
    "armstrong(n)\n"
   ]
  },
  {
   "cell_type": "markdown",
   "id": "77255aec",
   "metadata": {},
   "source": [
    "### 26. Write a function that returns all prime numbers up to n."
   ]
  },
  {
   "cell_type": "code",
   "execution_count": 120,
   "id": "68eb45ab",
   "metadata": {},
   "outputs": [
    {
     "name": "stdout",
     "output_type": "stream",
     "text": [
      "Enter the number: 30\n",
      "All The Prime Numbers Upto 30 = [2, 3, 5, 7, 11, 13, 17, 19, 23, 29]\n"
     ]
    }
   ],
   "source": [
    "def prime(n):\n",
    "    l=[]\n",
    "    \n",
    "    for i in range(2,n):\n",
    "        c=True\n",
    "        for j in range(2,i):\n",
    "              if(i%j==0):\n",
    "#                 print(i,\" is Not Prime ***\")\n",
    "                c = False\n",
    "                break\n",
    "        if (c==True):\n",
    "#             print(i)\n",
    "            l.append(i)\n",
    "    return l\n",
    "n=int(input(\"Enter the number: \"))\n",
    "print(f\"All The Prime Numbers Upto {n} = {prime(n)}\")"
   ]
  },
  {
   "cell_type": "markdown",
   "id": "f5c84c5d",
   "metadata": {},
   "source": [
    "### 27. Create a function that accepts a sentence and returns the longest word."
   ]
  },
  {
   "cell_type": "code",
   "execution_count": null,
   "id": "a5db2bd6",
   "metadata": {},
   "outputs": [],
   "source": []
  },
  {
   "cell_type": "markdown",
   "id": "3a08904a",
   "metadata": {},
   "source": [
    "### 28. Write a function to compute the power of a number using recursion."
   ]
  },
  {
   "cell_type": "code",
   "execution_count": null,
   "id": "0f1b176d",
   "metadata": {},
   "outputs": [],
   "source": []
  },
  {
   "cell_type": "markdown",
   "id": "82a00163",
   "metadata": {},
   "source": [
    "### 29. Create a function that flattens a nested list."
   ]
  },
  {
   "cell_type": "code",
   "execution_count": null,
   "id": "dd52e26c",
   "metadata": {},
   "outputs": [],
   "source": []
  },
  {
   "cell_type": "markdown",
   "id": "642abe5a",
   "metadata": {},
   "source": [
    "### 30. Write a function to check if a list is sorted."
   ]
  },
  {
   "cell_type": "code",
   "execution_count": null,
   "id": "5d91862d",
   "metadata": {},
   "outputs": [],
   "source": []
  },
  {
   "cell_type": "markdown",
   "id": "8447105b",
   "metadata": {},
   "source": [
    "### 31. Create a function to merge two sorted lists into one sorted list.\n"
   ]
  },
  {
   "cell_type": "code",
   "execution_count": null,
   "id": "f0702650",
   "metadata": {},
   "outputs": [],
   "source": []
  },
  {
   "cell_type": "markdown",
   "id": "9020bbc5",
   "metadata": {},
   "source": [
    "### 32. Write a function to find the most frequent element in a list."
   ]
  },
  {
   "cell_type": "code",
   "execution_count": null,
   "id": "5ce598f1",
   "metadata": {},
   "outputs": [],
   "source": []
  },
  {
   "cell_type": "markdown",
   "id": "0e57b1e4",
   "metadata": {},
   "source": [
    "### 33. Create a function that returns the median of a list."
   ]
  },
  {
   "cell_type": "code",
   "execution_count": null,
   "id": "bb5e455a",
   "metadata": {},
   "outputs": [],
   "source": []
  },
  {
   "cell_type": "markdown",
   "id": "92ce03a2",
   "metadata": {},
   "source": [
    "### 34. Create a function that finds the intersection of two lists."
   ]
  },
  {
   "cell_type": "code",
   "execution_count": 62,
   "id": "1053a752",
   "metadata": {},
   "outputs": [
    {
     "name": "stdout",
     "output_type": "stream",
     "text": [
      "[1, 2, 'shruti']\n"
     ]
    }
   ],
   "source": [
    "def find_intersection(l1,l2):\n",
    "    common = list(set(l1) & set(l2))\n",
    "    return common\n",
    "\n",
    "print(find_intersection(['shruti',1,2,3],[1,2,5,6,'shruti']))"
   ]
  },
  {
   "cell_type": "markdown",
   "id": "d5d3834f",
   "metadata": {},
   "source": [
    "### 35. Write a function that accepts variable number of arguments and returns their product."
   ]
  },
  {
   "cell_type": "code",
   "execution_count": null,
   "id": "4f26e4c4",
   "metadata": {},
   "outputs": [],
   "source": []
  },
  {
   "cell_type": "markdown",
   "id": "7fe7becd",
   "metadata": {},
   "source": [
    "### 36. Write a function that returns a list of tuples (element, index) from a list."
   ]
  },
  {
   "cell_type": "code",
   "execution_count": null,
   "id": "600eee25",
   "metadata": {},
   "outputs": [],
   "source": []
  },
  {
   "cell_type": "markdown",
   "id": "368031e9",
   "metadata": {},
   "source": [
    "### 37. Create a function that accepts a string and returns a dictionary of word counts."
   ]
  },
  {
   "cell_type": "code",
   "execution_count": null,
   "id": "f9f344fc",
   "metadata": {},
   "outputs": [],
   "source": []
  },
  {
   "cell_type": "markdown",
   "id": "74a959da",
   "metadata": {},
   "source": [
    "### 38. Write a function that checks if a sentence is a pangram."
   ]
  },
  {
   "cell_type": "code",
   "execution_count": 59,
   "id": "dffdbaf8",
   "metadata": {},
   "outputs": [
    {
     "name": "stdout",
     "output_type": "stream",
     "text": [
      "Enter string: abcdefghijklmonopqrstuvwxyzsa\n",
      "`abcdefghijklmonopqrstuvwxyzsa` is a pangram: True\n"
     ]
    }
   ],
   "source": [
    "import string\n",
    "\n",
    "def ispangram(s):\n",
    "    \n",
    "#     Checks if a string is a pangram (contains all letters of the alphabet at least once).  \n",
    "    alphabet = set(string.ascii_lowercase)\n",
    "    s_set = set(s.lower())\n",
    "    alphabets_in_text = s_set.intersection(alphabet)\n",
    "#     print(s_set.intersection(alphabet))\n",
    "    return len(alphabets_in_text) == len(alphabet)\n",
    "\n",
    "s= input(\"Enter string: \")\n",
    "print(f'`{s}` is a pangram: {ispangram(s)}')"
   ]
  },
  {
   "cell_type": "markdown",
   "id": "5f691d55",
   "metadata": {},
   "source": [
    "### 39. Create a function that accepts a list and a value, and returns the index of the value (or -1)."
   ]
  },
  {
   "cell_type": "code",
   "execution_count": null,
   "id": "076ddef8",
   "metadata": {},
   "outputs": [],
   "source": [
    "\n"
   ]
  },
  {
   "cell_type": "markdown",
   "id": "d6743ac3",
   "metadata": {},
   "source": [
    "### 40. Write a function that counts the number of uppercase and lowercase characters in a string."
   ]
  },
  {
   "cell_type": "code",
   "execution_count": 46,
   "id": "b5e14854",
   "metadata": {},
   "outputs": [
    {
     "name": "stdout",
     "output_type": "stream",
     "text": [
      "Enter the string : shdtFRDths\n",
      "for string shdtFRDths \n",
      "Number of lowercase character = 7 \n",
      "Number of Uppercase character = 3\n"
     ]
    }
   ],
   "source": [
    "def count_case(s):\n",
    "    u=0\n",
    "    l=0\n",
    "    for i in range (0,len(s)):\n",
    "        if(s[i].islower()):\n",
    "#             print(s[i])\n",
    "            l=l+1\n",
    "        elif s[i].isupper():\n",
    "            u=u+1     \n",
    "    print(f\"for string {s} \\nNumber of lowercase character = {l} \\nNumber of Uppercase character = {u}\")\n",
    "\n",
    "s=input(\"Enter the string : \")\n",
    "count_case(s)"
   ]
  },
  {
   "cell_type": "markdown",
   "id": "7e4f2103",
   "metadata": {},
   "source": [
    "#### Shrutirekha Srichandan"
   ]
  }
 ],
 "metadata": {
  "kernelspec": {
   "display_name": "Python 3 (ipykernel)",
   "language": "python",
   "name": "python3"
  },
  "language_info": {
   "codemirror_mode": {
    "name": "ipython",
    "version": 3
   },
   "file_extension": ".py",
   "mimetype": "text/x-python",
   "name": "python",
   "nbconvert_exporter": "python",
   "pygments_lexer": "ipython3",
   "version": "3.11.5"
  }
 },
 "nbformat": 4,
 "nbformat_minor": 5
}

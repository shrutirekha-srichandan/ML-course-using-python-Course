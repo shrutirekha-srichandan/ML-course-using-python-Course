{
 "cells": [
  {
   "cell_type": "markdown",
   "id": "02953c90",
   "metadata": {},
   "source": [
    "### 1. Create a simple class `Person` with name and age as attributes.\n"
   ]
  },
  {
   "cell_type": "code",
   "execution_count": 4,
   "id": "3f7491d7",
   "metadata": {},
   "outputs": [
    {
     "name": "stdout",
     "output_type": "stream",
     "text": [
      "shruti\n"
     ]
    }
   ],
   "source": [
    "class person:\n",
    "    def __init__(self, name, age):\n",
    "        self.name = name\n",
    "        self.age = age\n",
    "\n",
    "p1 = person(\"shruti\", 22)\n",
    "print(p1.name)"
   ]
  },
  {
   "cell_type": "markdown",
   "id": "9513f56a",
   "metadata": {},
   "source": [
    "### 2. Add a method to the `Person` class that prints a greeting.\n",
    "\n"
   ]
  },
  {
   "cell_type": "code",
   "execution_count": 3,
   "id": "8a8b7018",
   "metadata": {},
   "outputs": [
    {
     "name": "stdout",
     "output_type": "stream",
     "text": [
      "Hello, my name is shruti and I am 22 years old.\n"
     ]
    }
   ],
   "source": [
    "class person:\n",
    "    def __init__(self, name, age):\n",
    "        self.name = name\n",
    "        self.age = age\n",
    "    def greet(self):\n",
    "        print(f\"Hello, my name is {self.name} and I am {self.age} years old.\")\n",
    "\n",
    "p1 = person(\"shruti\", 22)\n",
    "p1.greet()"
   ]
  },
  {
   "cell_type": "markdown",
   "id": "a727e611",
   "metadata": {},
   "source": [
    "### 3. Create a class with a class variable and instance variable.\n"
   ]
  },
  {
   "cell_type": "code",
   "execution_count": 7,
   "id": "54d6b746",
   "metadata": {},
   "outputs": [
    {
     "name": "stdout",
     "output_type": "stream",
     "text": [
      "Hello, my name is shruti and I am 22 years old from ABC University.\n"
     ]
    }
   ],
   "source": [
    "class person:\n",
    "    # class variable\n",
    "    university = \"ABC University\"\n",
    "    # instance variables\n",
    "    def __init__(self, name, age):\n",
    "        self.name = name\n",
    "        self.age = age\n",
    "\n",
    "    def greet(self):\n",
    "        return f\"Hello, my name is {self.name} and I am {self.age} years old from {self.university}.\"\n",
    "p1 = person(\"shruti\", 22)\n",
    "print(p1.greet())"
   ]
  },
  {
   "cell_type": "markdown",
   "id": "0318c732",
   "metadata": {},
   "source": [
    "### 4. Create a private attribute in a class and access it using a method.\n"
   ]
  },
  {
   "cell_type": "code",
   "execution_count": 12,
   "id": "f9072f4c",
   "metadata": {},
   "outputs": [
    {
     "name": "stdout",
     "output_type": "stream",
     "text": [
      "Person(Name: shruti, Age: 22)\n",
      "1000\n"
     ]
    }
   ],
   "source": [
    "class person:  \n",
    "    def __init__(self, name, age,accountbalance):\n",
    "        self.name = name\n",
    "        self.age = age\n",
    "        self.__accountbalance = accountbalance  # private variable\n",
    "\n",
    "\n",
    "    def __str__(self):\n",
    "        return f\"Person(Name: {self.name}, Age: {self.age})\"\n",
    "    \n",
    "    def get_account_balance(self):\n",
    "        return self.__accountbalance\n",
    "p1 = person(\"shruti\", 22, 1000)\n",
    "print(p1)  # Output: Person(Name: shruti, Age: 22)\n",
    "# print(p1.accountbalance) #  AttributeError\n",
    "print(p1.get_account_balance())  # Output: 1000"
   ]
  },
  {
   "cell_type": "markdown",
   "id": "4aa4bad8",
   "metadata": {},
   "source": [
    "### 5. Create a class with a method that returns the square of a number.\n"
   ]
  },
  {
   "cell_type": "code",
   "execution_count": 13,
   "id": "f8a830c2",
   "metadata": {},
   "outputs": [
    {
     "name": "stdout",
     "output_type": "stream",
     "text": [
      "25\n"
     ]
    }
   ],
   "source": [
    "class square_of_number:\n",
    "    def __init__(self,number):\n",
    "        self.number = number\n",
    "    def square(self):\n",
    "        return self.number ** 2\n",
    "s= square_of_number(5)\n",
    "print(s.square())"
   ]
  },
  {
   "cell_type": "markdown",
   "id": "7a770a82",
   "metadata": {},
   "source": [
    "### 6. Create two objects of a class and demonstrate that they are independent.\n"
   ]
  },
  {
   "cell_type": "code",
   "execution_count": 15,
   "id": "d81b5262",
   "metadata": {},
   "outputs": [
    {
     "name": "stdout",
     "output_type": "stream",
     "text": [
      "Hello, my name is shruti and I am 22 years old.\n",
      "Hello, my name is john and I am 30 years old.\n",
      "Hello, my name is Alice and I am 22 years old.\n"
     ]
    }
   ],
   "source": [
    "class person:\n",
    "    def __init__(self, name, age):\n",
    "        self.name = name\n",
    "        self.age = age\n",
    "    def greet(self):\n",
    "        print(f\"Hello, my name is {self.name} and I am {self.age} years old.\")\n",
    "\n",
    "p1 = person(\"shruti\", 22)\n",
    "p1.greet()\n",
    "p2 = person(\"john\", 30)\n",
    "p2.greet()\n",
    "p1.name = \"Alice\"  # Changing the name of p1 is independent of p2\n",
    "p1.greet()  # Now p1 will greet with the new name"
   ]
  },
  {
   "cell_type": "markdown",
   "id": "9767fb50",
   "metadata": {},
   "source": [
    "### 7. Create a class and use a method to set its attributes.\n"
   ]
  },
  {
   "cell_type": "code",
   "execution_count": 18,
   "id": "4f3cb4be",
   "metadata": {},
   "outputs": [
    {
     "name": "stdout",
     "output_type": "stream",
     "text": [
      "None\n",
      "shruti\n",
      "Hello, my name is shruti and I am 22 years old.\n"
     ]
    }
   ],
   "source": [
    "class person:\n",
    "    def __init__(self):\n",
    "        self.name = None\n",
    "        self.age = None\n",
    "    # Method to set attributes\n",
    "    def setattributes(self, name, age):\n",
    "        self.name = name\n",
    "        self.age = age\n",
    "\n",
    "    def greet(self):\n",
    "        print(f\"Hello, my name is {self.name} and I am {self.age} years old.\")\n",
    "\n",
    "p1 = person()\n",
    "print(p1.name)\n",
    "p1.setattributes(\"shruti\", 22) # Setting attributes using the method\n",
    "print(p1.name)  # Output: shruti\n",
    "p1.greet()\n"
   ]
  },
  {
   "cell_type": "markdown",
   "id": "c325a4b6",
   "metadata": {},
   "source": [
    "### 8. Demonstrate use of `isinstance()` with a class.\n"
   ]
  },
  {
   "cell_type": "code",
   "execution_count": null,
   "id": "b8ee5ca3",
   "metadata": {},
   "outputs": [
    {
     "name": "stdout",
     "output_type": "stream",
     "text": [
      "True\n",
      "True\n",
      "False\n"
     ]
    }
   ],
   "source": [
    "class person:\n",
    "    def __init__(self, name, age):\n",
    "        self.name = name\n",
    "        self.age = age\n",
    "\n",
    "    def greet(self):\n",
    "        print(f\"Hello, my name is {self.name} and I am {self.age} years old.\")\n",
    "\n",
    "\n",
    "class student:\n",
    "    def __init__(self, name, age, student_id):\n",
    "        self.name = name\n",
    "        self.age = age\n",
    "        self.student_id = student_id\n",
    "\n",
    "    def greet(self):\n",
    "        print(f\"Hello, my name is {self.name}, I am {self.age} years old and my student ID is {self.student_id}.\")\n",
    "\n",
    "\n",
    "p1 = person(\"shruti\", 22)\n",
    "print(isinstance(p1,person))\n",
    "print(isinstance(p1,object))  # All classes in Python inherit from object\n",
    "print(isinstance(p1,student)) # False, p1 is not an instance of student"
   ]
  },
  {
   "cell_type": "markdown",
   "id": "43ab68cc",
   "metadata": {},
   "source": [
    "### 9. Demonstrate single inheritance in Python.\n"
   ]
  },
  {
   "cell_type": "code",
   "execution_count": 5,
   "id": "e9dce254",
   "metadata": {},
   "outputs": [
    {
     "name": "stdout",
     "output_type": "stream",
     "text": [
      "Hello, my name is shruti and I am 22 years old.\n",
      "My student ID is 35.\n"
     ]
    }
   ],
   "source": [
    "class person:\n",
    "    def __init__(self, name, age):\n",
    "        self.name = name\n",
    "        self.age = age\n",
    "\n",
    "    def greet(self):\n",
    "        print(f\"Hello, my name is {self.name} and I am {self.age} years old.\")\n",
    "\n",
    "\n",
    "class student(person):  # Inheriting from person class\n",
    "    def __init__(self, name, age, student_id):\n",
    "        super().__init__(name, age)  # Call the constructor of the parent class\n",
    "        self.student_id = student_id\n",
    "\n",
    "    def greet(self):\n",
    "        super().greet()  # Call the greet method of the parent class\n",
    "        print(f\"My student ID is {self.student_id}.\")\n",
    "\n",
    "p1 = student(\"shruti\", 22,35)\n",
    "p1.greet()  # Output: Hello, my name is shruti and I am 22 years old. My student ID is 35."
   ]
  },
  {
   "cell_type": "markdown",
   "id": "f1392b61",
   "metadata": {},
   "source": [
    "### 10. Create a base class and derive two child classes with different methods(multilevel inheritance)."
   ]
  },
  {
   "cell_type": "code",
   "execution_count": 7,
   "id": "b2c8e8df",
   "metadata": {},
   "outputs": [
    {
     "name": "stdout",
     "output_type": "stream",
     "text": [
      "Animal eats food.\n",
      "Dog barks.\n",
      "Cat meows.\n",
      "Animal eats food.\n"
     ]
    }
   ],
   "source": [
    "class Animal:\n",
    "    def Eat(self):\n",
    "        print(\"Animal eats food.\")\n",
    "\n",
    "class Dog(Animal):\n",
    "    def Bark(self):\n",
    "        print(\"Dog barks.\")\n",
    "\n",
    "class Cat(Animal):\n",
    "    def Meow(self):\n",
    "        print(\"Cat meows.\")\n",
    "\n",
    "d = Dog()\n",
    "d.Eat()  # Output: Animal eats food.\n",
    "d.Bark()  # Output: Dog barks.\n",
    "# d.meow()  # This will raise an AttributeError since Dog class does not have a Meow method\n",
    "c = Cat()\n",
    "c.Meow()  # Output: Cat meows.\n",
    "c.Eat()  # Output: Animal eats food."
   ]
  },
  {
   "cell_type": "markdown",
   "id": "e368f2bd",
   "metadata": {},
   "source": [
    "### 11. Demonstrate method overriding in inheritance.\n"
   ]
  },
  {
   "cell_type": "code",
   "execution_count": 12,
   "id": "a66469cc",
   "metadata": {},
   "outputs": [
    {
     "name": "stdout",
     "output_type": "stream",
     "text": [
      "I am a person with no specific profession.\n",
      "I am a teacher.\n"
     ]
    }
   ],
   "source": [
    "class person:\n",
    "    def profession(self):\n",
    "        print(\"I am a person with no specific profession.\")\n",
    "class teacher(person):\n",
    "    def profession(self):\n",
    "        print(\"I am a teacher.\")\n",
    "p= person()\n",
    "p.profession()  # Output: I am a person with no specific profession.\n",
    "t = teacher()\n",
    "t.profession()  # Output: I am a teacher."
   ]
  },
  {
   "cell_type": "markdown",
   "id": "7dd988c0",
   "metadata": {},
   "source": [
    "### 12. Use `super()` to call a parent class method.\n"
   ]
  },
  {
   "cell_type": "code",
   "execution_count": null,
   "id": "ee038247",
   "metadata": {},
   "outputs": [
    {
     "name": "stdout",
     "output_type": "stream",
     "text": [
      "Hello, I am from person class.\n",
      "Hello, I am a teacher.\n"
     ]
    }
   ],
   "source": [
    "class person:\n",
    "    def greet(self):\n",
    "        print(\"Hello, I am from person class.\")\n",
    "\n",
    "class teacher (person):\n",
    "    def greet(self):\n",
    "        super().greet() # Call the greet method of the parent class\n",
    "        print(\"Hello, I am a teacher.\")\n",
    "\n",
    "t = teacher()\n",
    "t.greet()  # Output: Hello, I am from person class. Hello, I am a teacher."
   ]
  },
  {
   "cell_type": "markdown",
   "id": "2b8020a9",
   "metadata": {},
   "source": [
    "### 13. Create an abstract base class using `abc` module.\n"
   ]
  },
  {
   "cell_type": "code",
   "execution_count": null,
   "id": "cd1a5234",
   "metadata": {},
   "outputs": [
    {
     "name": "stdout",
     "output_type": "stream",
     "text": [
      "78.5\n"
     ]
    }
   ],
   "source": [
    "from abc import ABC, abstractmethod\n",
    "\n",
    "class Shape(ABC): # Abstract class\n",
    "    @abstractmethod\n",
    "    def area(self):\n",
    "        pass # Abstract method that must be implemented by subclasses\n",
    "\n",
    "class Circle(Shape): # Inheriting from the abstract class Shape\n",
    "    def __init__(self, radius):\n",
    "        self.radius = radius\n",
    "\n",
    "    def area(self):\n",
    "        return 3.14 * self.radius * self.radius\n",
    "\n",
    "circle = Circle(5)\n",
    "print(circle.area())"
   ]
  },
  {
   "cell_type": "markdown",
   "id": "1ff6d392",
   "metadata": {},
   "source": [
    "### 14. Demonstrate multiple inheritance in Python.\n"
   ]
  },
  {
   "cell_type": "code",
   "execution_count": 16,
   "id": "2f131467",
   "metadata": {},
   "outputs": [
    {
     "name": "stdout",
     "output_type": "stream",
     "text": [
      "I am a teacher.\n",
      "I am a person.\n",
      "I am also a student.\n"
     ]
    }
   ],
   "source": [
    "class person:\n",
    "    def print_person(self):\n",
    "        print(\"I am a person.\")\n",
    "class student:\n",
    "    def print_student(self):\n",
    "        print(\"I am also a student.\")\n",
    "class teacher(person, student):\n",
    "    def print(self):\n",
    "        print(\"I am a teacher.\")\n",
    "\n",
    "t = teacher()\n",
    "t.print()  # Output: I am a teacher.\n",
    "t.print_person()  # Output: I am a person.\n",
    "t.print_student()  # Output: I am a student."
   ]
  },
  {
   "cell_type": "markdown",
   "id": "d1337cf4",
   "metadata": {},
   "source": [
    "### 15. Demonstrate encapsulation using getter and setter.\n"
   ]
  },
  {
   "cell_type": "code",
   "execution_count": 19,
   "id": "89e61403",
   "metadata": {},
   "outputs": [
    {
     "name": "stdout",
     "output_type": "stream",
     "text": [
      "Name: Henry\n",
      "Age: 18\n",
      "Updated Name: David\n",
      "Updated Age: 19\n"
     ]
    }
   ],
   "source": [
    "class Person:\n",
    "    def __init__(self, name, age):\n",
    "        self.__name = name      # private attribute\n",
    "        self.__age = age        # private attribute\n",
    "\n",
    "    # Getter for name\n",
    "    def get_name(self):\n",
    "        return self.__name\n",
    "\n",
    "    # Setter for name\n",
    "    def set_name(self, name):\n",
    "        self.__name = name\n",
    "\n",
    "    # Getter for age\n",
    "    def get_age(self):\n",
    "        return self.__age\n",
    "\n",
    "    # Setter for age\n",
    "    def set_age(self, age):\n",
    "        if age >= 0:\n",
    "            self.__age = age\n",
    "        else:\n",
    "            print(\"Age cannot be negative.\")\n",
    "\n",
    "p1 = Person(\"Henry\", 18)\n",
    "print(\"Name:\", p1.get_name())\n",
    "print(\"Age:\", p1.get_age())\n",
    "\n",
    "p1.set_name(\"David\")\n",
    "p1.set_age(19)\n",
    "\n",
    "print(\"Updated Name:\", p1.get_name())\n",
    "print(\"Updated Age:\", p1.get_age())"
   ]
  },
  {
   "cell_type": "markdown",
   "id": "e2a22f63",
   "metadata": {},
   "source": [
    "### 16. Write a program to demonstrate polymorphism with a common method.\n"
   ]
  },
  {
   "cell_type": "code",
   "execution_count": 20,
   "id": "3ce66d1d",
   "metadata": {},
   "outputs": [
    {
     "name": "stdout",
     "output_type": "stream",
     "text": [
      "Sparrow flies fast and low\n",
      "Eagle can fly high.\n",
      "Ostriches cannot fly.\n",
      "Penguin cannot fly, it swims\n"
     ]
    }
   ],
   "source": [
    "class Bird:\n",
    "    def fly(self):\n",
    "        print(\"Most of the birds can fly but some cannot.\")\n",
    "\n",
    "class Sparrow(Bird):\n",
    "    def fly(self):\n",
    "        print(\"Sparrow flies fast and low\")\n",
    "\n",
    "class Eagle(Bird):\n",
    "    def fly(self):\n",
    "        print(\"Eagle can fly high.\")\n",
    "\n",
    "class Ostrich(Bird):\n",
    "    def fly(self):\n",
    "        print(\"Ostriches cannot fly.\")\n",
    "\n",
    "class Penguin(Bird):\n",
    "    def fly(self):\n",
    "        print(\"Penguin cannot fly, it swims\")\n",
    "\n",
    "# function to make any bird fly\n",
    "def show_flying(bird):\n",
    "    bird.fly()\n",
    "\n",
    "# Create bird objects\n",
    "bird1 = Sparrow()\n",
    "bird2 = Eagle()\n",
    "bird3 = Ostrich()\n",
    "bird4 = Penguin()\n",
    "\n",
    "\n",
    "# Use the same function to see how each bird flies\n",
    "show_flying(bird1)\n",
    "show_flying(bird2)\n",
    "show_flying(bird3)\n",
    "show_flying(bird4)\n"
   ]
  },
  {
   "cell_type": "markdown",
   "id": "44196576",
   "metadata": {},
   "source": [
    "### 17. Create a class `Employee` with a method to display the number of employees created.\n"
   ]
  },
  {
   "cell_type": "code",
   "execution_count": 23,
   "id": "1cffd46b",
   "metadata": {},
   "outputs": [
    {
     "name": "stdout",
     "output_type": "stream",
     "text": [
      "Number of employees created: 4\n"
     ]
    }
   ],
   "source": [
    "class Employee:\n",
    "    count = 0  # class variable\n",
    "\n",
    "    def __init__(self, name):\n",
    "        self.name = name\n",
    "        Employee.count += 1\n",
    "\n",
    "    @classmethod # class method to access class variable\n",
    "    def display_count(cls):\n",
    "        print(f\"Number of employees created: {cls.count}\")\n",
    "\n",
    "# Creating employee objects\n",
    "emp1 = Employee(\"rahul\")\n",
    "emp2 = Employee(\"sivam\")\n",
    "emp3 = Employee(\"arjun\")\n",
    "emp4 = Employee(\"neha\")\n",
    "\n",
    "# Displaying the number of employees created\n",
    "Employee.display_count()"
   ]
  },
  {
   "cell_type": "markdown",
   "id": "c072b7dc",
   "metadata": {},
   "source": [
    "### 18. Demonstrate constructor overloading using default arguments.\n"
   ]
  },
  {
   "cell_type": "code",
   "execution_count": 26,
   "id": "91ca36f2",
   "metadata": {},
   "outputs": [
    {
     "name": "stdout",
     "output_type": "stream",
     "text": [
      "Name: Unknown, Age: not specified\n",
      "Name: Arjun, Age: not specified\n",
      "Name: Ram, Age: 27\n"
     ]
    }
   ],
   "source": [
    "class Student:\n",
    "    def __init__(self, name=\"Unknown\", age='not specified'):\n",
    "        self.name = name\n",
    "        self.age = age\n",
    "\n",
    "    def show(self):\n",
    "        print(f\"Name: {self.name}, Age: {self.age}\")\n",
    "\n",
    "s1 = Student()\n",
    "s2 = Student(\"Arjun\")\n",
    "s3 = Student(\"Ram\", 27)\n",
    "\n",
    "s1.show()  \n",
    "s2.show()  \n",
    "s3.show() "
   ]
  },
  {
   "cell_type": "markdown",
   "id": "01480ee1",
   "metadata": {},
   "source": [
    "### 19. Implement a bank account system with deposit and withdrawal methods.\n"
   ]
  },
  {
   "cell_type": "code",
   "execution_count": 28,
   "id": "cfebdbf2",
   "metadata": {},
   "outputs": [
    {
     "name": "stdout",
     "output_type": "stream",
     "text": [
      "Account owner: Ram charan, Initial balance: 500\n",
      "Deposited: 100\n",
      "Total balance: 600\n",
      "Withdrew: 300\n",
      "Available balance: 300\n",
      "Not enough balance\n"
     ]
    }
   ],
   "source": [
    "\n",
    "class BankAccount:\n",
    "    def __init__(self, owner, balance=0):\n",
    "        self.owner = owner\n",
    "        self.balance = balance\n",
    "\n",
    "    def deposit(self, amount):\n",
    "        self.balance += amount\n",
    "        print(\"Deposited:\", amount)\n",
    "        print(\"Total balance:\", self.balance)\n",
    "\n",
    "    def withdraw(self, amount):\n",
    "        if amount > self.balance:\n",
    "            print(\"Not enough balance\")\n",
    "        else:\n",
    "            self.balance -= amount\n",
    "            print(\"Withdrew:\", amount)\n",
    "            print(\"Available balance:\", self.balance)\n",
    "\n",
    "account = BankAccount(\"Ram charan\", 500)\n",
    "print(f\"Account owner: {account.owner}, Initial balance: {account.balance}\")\n",
    "account.deposit(100)\n",
    "account.withdraw(300)\n",
    "account.withdraw(500)"
   ]
  },
  {
   "cell_type": "markdown",
   "id": "887f8900",
   "metadata": {},
   "source": [
    "### 20. Create a class `Rectangle` with method to calculate area and perimeter."
   ]
  },
  {
   "cell_type": "code",
   "execution_count": 30,
   "id": "c844cacc",
   "metadata": {},
   "outputs": [
    {
     "name": "stdout",
     "output_type": "stream",
     "text": [
      "Area of rectangle: 10\n",
      "Perimeter of rectangle: 14\n"
     ]
    }
   ],
   "source": [
    "class Rectangle:\n",
    "    def __init__(self, length, width):\n",
    "        self.length = length\n",
    "        self.width = width\n",
    "\n",
    "    def area(self):\n",
    "        return self.length * self.width\n",
    "\n",
    "    def perimeter(self):\n",
    "        return 2 * (self.length + self.width)\n",
    "\n",
    "rect = Rectangle(5,2)\n",
    "print(f\"Area of rectangle: {rect.area()}\")\n",
    "print(f\"Perimeter of rectangle: {rect.perimeter()}\")"
   ]
  },
  {
   "cell_type": "markdown",
   "id": "d1bddda1",
   "metadata": {},
   "source": [
    "#### shrutirekha srichandan"
   ]
  }
 ],
 "metadata": {
  "kernelspec": {
   "display_name": "Python 3",
   "language": "python",
   "name": "python3"
  },
  "language_info": {
   "codemirror_mode": {
    "name": "ipython",
    "version": 3
   },
   "file_extension": ".py",
   "mimetype": "text/x-python",
   "name": "python",
   "nbconvert_exporter": "python",
   "pygments_lexer": "ipython3",
   "version": "3.13.1"
  }
 },
 "nbformat": 4,
 "nbformat_minor": 5
}

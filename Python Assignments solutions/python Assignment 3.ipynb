{
 "cells": [
  {
   "cell_type": "markdown",
   "id": "02953c90",
   "metadata": {},
   "source": [
    "### 1. Create a simple class `Person` with name and age as attributes.\n"
   ]
  },
  {
   "cell_type": "code",
   "execution_count": null,
   "id": "3f7491d7",
   "metadata": {},
   "outputs": [],
   "source": []
  },
  {
   "cell_type": "markdown",
   "id": "9513f56a",
   "metadata": {},
   "source": [
    "### 2. Add a method to the `Person` class that prints a greeting.\n",
    "\n"
   ]
  },
  {
   "cell_type": "code",
   "execution_count": null,
   "id": "8a8b7018",
   "metadata": {},
   "outputs": [],
   "source": []
  },
  {
   "cell_type": "markdown",
   "id": "a727e611",
   "metadata": {},
   "source": [
    "### 3. Create a class with a class variable and instance variable.\n"
   ]
  },
  {
   "cell_type": "markdown",
   "id": "0318c732",
   "metadata": {},
   "source": [
    "### 4. Create a private attribute in a class and access it using a method.\n"
   ]
  },
  {
   "cell_type": "markdown",
   "id": "4aa4bad8",
   "metadata": {},
   "source": [
    "### 5. Create a class with a method that returns the square of a number.\n"
   ]
  },
  {
   "cell_type": "markdown",
   "id": "7a770a82",
   "metadata": {},
   "source": [
    "### 6. Create two objects of a class and demonstrate that they are independent.\n"
   ]
  },
  {
   "cell_type": "markdown",
   "id": "9767fb50",
   "metadata": {},
   "source": [
    "### 7. Create a class and use a method to set its attributes.\n"
   ]
  },
  {
   "cell_type": "markdown",
   "id": "c325a4b6",
   "metadata": {},
   "source": [
    "### 8. Demonstrate use of `isinstance()` with a class.\n"
   ]
  },
  {
   "cell_type": "markdown",
   "id": "43ab68cc",
   "metadata": {},
   "source": [
    "### 9. Demonstrate single inheritance in Python.\n"
   ]
  },
  {
   "cell_type": "markdown",
   "id": "f1392b61",
   "metadata": {},
   "source": [
    "### 10. Create a base class and derive two child classes with different methods(multilevel inheritance)."
   ]
  },
  {
   "cell_type": "markdown",
   "id": "e368f2bd",
   "metadata": {},
   "source": [
    "### 11. Demonstrate method overriding in inheritance.\n"
   ]
  },
  {
   "cell_type": "markdown",
   "id": "7dd988c0",
   "metadata": {},
   "source": [
    "### 12. Use `super()` to call a parent class method.\n"
   ]
  },
  {
   "cell_type": "markdown",
   "id": "2b8020a9",
   "metadata": {},
   "source": [
    "### 13. Create an abstract base class using `abc` module.\n"
   ]
  },
  {
   "cell_type": "markdown",
   "id": "1ff6d392",
   "metadata": {},
   "source": [
    "### 14. Demonstrate multiple inheritance in Python.\n"
   ]
  },
  {
   "cell_type": "markdown",
   "id": "d1337cf4",
   "metadata": {},
   "source": [
    "### 15. Demonstrate encapsulation using getter and setter.\n"
   ]
  },
  {
   "cell_type": "markdown",
   "id": "e2a22f63",
   "metadata": {},
   "source": [
    "### 16. Write a program to demonstrate polymorphism with a common method.\n"
   ]
  },
  {
   "cell_type": "markdown",
   "id": "44196576",
   "metadata": {},
   "source": [
    "### 17. Create a class `Employee` with a method to display the number of employees created.\n"
   ]
  },
  {
   "cell_type": "markdown",
   "id": "c072b7dc",
   "metadata": {},
   "source": [
    "### 18. Demonstrate constructor overloading using default arguments.\n"
   ]
  },
  {
   "cell_type": "markdown",
   "id": "01480ee1",
   "metadata": {},
   "source": [
    "### 19. Implement a bank account system with deposit and withdrawal methods.\n"
   ]
  },
  {
   "cell_type": "markdown",
   "id": "887f8900",
   "metadata": {},
   "source": [
    "### 20. Create a class `Rectangle` with method to calculate area and perimeter."
   ]
  },
  {
   "cell_type": "markdown",
   "id": "d1bddda1",
   "metadata": {},
   "source": [
    "#### shrutirekha srichandan"
   ]
  }
 ],
 "metadata": {
  "kernelspec": {
   "display_name": "Python 3",
   "language": "python",
   "name": "python3"
  },
  "language_info": {
   "name": "python",
   "version": "3.13.1"
  }
 },
 "nbformat": 4,
 "nbformat_minor": 5
}

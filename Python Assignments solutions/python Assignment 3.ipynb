{
 "cells": [
  {
   "cell_type": "markdown",
   "id": "02953c90",
   "metadata": {},
   "source": [
    "### 1. Create a simple class `Person` with name and age as attributes.\n"
   ]
  },
  {
   "cell_type": "code",
   "execution_count": 4,
   "id": "3f7491d7",
   "metadata": {},
   "outputs": [
    {
     "name": "stdout",
     "output_type": "stream",
     "text": [
      "shruti\n"
     ]
    }
   ],
   "source": [
    "class person:\n",
    "    def __init__(self, name, age):\n",
    "        self.name = name\n",
    "        self.age = age\n",
    "\n",
    "p1 = person(\"shruti\", 22)\n",
    "print(p1.name)"
   ]
  },
  {
   "cell_type": "markdown",
   "id": "9513f56a",
   "metadata": {},
   "source": [
    "### 2. Add a method to the `Person` class that prints a greeting.\n",
    "\n"
   ]
  },
  {
   "cell_type": "code",
   "execution_count": 3,
   "id": "8a8b7018",
   "metadata": {},
   "outputs": [
    {
     "name": "stdout",
     "output_type": "stream",
     "text": [
      "Hello, my name is shruti and I am 22 years old.\n"
     ]
    }
   ],
   "source": [
    "class person:\n",
    "    def __init__(self, name, age):\n",
    "        self.name = name\n",
    "        self.age = age\n",
    "    def greet(self):\n",
    "        print(f\"Hello, my name is {self.name} and I am {self.age} years old.\")\n",
    "\n",
    "p1 = person(\"shruti\", 22)\n",
    "p1.greet()"
   ]
  },
  {
   "cell_type": "markdown",
   "id": "a727e611",
   "metadata": {},
   "source": [
    "### 3. Create a class with a class variable and instance variable.\n"
   ]
  },
  {
   "cell_type": "code",
   "execution_count": 7,
   "id": "54d6b746",
   "metadata": {},
   "outputs": [
    {
     "name": "stdout",
     "output_type": "stream",
     "text": [
      "Hello, my name is shruti and I am 22 years old from ABC University.\n"
     ]
    }
   ],
   "source": [
    "class person:\n",
    "    # class variable\n",
    "    university = \"ABC University\"\n",
    "    # instance variables\n",
    "    def __init__(self, name, age):\n",
    "        self.name = name\n",
    "        self.age = age\n",
    "\n",
    "    def greet(self):\n",
    "        return f\"Hello, my name is {self.name} and I am {self.age} years old from {self.university}.\"\n",
    "p1 = person(\"shruti\", 22)\n",
    "print(p1.greet())"
   ]
  },
  {
   "cell_type": "markdown",
   "id": "0318c732",
   "metadata": {},
   "source": [
    "### 4. Create a private attribute in a class and access it using a method.\n"
   ]
  },
  {
   "cell_type": "code",
   "execution_count": 12,
   "id": "f9072f4c",
   "metadata": {},
   "outputs": [
    {
     "name": "stdout",
     "output_type": "stream",
     "text": [
      "Person(Name: shruti, Age: 22)\n",
      "1000\n"
     ]
    }
   ],
   "source": [
    "class person:  \n",
    "    def __init__(self, name, age,accountbalance):\n",
    "        self.name = name\n",
    "        self.age = age\n",
    "        self.__accountbalance = accountbalance  # private variable\n",
    "\n",
    "\n",
    "    def __str__(self):\n",
    "        return f\"Person(Name: {self.name}, Age: {self.age})\"\n",
    "    \n",
    "    def get_account_balance(self):\n",
    "        return self.__accountbalance\n",
    "p1 = person(\"shruti\", 22, 1000)\n",
    "print(p1)  # Output: Person(Name: shruti, Age: 22)\n",
    "# print(p1.accountbalance) #  AttributeError\n",
    "print(p1.get_account_balance())  # Output: 1000"
   ]
  },
  {
   "cell_type": "markdown",
   "id": "4aa4bad8",
   "metadata": {},
   "source": [
    "### 5. Create a class with a method that returns the square of a number.\n"
   ]
  },
  {
   "cell_type": "code",
   "execution_count": 13,
   "id": "f8a830c2",
   "metadata": {},
   "outputs": [
    {
     "name": "stdout",
     "output_type": "stream",
     "text": [
      "25\n"
     ]
    }
   ],
   "source": [
    "class square_of_number:\n",
    "    def __init__(self,number):\n",
    "        self.number = number\n",
    "    def square(self):\n",
    "        return self.number ** 2\n",
    "s= square_of_number(5)\n",
    "print(s.square())"
   ]
  },
  {
   "cell_type": "markdown",
   "id": "7a770a82",
   "metadata": {},
   "source": [
    "### 6. Create two objects of a class and demonstrate that they are independent.\n"
   ]
  },
  {
   "cell_type": "code",
   "execution_count": 15,
   "id": "d81b5262",
   "metadata": {},
   "outputs": [
    {
     "name": "stdout",
     "output_type": "stream",
     "text": [
      "Hello, my name is shruti and I am 22 years old.\n",
      "Hello, my name is john and I am 30 years old.\n",
      "Hello, my name is Alice and I am 22 years old.\n"
     ]
    }
   ],
   "source": [
    "class person:\n",
    "    def __init__(self, name, age):\n",
    "        self.name = name\n",
    "        self.age = age\n",
    "    def greet(self):\n",
    "        print(f\"Hello, my name is {self.name} and I am {self.age} years old.\")\n",
    "\n",
    "p1 = person(\"shruti\", 22)\n",
    "p1.greet()\n",
    "p2 = person(\"john\", 30)\n",
    "p2.greet()\n",
    "p1.name = \"Alice\"  # Changing the name of p1 is independent of p2\n",
    "p1.greet()  # Now p1 will greet with the new name"
   ]
  },
  {
   "cell_type": "markdown",
   "id": "9767fb50",
   "metadata": {},
   "source": [
    "### 7. Create a class and use a method to set its attributes.\n"
   ]
  },
  {
   "cell_type": "code",
   "execution_count": 18,
   "id": "4f3cb4be",
   "metadata": {},
   "outputs": [
    {
     "name": "stdout",
     "output_type": "stream",
     "text": [
      "None\n",
      "shruti\n",
      "Hello, my name is shruti and I am 22 years old.\n"
     ]
    }
   ],
   "source": [
    "class person:\n",
    "    def __init__(self):\n",
    "        self.name = None\n",
    "        self.age = None\n",
    "    # Method to set attributes\n",
    "    def setattributes(self, name, age):\n",
    "        self.name = name\n",
    "        self.age = age\n",
    "\n",
    "    def greet(self):\n",
    "        print(f\"Hello, my name is {self.name} and I am {self.age} years old.\")\n",
    "\n",
    "p1 = person()\n",
    "print(p1.name)\n",
    "p1.setattributes(\"shruti\", 22) # Setting attributes using the method\n",
    "print(p1.name)  # Output: shruti\n",
    "p1.greet()\n"
   ]
  },
  {
   "cell_type": "markdown",
   "id": "c325a4b6",
   "metadata": {},
   "source": [
    "### 8. Demonstrate use of `isinstance()` with a class.\n"
   ]
  },
  {
   "cell_type": "markdown",
   "id": "43ab68cc",
   "metadata": {},
   "source": [
    "### 9. Demonstrate single inheritance in Python.\n"
   ]
  },
  {
   "cell_type": "markdown",
   "id": "f1392b61",
   "metadata": {},
   "source": [
    "### 10. Create a base class and derive two child classes with different methods(multilevel inheritance)."
   ]
  },
  {
   "cell_type": "markdown",
   "id": "e368f2bd",
   "metadata": {},
   "source": [
    "### 11. Demonstrate method overriding in inheritance.\n"
   ]
  },
  {
   "cell_type": "markdown",
   "id": "7dd988c0",
   "metadata": {},
   "source": [
    "### 12. Use `super()` to call a parent class method.\n"
   ]
  },
  {
   "cell_type": "markdown",
   "id": "2b8020a9",
   "metadata": {},
   "source": [
    "### 13. Create an abstract base class using `abc` module.\n"
   ]
  },
  {
   "cell_type": "markdown",
   "id": "1ff6d392",
   "metadata": {},
   "source": [
    "### 14. Demonstrate multiple inheritance in Python.\n"
   ]
  },
  {
   "cell_type": "markdown",
   "id": "d1337cf4",
   "metadata": {},
   "source": [
    "### 15. Demonstrate encapsulation using getter and setter.\n"
   ]
  },
  {
   "cell_type": "markdown",
   "id": "e2a22f63",
   "metadata": {},
   "source": [
    "### 16. Write a program to demonstrate polymorphism with a common method.\n"
   ]
  },
  {
   "cell_type": "markdown",
   "id": "44196576",
   "metadata": {},
   "source": [
    "### 17. Create a class `Employee` with a method to display the number of employees created.\n"
   ]
  },
  {
   "cell_type": "markdown",
   "id": "c072b7dc",
   "metadata": {},
   "source": [
    "### 18. Demonstrate constructor overloading using default arguments.\n"
   ]
  },
  {
   "cell_type": "markdown",
   "id": "01480ee1",
   "metadata": {},
   "source": [
    "### 19. Implement a bank account system with deposit and withdrawal methods.\n"
   ]
  },
  {
   "cell_type": "markdown",
   "id": "887f8900",
   "metadata": {},
   "source": [
    "### 20. Create a class `Rectangle` with method to calculate area and perimeter."
   ]
  },
  {
   "cell_type": "markdown",
   "id": "d1bddda1",
   "metadata": {},
   "source": [
    "#### shrutirekha srichandan"
   ]
  }
 ],
 "metadata": {
  "kernelspec": {
   "display_name": "Python 3",
   "language": "python",
   "name": "python3"
  },
  "language_info": {
   "codemirror_mode": {
    "name": "ipython",
    "version": 3
   },
   "file_extension": ".py",
   "mimetype": "text/x-python",
   "name": "python",
   "nbconvert_exporter": "python",
   "pygments_lexer": "ipython3",
   "version": "3.13.1"
  }
 },
 "nbformat": 4,
 "nbformat_minor": 5
}

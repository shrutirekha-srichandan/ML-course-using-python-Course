{
 "cells": [
  {
   "cell_type": "markdown",
   "id": "0f620f5b",
   "metadata": {},
   "source": [
    "### Exercise 1\n",
    "**Task:** Import matplotlib and plot a basic line graph.\n"
   ]
  },
  {
   "cell_type": "code",
   "execution_count": null,
   "id": "016bec53",
   "metadata": {
    "vscode": {
     "languageId": "plaintext"
    }
   },
   "outputs": [],
   "source": []
  },
  {
   "cell_type": "markdown",
   "id": "a73ee9fd",
   "metadata": {},
   "source": [
    "### Exercise 2\n",
    "**Task:** Plot two lines on the same graph.\n",
    "\n",
    "```python\n",
    "# Your code here\n",
    "\n",
    "```\n"
   ]
  },
  {
   "cell_type": "markdown",
   "id": "0948e458",
   "metadata": {},
   "source": [
    "### Exercise 3\n",
    "**Task:** Change the color of a line plot.\n",
    "\n",
    "```python\n",
    "# Your code here\n",
    "\n",
    "```\n"
   ]
  },
  {
   "cell_type": "markdown",
   "id": "37454411",
   "metadata": {},
   "source": [
    "### Exercise 4\n",
    "**Task:** Use markers on a line plot.\n",
    "\n",
    "```python\n",
    "# Your code here\n",
    "\n",
    "```\n"
   ]
  },
  {
   "cell_type": "markdown",
   "id": "d5a4a72e",
   "metadata": {},
   "source": [
    "### Exercise 5\n",
    "**Task:** Change line style (dashed, dotted, etc.).\n",
    "\n",
    "```python\n",
    "# Your code here\n",
    "\n",
    "```\n"
   ]
  },
  {
   "cell_type": "markdown",
   "id": "c31ce5b6",
   "metadata": {},
   "source": [
    "### Exercise 6\n",
    "**Task:** Add title to a plot.\n",
    "\n",
    "```python\n",
    "# Your code here\n",
    "\n",
    "```\n"
   ]
  },
  {
   "cell_type": "markdown",
   "id": "290d85de",
   "metadata": {},
   "source": [
    "### Exercise 7\n",
    "**Task:** Label the x-axis and y-axis.\n",
    "\n",
    "```python\n",
    "# Your code here\n",
    "\n",
    "```\n"
   ]
  },
  {
   "cell_type": "markdown",
   "id": "3f78fc4e",
   "metadata": {},
   "source": [
    "### Exercise 8\n",
    "**Task:** Add a legend to your plot.\n",
    "\n",
    "```python\n",
    "# Your code here\n",
    "\n",
    "```\n"
   ]
  },
  {
   "cell_type": "markdown",
   "id": "22a60fef",
   "metadata": {},
   "source": [
    "### Exercise 9\n",
    "**Task:** Plot a simple bar chart.\n",
    "\n",
    "```python\n",
    "# Your code here\n",
    "\n",
    "```\n"
   ]
  },
  {
   "cell_type": "markdown",
   "id": "1ce98ead",
   "metadata": {},
   "source": [
    "### Exercise 10\n",
    "**Task:** Change bar colors in a bar chart.\n",
    "\n",
    "```python\n",
    "# Your code here\n",
    "\n",
    "```\n"
   ]
  },
  {
   "cell_type": "markdown",
   "id": "a7b29502",
   "metadata": {},
   "source": [
    "### Exercise 11\n",
    "**Task:** Create a horizontal bar chart.\n",
    "\n",
    "```python\n",
    "# Your code here\n",
    "\n",
    "```\n"
   ]
  },
  {
   "cell_type": "markdown",
   "id": "a1f5e65e",
   "metadata": {},
   "source": [
    "### Exercise 12\n",
    "**Task:** Plot a histogram.\n",
    "\n",
    "```python\n",
    "# Your code here\n",
    "\n",
    "```\n"
   ]
  },
  {
   "cell_type": "markdown",
   "id": "38f6a089",
   "metadata": {},
   "source": [
    "### Exercise 13\n",
    "**Task:** Change the number of bins in a histogram.\n",
    "\n",
    "```python\n",
    "# Your code here\n",
    "\n",
    "```\n"
   ]
  },
  {
   "cell_type": "markdown",
   "id": "b598472d",
   "metadata": {},
   "source": [
    "### Exercise 14\n",
    "**Task:** Add gridlines to your plot.\n",
    "\n",
    "```python\n",
    "# Your code here\n",
    "\n",
    "```\n"
   ]
  },
  {
   "cell_type": "markdown",
   "id": "4ca7026a",
   "metadata": {},
   "source": [
    "### Exercise 15\n",
    "**Task:** Save your plot as an image file.\n",
    "\n",
    "```python\n",
    "# Your code here\n",
    "\n",
    "```\n"
   ]
  },
  {
   "cell_type": "markdown",
   "id": "23c8cfbf",
   "metadata": {},
   "source": [
    "### Exercise 16\n",
    "**Task:** Plot a pie chart.\n",
    "\n",
    "```python\n",
    "# Your code here\n",
    "\n",
    "```\n"
   ]
  },
  {
   "cell_type": "markdown",
   "id": "b80dadde",
   "metadata": {},
   "source": [
    "### Exercise 17\n",
    "**Task:** Add labels to pie chart sections.\n",
    "\n",
    "```python\n",
    "# Your code here\n",
    "\n",
    "```\n"
   ]
  },
  {
   "cell_type": "markdown",
   "id": "e086de7c",
   "metadata": {},
   "source": [
    "### Exercise 18\n",
    "**Task:** Add percentage to pie chart sections.\n",
    "\n",
    "```python\n",
    "# Your code here\n",
    "\n",
    "```\n"
   ]
  },
  {
   "cell_type": "markdown",
   "id": "ebf7fed1",
   "metadata": {},
   "source": [
    "### Exercise 19\n",
    "**Task:** Plot a scatter plot.\n",
    "\n",
    "```python\n",
    "# Your code here\n",
    "\n",
    "```\n"
   ]
  },
  {
   "cell_type": "markdown",
   "id": "104b6c58",
   "metadata": {},
   "source": [
    "### Exercise 20\n",
    "**Task:** Change marker size in scatter plot.\n",
    "\n",
    "```python\n",
    "# Your code here\n",
    "\n",
    "```\n"
   ]
  },
  {
   "cell_type": "markdown",
   "id": "99d8b635",
   "metadata": {},
   "source": [
    "### Exercise 21\n",
    "**Task:** Change marker color in scatter plot.\n",
    "\n",
    "```python\n",
    "# Your code here\n",
    "\n",
    "```\n"
   ]
  },
  {
   "cell_type": "markdown",
   "id": "ef2ed989",
   "metadata": {},
   "source": [
    "### Exercise 22\n",
    "**Task:** Plot multiple scatter plots in one figure.\n",
    "\n",
    "```python\n",
    "# Your code here\n",
    "\n",
    "```\n"
   ]
  },
  {
   "cell_type": "markdown",
   "id": "25a455be",
   "metadata": {},
   "source": [
    "### Exercise 23\n",
    "**Task:** Use subplot to show two plots side-by-side.\n",
    "\n",
    "```python\n",
    "# Your code here\n",
    "\n",
    "```\n"
   ]
  },
  {
   "cell_type": "markdown",
   "id": "bb1cc01c",
   "metadata": {},
   "source": [
    "### Exercise 24\n",
    "**Task:** Use subplot to show four plots in a 2x2 grid.\n",
    "\n",
    "```python\n",
    "# Your code here\n",
    "\n",
    "```\n"
   ]
  },
  {
   "cell_type": "markdown",
   "id": "854f000d",
   "metadata": {},
   "source": [
    "### Exercise 25\n",
    "**Task:** Plot a sine wave using numpy.\n",
    "\n",
    "```python\n",
    "# Your code here\n",
    "\n",
    "```\n"
   ]
  },
  {
   "cell_type": "markdown",
   "id": "0f11aab2",
   "metadata": {},
   "source": [
    "### Exercise 26\n",
    "**Task:** Customize tick marks on x and y axis.\n",
    "\n",
    "```python\n",
    "# Your code here\n",
    "\n",
    "```\n"
   ]
  },
  {
   "cell_type": "markdown",
   "id": "4074646d",
   "metadata": {},
   "source": [
    "### Exercise 27\n",
    "**Task:** Rotate x-axis labels.\n",
    "\n",
    "```python\n",
    "# Your code here\n",
    "\n",
    "```\n"
   ]
  },
  {
   "cell_type": "markdown",
   "id": "3fb29344",
   "metadata": {},
   "source": [
    "### Exercise 28\n",
    "**Task:** Add annotation to your plot.\n",
    "\n",
    "```python\n",
    "# Your code here\n",
    "\n",
    "```\n"
   ]
  },
  {
   "cell_type": "markdown",
   "id": "9b1b809b",
   "metadata": {},
   "source": [
    "### Exercise 29\n",
    "**Task:** Draw a filled area under a line (fill_between).\n",
    "\n",
    "```python\n",
    "# Your code here\n",
    "\n",
    "```\n"
   ]
  },
  {
   "cell_type": "markdown",
   "id": "df676d5d",
   "metadata": {},
   "source": [
    "### Exercise 30\n",
    "**Task:** Use different figure sizes.\n",
    "\n",
    "```python\n",
    "# Your code here\n",
    "\n",
    "```\n"
   ]
  },
  {
   "cell_type": "markdown",
   "id": "29836629",
   "metadata": {},
   "source": [
    "### Exercise 31\n",
    "**Task:** Plot a stacked bar chart.\n",
    "\n",
    "```python\n",
    "# Your code here\n",
    "\n",
    "```\n"
   ]
  },
  {
   "cell_type": "markdown",
   "id": "ed6e6363",
   "metadata": {},
   "source": [
    "### Exercise 32\n",
    "**Task:** Plot grouped bar charts.\n",
    "\n",
    "```python\n",
    "# Your code here\n",
    "\n",
    "```\n"
   ]
  },
  {
   "cell_type": "markdown",
   "id": "151ecb8a",
   "metadata": {},
   "source": [
    "### Exercise 33\n",
    "**Task:** Customize legend location.\n",
    "\n",
    "```python\n",
    "# Your code here\n",
    "\n",
    "```\n"
   ]
  },
  {
   "cell_type": "markdown",
   "id": "3fc4ed9f",
   "metadata": {},
   "source": [
    "### Exercise 34\n",
    "**Task:** Use different font styles and sizes.\n",
    "\n",
    "```python\n",
    "# Your code here\n",
    "\n",
    "```\n"
   ]
  },
  {
   "cell_type": "markdown",
   "id": "7cd2a587",
   "metadata": {},
   "source": [
    "### Exercise 35\n",
    "**Task:** Change background color of plot.\n",
    "\n",
    "```python\n",
    "# Your code here\n",
    "\n",
    "```\n"
   ]
  },
  {
   "cell_type": "markdown",
   "id": "cd03d265",
   "metadata": {},
   "source": [
    "### Exercise 36\n",
    "**Task:** Use plt.style to apply predefined styles.\n",
    "\n",
    "```python\n",
    "# Your code here\n",
    "\n",
    "```\n"
   ]
  },
  {
   "cell_type": "markdown",
   "id": "ced959bc",
   "metadata": {},
   "source": [
    "### Exercise 37\n",
    "**Task:** Create a plot with dual y-axis.\n",
    "\n",
    "```python\n",
    "# Your code here\n",
    "\n",
    "```\n"
   ]
  },
  {
   "cell_type": "markdown",
   "id": "7e794b85",
   "metadata": {},
   "source": [
    "### Exercise 38\n",
    "**Task:** Set axis limits with xlim and ylim.\n",
    "\n",
    "```python\n",
    "# Your code here\n",
    "\n",
    "```\n"
   ]
  },
  {
   "cell_type": "markdown",
   "id": "a4509a48",
   "metadata": {},
   "source": [
    "### Exercise 39\n",
    "**Task:** Hide axis ticks and labels.\n",
    "\n",
    "```python\n",
    "# Your code here\n",
    "\n",
    "```\n"
   ]
  },
  {
   "cell_type": "markdown",
   "id": "49a0c5a8",
   "metadata": {},
   "source": [
    "### Exercise 40\n",
    "**Task:** Create a 3D plot using matplotlib.\n",
    "\n",
    "```python\n",
    "# Your code here\n",
    "\n",
    "```\n"
   ]
  },
  {
   "cell_type": "markdown",
   "id": "a514c813",
   "metadata": {},
   "source": [
    "### Exercise 41\n",
    "**Task:** Plot a heatmap using imshow.\n",
    "\n",
    "```python\n",
    "# Your code here\n",
    "\n",
    "```\n"
   ]
  },
  {
   "cell_type": "markdown",
   "id": "e5e390eb",
   "metadata": {},
   "source": [
    "### Exercise 42\n",
    "**Task:** Use color maps in heatmaps.\n",
    "\n",
    "```python\n",
    "# Your code here\n",
    "\n",
    "```\n"
   ]
  },
  {
   "cell_type": "markdown",
   "id": "c6b577eb",
   "metadata": {},
   "source": [
    "### Exercise 43\n",
    "**Task:** Draw a box plot.\n",
    "\n",
    "```python\n",
    "# Your code here\n",
    "\n",
    "```\n"
   ]
  },
  {
   "cell_type": "markdown",
   "id": "d46c332d",
   "metadata": {},
   "source": [
    "### Exercise 44\n",
    "**Task:** Draw a violin plot.\n",
    "\n",
    "```python\n",
    "# Your code here\n",
    "\n",
    "```\n"
   ]
  },
  {
   "cell_type": "markdown",
   "id": "27c56766",
   "metadata": {},
   "source": [
    "### Exercise 45\n",
    "**Task:** Add error bars to bar charts.\n",
    "\n",
    "```python\n",
    "# Your code here\n",
    "\n",
    "```\n"
   ]
  },
  {
   "cell_type": "markdown",
   "id": "2c4ad5da",
   "metadata": {},
   "source": [
    "### Exercise 46\n",
    "**Task:** Customize plot borders/spines.\n",
    "\n",
    "```python\n",
    "# Your code here\n",
    "\n",
    "```\n"
   ]
  },
  {
   "cell_type": "markdown",
   "id": "5ca80224",
   "metadata": {},
   "source": [
    "### Exercise 47\n",
    "**Task:** Create a donut chart (pie chart with a hole).\n",
    "\n",
    "```python\n",
    "# Your code here\n",
    "\n",
    "```\n"
   ]
  },
  {
   "cell_type": "markdown",
   "id": "10f2460f",
   "metadata": {},
   "source": [
    "### Exercise 48\n",
    "**Task:** Use pandas DataFrame to plot data.\n",
    "\n",
    "```python\n",
    "# Your code here\n",
    "\n",
    "```\n"
   ]
  },
  {
   "cell_type": "markdown",
   "id": "3e2eac30",
   "metadata": {},
   "source": [
    "### Exercise 49\n",
    "**Task:** Customize plot titles with math text.\n",
    "\n",
    "```python\n",
    "# Your code here\n",
    "\n",
    "```\n"
   ]
  },
  {
   "cell_type": "markdown",
   "id": "50f534b0",
   "metadata": {},
   "source": [
    "### Exercise 50\n",
    "**Task:** Plot real-world data from a CSV file.\n",
    "\n",
    "```python\n",
    "# Your code here\n",
    "\n",
    "```\n"
   ]
  }
 ],
 "metadata": {
  "language_info": {
   "name": "python"
  }
 },
 "nbformat": 4,
 "nbformat_minor": 5
}

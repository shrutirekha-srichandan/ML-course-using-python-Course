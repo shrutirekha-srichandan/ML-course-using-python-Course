{
 "cells": [
  {
   "cell_type": "markdown",
   "id": "095aa509",
   "metadata": {},
   "source": [
    "# 📘 Restaurant Chains Data Analysis — Practice Notebook\n",
    "\n",
    "This notebook contains hands-on exercises to analyze restaurant chains using Python, Pandas, Seaborn, and Matplotlib."
   ]
  },
  {
   "cell_type": "markdown",
   "id": "69795c1e",
   "metadata": {},
   "source": [
    "### 📂 Dataset Assumption:\n",
    "The dataset contains the following columns:\n",
    "- `restaurant_name`\n",
    "- `location`\n",
    "- `votes`\n",
    "- `aggregate_rating`\n",
    "- `cuisines`\n",
    "- `cost_for_two`\n",
    "\n",
    "---"
   ]
  },
  {
   "cell_type": "markdown",
   "id": "0897fffe",
   "metadata": {},
   "source": [
    "### 🧠 Basic Level"
   ]
  },
  {
   "cell_type": "markdown",
   "id": "01679d47",
   "metadata": {},
   "source": [
    "1. **Load the dataset** using Pandas and display the first 5 rows."
   ]
  },
  {
   "cell_type": "code",
   "execution_count": null,
   "id": "c5cad944",
   "metadata": {},
   "outputs": [],
   "source": [
    "# Your code here"
   ]
  },
  {
   "cell_type": "markdown",
   "id": "27d8f0a1",
   "metadata": {},
   "source": [
    "2. How many **unique restaurants** are present in the dataset?"
   ]
  },
  {
   "cell_type": "code",
   "execution_count": null,
   "id": "0bd56f20",
   "metadata": {},
   "outputs": [],
   "source": [
    "# Your code here"
   ]
  },
  {
   "cell_type": "markdown",
   "id": "a612e9bb",
   "metadata": {},
   "source": [
    "3. Find the **top 10 most frequently occurring** restaurant names."
   ]
  },
  {
   "cell_type": "code",
   "execution_count": null,
   "id": "e8068add",
   "metadata": {},
   "outputs": [],
   "source": [
    "# Your code here"
   ]
  },
  {
   "cell_type": "markdown",
   "id": "c96a39d6",
   "metadata": {},
   "source": [
    "4. How many restaurants have a rating **greater than 4.0**?"
   ]
  },
  {
   "cell_type": "code",
   "execution_count": null,
   "id": "78c89424",
   "metadata": {},
   "outputs": [],
   "source": [
    "# Your code here"
   ]
  },
  {
   "cell_type": "markdown",
   "id": "dbb3d220",
   "metadata": {},
   "source": [
    "5. Display the count of restaurants by **location** using a bar chart."
   ]
  },
  {
   "cell_type": "code",
   "execution_count": null,
   "id": "cf0168ea",
   "metadata": {},
   "outputs": [],
   "source": [
    "# Your code here"
   ]
  },
  {
   "cell_type": "markdown",
   "id": "602fddb5",
   "metadata": {},
   "source": [
    "### 📊 Intermediate Level"
   ]
  },
  {
   "cell_type": "markdown",
   "id": "5ec87f5b",
   "metadata": {},
   "source": [
    "6. Identify restaurant **chains** (names that appear more than 3 times)."
   ]
  },
  {
   "cell_type": "code",
   "execution_count": null,
   "id": "1cf61128",
   "metadata": {},
   "outputs": [],
   "source": [
    "# Your code here"
   ]
  },
  {
   "cell_type": "markdown",
   "id": "a2185a18",
   "metadata": {},
   "source": [
    "7. Create a new DataFrame of only **chain restaurants**."
   ]
  },
  {
   "cell_type": "code",
   "execution_count": null,
   "id": "5e35b0e7",
   "metadata": {},
   "outputs": [],
   "source": [
    "# Your code here"
   ]
  },
  {
   "cell_type": "markdown",
   "id": "ce8687c1",
   "metadata": {},
   "source": [
    "8. For each chain, calculate the **average aggregate rating**."
   ]
  },
  {
   "cell_type": "code",
   "execution_count": null,
   "id": "671aed72",
   "metadata": {},
   "outputs": [],
   "source": [
    "# Your code here"
   ]
  },
  {
   "cell_type": "markdown",
   "id": "af0d6f82",
   "metadata": {},
   "source": [
    "9. For each chain, calculate the **total number of votes** received."
   ]
  },
  {
   "cell_type": "code",
   "execution_count": null,
   "id": "09aa7327",
   "metadata": {},
   "outputs": [],
   "source": [
    "# Your code here"
   ]
  },
  {
   "cell_type": "markdown",
   "id": "4254d359",
   "metadata": {},
   "source": [
    "10. Visualize the **top 5 chains** with the highest average rating using a **Seaborn bar plot**."
   ]
  },
  {
   "cell_type": "code",
   "execution_count": null,
   "id": "3cab3e68",
   "metadata": {},
   "outputs": [],
   "source": [
    "# Your code here"
   ]
  },
  {
   "cell_type": "markdown",
   "id": "779b2a75",
   "metadata": {},
   "source": [
    "### 📈 Advanced Level"
   ]
  },
  {
   "cell_type": "markdown",
   "id": "39057cc9",
   "metadata": {},
   "source": [
    "11. Compare the **popularity (votes)** of top 5 chains **across locations** using a grouped bar chart."
   ]
  },
  {
   "cell_type": "code",
   "execution_count": null,
   "id": "60ec288c",
   "metadata": {},
   "outputs": [],
   "source": [
    "# Your code here"
   ]
  },
  {
   "cell_type": "markdown",
   "id": "fa2b606b",
   "metadata": {},
   "source": [
    "12. Plot a **boxplot** showing the distribution of ratings for the top 5 chains."
   ]
  },
  {
   "cell_type": "code",
   "execution_count": null,
   "id": "4eefa59a",
   "metadata": {},
   "outputs": [],
   "source": [
    "# Your code here"
   ]
  },
  {
   "cell_type": "markdown",
   "id": "ee18d2d8",
   "metadata": {},
   "source": [
    "13. Which locations have the **highest number of high-rated chain restaurants** (rating > 4.2)?"
   ]
  },
  {
   "cell_type": "code",
   "execution_count": null,
   "id": "96aa7c49",
   "metadata": {},
   "outputs": [],
   "source": [
    "# Your code here"
   ]
  },
  {
   "cell_type": "markdown",
   "id": "288af3ac",
   "metadata": {},
   "source": [
    "14. Find the **average cost for two** for each chain. Sort in descending order."
   ]
  },
  {
   "cell_type": "code",
   "execution_count": null,
   "id": "5256e6ab",
   "metadata": {},
   "outputs": [],
   "source": [
    "# Your code here"
   ]
  },
  {
   "cell_type": "markdown",
   "id": "e0750f9f",
   "metadata": {},
   "source": [
    "15. Create a final summary table of top 5 chains including:\n",
    "   - Number of outlets\n",
    "   - Average rating\n",
    "   - Total votes\n",
    "   - Average cost for two"
   ]
  },
  {
   "cell_type": "code",
   "execution_count": null,
   "id": "803ec26f",
   "metadata": {},
   "outputs": [],
   "source": [
    "# Your code here"
   ]
  }
 ],
 "metadata": {},
 "nbformat": 4,
 "nbformat_minor": 5
}
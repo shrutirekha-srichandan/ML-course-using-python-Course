{
 "cells": [
  {
   "cell_type": "markdown",
   "id": "6c397e4a",
   "metadata": {},
   "source": [
    "# Day 5 (date : 20/05/2025)"
   ]
  },
  {
   "cell_type": "markdown",
   "id": "84c48085",
   "metadata": {},
   "source": [
    "## Operators"
   ]
  },
  {
   "cell_type": "markdown",
   "id": "d6aa3a90",
   "metadata": {},
   "source": [
    " - Assignment Operator\n",
    " - Arithmetic Operator\n",
    " - Logical Operator\n",
    " - Relational Operator\n",
    " - Bitwise Operator\n",
    " - Membership"
   ]
  },
  {
   "cell_type": "code",
   "execution_count": 8,
   "id": "f78a1657",
   "metadata": {},
   "outputs": [
    {
     "name": "stdout",
     "output_type": "stream",
     "text": [
      "Not in range\n"
     ]
    }
   ],
   "source": [
    "x = 500\n",
    "if(x in range(0,50)):\n",
    "    print(\"in range\")\n",
    "else:\n",
    "    print(\"Not in range\")"
   ]
  },
  {
   "cell_type": "code",
   "execution_count": 22,
   "id": "92921737",
   "metadata": {},
   "outputs": [
    {
     "name": "stdout",
     "output_type": "stream",
     "text": [
      "10  +  25  =  35\n",
      "10  -  25  =  -15\n",
      "10  *  25  =  250\n",
      "10  /  25  =  0.4\n",
      "10  //  25  =  0\n",
      "10  %  25  =  10\n"
     ]
    }
   ],
   "source": [
    "# Arithmetic Operation\n",
    "\n",
    "x= 10\n",
    "y= 25\n",
    "z = x+y\n",
    "print(x,\" + \",y ,\" = \",z)\n",
    "z = x-y\n",
    "print(x,\" - \",y ,\" = \",z)\n",
    "z = x*y\n",
    "print(x,\" * \",y ,\" = \",z)\n",
    "z = x/y\n",
    "print(x,\" / \",y ,\" = \",z)\n",
    "z= x//y\n",
    "print(x,\" // \",y ,\" = \",z)\n",
    "z= x%y\n",
    "print(x,\" % \",y ,\" = \",z)"
   ]
  },
  {
   "cell_type": "code",
   "execution_count": 23,
   "id": "d9b7c03f",
   "metadata": {
    "scrolled": true
   },
   "outputs": [
    {
     "name": "stdout",
     "output_type": "stream",
     "text": [
      "2 == 3  =  False\n",
      "2 < 3  =  True\n",
      "2 <= 3  =  True\n",
      "2 > 3  =  False\n",
      "2 >= 3  =  False\n",
      "2 != 3  =  True\n"
     ]
    }
   ],
   "source": [
    "# Relational Operators\n",
    "\n",
    "a= 2\n",
    "b= 3\n",
    "\n",
    "print(a,\"==\",b,\" = \",a==b)\n",
    "print(a,\"<\",b,\" = \",a<b)\n",
    "print(a,\"<=\",b,\" = \",a<=b)\n",
    "print(a,\">\",b,\" = \",a>b)\n",
    "print(a,\">=\",b,\" = \",a>=b)\n",
    "print(a,\"!=\",b,\" = \",a!=b)\n"
   ]
  },
  {
   "cell_type": "code",
   "execution_count": 21,
   "id": "a1c2a875",
   "metadata": {},
   "outputs": [
    {
     "name": "stdout",
     "output_type": "stream",
     "text": [
      "True  logical_And  False  =  False\n",
      "True  logical_Or  False  =  True\n",
      "True  logical_Not  =  False\n"
     ]
    }
   ],
   "source": [
    "# Logical Operator \n",
    "\n",
    "a= True\n",
    "b= False\n",
    " \n",
    "print(a,\" logical_And \",b,\" = \",a and b) #logical And\n",
    "print(a,\" logical_Or \",b,\" = \",a or b)  #logical Or\n",
    "print(a,\" logical_Not  = \",not(a))  #logical Not\n"
   ]
  },
  {
   "cell_type": "code",
   "execution_count": 26,
   "id": "4b9ed45e",
   "metadata": {},
   "outputs": [
    {
     "name": "stdout",
     "output_type": "stream",
     "text": [
      "bitwise and = False\n",
      "bitwise or = True\n"
     ]
    }
   ],
   "source": [
    "# Bitwise Operator\n",
    "\n",
    "n=10\n",
    "print(\"bitwise and =\",(n%2==0) & (n%3==0)) #bitwise and operator &\n",
    "print(\"bitwise or =\",(n%2==0) | (n%3==0))  #bitwise or operator |"
   ]
  },
  {
   "cell_type": "markdown",
   "id": "09fc79a0",
   "metadata": {},
   "source": [
    "### The If - Statement"
   ]
  },
  {
   "cell_type": "code",
   "execution_count": 29,
   "id": "e1230a68",
   "metadata": {
    "scrolled": true
   },
   "outputs": [
    {
     "name": "stdout",
     "output_type": "stream",
     "text": [
      "8  is Greater than 4\n",
      "This is always printed \n"
     ]
    }
   ],
   "source": [
    "n=8\n",
    "if(n>4):\n",
    "    print(n , \" is Greater than 4\")\n",
    "print(\"This is always printed \")"
   ]
  },
  {
   "cell_type": "code",
   "execution_count": 34,
   "id": "8130e783",
   "metadata": {},
   "outputs": [
    {
     "name": "stdout",
     "output_type": "stream",
     "text": [
      "This is always printed \n"
     ]
    }
   ],
   "source": [
    "n=1\n",
    "if(n>4):\n",
    "    print(n , \" is Greater than 4\")\n",
    "print(\"This is always printed \")"
   ]
  },
  {
   "cell_type": "markdown",
   "id": "9ad3e8d9",
   "metadata": {},
   "source": [
    "### The If-Else Statement"
   ]
  },
  {
   "cell_type": "code",
   "execution_count": 32,
   "id": "71ae3850",
   "metadata": {},
   "outputs": [
    {
     "name": "stdout",
     "output_type": "stream",
     "text": [
      "1  is smaller than 4\n",
      "This is always printed \n"
     ]
    }
   ],
   "source": [
    "n=1\n",
    "if(n>4):\n",
    "    print(n , \" is Greater than 4\")\n",
    "else:\n",
    "    print(n,\" is smaller than 4\")\n",
    "print(\"This is always printed \")"
   ]
  },
  {
   "cell_type": "code",
   "execution_count": 35,
   "id": "74c33702",
   "metadata": {},
   "outputs": [
    {
     "name": "stdout",
     "output_type": "stream",
     "text": [
      "10  is Greater than 4\n",
      "This is always printed \n"
     ]
    }
   ],
   "source": [
    "n=10\n",
    "if(n>4):\n",
    "    print(n , \" is Greater than 4\")\n",
    "else:\n",
    "    print(n,\" is smaller than 4\")\n",
    "print(\"This is always printed \")"
   ]
  },
  {
   "cell_type": "markdown",
   "id": "69f5c104",
   "metadata": {},
   "source": [
    "### The if-elif Statements"
   ]
  },
  {
   "cell_type": "code",
   "execution_count": 37,
   "id": "2efb73fd",
   "metadata": {},
   "outputs": [
    {
     "name": "stdout",
     "output_type": "stream",
     "text": [
      "Enter age : 17\n",
      "Bus fare is 25 \n"
     ]
    }
   ],
   "source": [
    "age = int(input(\"Enter age : \"))\n",
    "if(0<age<3):\n",
    "    print(\"No fares for age group 0-3\")\n",
    "elif(3<age<10):\n",
    "    print(\"Bus fare is 20\")\n",
    "elif(10<age<20):\n",
    "    print(\"Bus fare is 25 \")\n",
    "else:\n",
    "    print(\"Bus fare is 30\")        "
   ]
  },
  {
   "cell_type": "markdown",
   "id": "f8f0289e",
   "metadata": {},
   "source": [
    "### Nested If-Else Statement"
   ]
  },
  {
   "cell_type": "code",
   "execution_count": 52,
   "id": "37ae0515",
   "metadata": {
    "scrolled": true
   },
   "outputs": [
    {
     "name": "stdout",
     "output_type": "stream",
     "text": [
      "Enter 1st number : 2\n",
      "Enter 2nd number : 2\n",
      "Enter 3rd number : 4\n",
      "greatest =  4\n"
     ]
    }
   ],
   "source": [
    "# Largest among 3 numbers\n",
    "\n",
    "n1 =int(input(\"Enter 1st number : \"))\n",
    "n2 = int(input(\"Enter 2nd number : \"))\n",
    "n3 =int(input(\"Enter 3rd number : \"))\n",
    "if(n1 >n2):\n",
    "    if(n1>n3):\n",
    "        print(\"greatest = \",n1)\n",
    "    else:\n",
    "        print(\"greatest = \",n3)\n",
    "else:\n",
    "    if(n2>n3):\n",
    "        print(\"greatest = \",n2)\n",
    "    else:\n",
    "        print(\"greatest = \",n3)"
   ]
  },
  {
   "cell_type": "markdown",
   "id": "1efcc46b",
   "metadata": {},
   "source": [
    "### While loop"
   ]
  },
  {
   "cell_type": "code",
   "execution_count": 56,
   "id": "5873f73e",
   "metadata": {},
   "outputs": [
    {
     "name": "stdout",
     "output_type": "stream",
     "text": [
      "Enter the value for n = 100\n",
      "Sum of  10  Natural Numbers =  5050\n"
     ]
    }
   ],
   "source": [
    "# Addition of n natural numbers\n",
    "\n",
    "num =int(input(\"Enter the value for n = \"))\n",
    "add = 0\n",
    "i=1\n",
    "while(i<=num):\n",
    "    add= add+i\n",
    "    i=i+1\n",
    "print(\"Sum of \",n ,\" Natural Numbers = \",add)"
   ]
  },
  {
   "cell_type": "code",
   "execution_count": null,
   "id": "fed60ebe",
   "metadata": {},
   "outputs": [],
   "source": []
  },
  {
   "cell_type": "code",
   "execution_count": null,
   "id": "845317c0",
   "metadata": {},
   "outputs": [],
   "source": []
  },
  {
   "cell_type": "code",
   "execution_count": null,
   "id": "28fcab24",
   "metadata": {},
   "outputs": [],
   "source": []
  },
  {
   "cell_type": "code",
   "execution_count": null,
   "id": "2fc18112",
   "metadata": {},
   "outputs": [],
   "source": []
  },
  {
   "cell_type": "code",
   "execution_count": null,
   "id": "14db948f",
   "metadata": {},
   "outputs": [],
   "source": []
  }
 ],
 "metadata": {
  "kernelspec": {
   "display_name": "Python 3 (ipykernel)",
   "language": "python",
   "name": "python3"
  },
  "language_info": {
   "codemirror_mode": {
    "name": "ipython",
    "version": 3
   },
   "file_extension": ".py",
   "mimetype": "text/x-python",
   "name": "python",
   "nbconvert_exporter": "python",
   "pygments_lexer": "ipython3",
   "version": "3.11.5"
  }
 },
 "nbformat": 4,
 "nbformat_minor": 5
}

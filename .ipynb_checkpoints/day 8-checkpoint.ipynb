{
 "cells": [
  {
   "cell_type": "markdown",
   "id": "39e158c6",
   "metadata": {},
   "source": [
    "# Day-8 (23-05-2025)"
   ]
  },
  {
   "cell_type": "markdown",
   "id": "65528f1f",
   "metadata": {},
   "source": [
    "## Local scope / Global scope"
   ]
  },
  {
   "cell_type": "code",
   "execution_count": 26,
   "id": "d7cdced9",
   "metadata": {},
   "outputs": [
    {
     "name": "stdout",
     "output_type": "stream",
     "text": [
      "john\n"
     ]
    }
   ],
   "source": [
    "username = 'john'\n",
    "def function():\n",
    "    username = \"sumit\"\n",
    "function()\n",
    "print(username)"
   ]
  },
  {
   "cell_type": "code",
   "execution_count": 25,
   "id": "aa5b5b73",
   "metadata": {},
   "outputs": [
    {
     "name": "stdout",
     "output_type": "stream",
     "text": [
      "john\n"
     ]
    }
   ],
   "source": [
    "user = 'john'\n",
    "def function():\n",
    "    username = \"sumit\"\n",
    "function()\n",
    "print(username)"
   ]
  },
  {
   "cell_type": "code",
   "execution_count": 28,
   "id": "02fe8794",
   "metadata": {},
   "outputs": [
    {
     "name": "stdout",
     "output_type": "stream",
     "text": [
      "100\n"
     ]
    }
   ],
   "source": [
    "\n",
    "def fun(y):\n",
    "    z=x+y\n",
    "    return z\n",
    "result=fun(1)\n",
    "x=99\n",
    "print(result)"
   ]
  },
  {
   "cell_type": "code",
   "execution_count": 29,
   "id": "de94c1f8",
   "metadata": {},
   "outputs": [
    {
     "name": "stdout",
     "output_type": "stream",
     "text": [
      "88\n"
     ]
    }
   ],
   "source": [
    "x=99\n",
    "def func():\n",
    "    global x\n",
    "    x=88\n",
    "func()\n",
    "print(x)"
   ]
  },
  {
   "cell_type": "code",
   "execution_count": 32,
   "id": "aaa71782",
   "metadata": {},
   "outputs": [],
   "source": [
    "def f1():\n",
    "    x=10\n",
    "    def f2():\n",
    "        print(x)\n",
    "    f2()\n",
    "f1()"
   ]
  },
  {
   "cell_type": "markdown",
   "id": "c05a11cb",
   "metadata": {},
   "source": [
    "## OOPS\n",
    "## Class"
   ]
  },
  {
   "cell_type": "code",
   "execution_count": 51,
   "id": "675c6660",
   "metadata": {},
   "outputs": [
    {
     "name": "stdout",
     "output_type": "stream",
     "text": [
      "Honda cbz\n"
     ]
    },
    {
     "data": {
      "text/plain": [
       "'Heros Splender'"
      ]
     },
     "execution_count": 51,
     "metadata": {},
     "output_type": "execute_result"
    }
   ],
   "source": [
    "class Bike:\n",
    "    def __init__(self, brand, model):\n",
    "        self.brand = brand\n",
    "        self.model = model\n",
    "    def output(self):\n",
    "        print(\"Brand : \",self.brand)\n",
    "        print(\"Model : \",self.model)\n",
    "    def fullname(self):\n",
    "#         print(\"full name: \",self.brand,self.model)\n",
    "        return f'{self.brand} {self.model}'\n",
    "b1 = Bike(\"Honda\", \"cbz\")\n",
    "\n",
    "# print(b1.brand)\n",
    "# print(b1.model)\n",
    "# b1.output()\n",
    "# b1.fullname()\n",
    "print(b1.fullname())\n",
    "b2 = Bike(\"Heros\", \"Splender\")\n",
    "\n",
    "# print(b2.brand)\n",
    "# print(b2.model)\n",
    "# b2.output()\n",
    "b2.fullname()\n"
   ]
  },
  {
   "cell_type": "markdown",
   "id": "edb67727",
   "metadata": {},
   "source": [
    "## Inheritance"
   ]
  },
  {
   "cell_type": "code",
   "execution_count": 56,
   "id": "2a725ded",
   "metadata": {},
   "outputs": [
    {
     "name": "stdout",
     "output_type": "stream",
     "text": [
      "Heros xyz 120\n"
     ]
    }
   ],
   "source": [
    "class Bike:\n",
    "    def __init__(self, brand, model):\n",
    "        self.brand = brand\n",
    "        self.model = model\n",
    "class ElectricBike(Bike):\n",
    "    def __init__(self,brand,model,batterysize):\n",
    "        super().__init__(brand,model)\n",
    "        self.batterysize = batterysize\n",
    "    def output(self):\n",
    "        print(self.brand,self.model,self.batterysize)\n",
    "        \n",
    "o1=ElectricBike(\"Heros\",\"xyz\",120)\n",
    "o1.output()\n",
    "    "
   ]
  },
  {
   "cell_type": "code",
   "execution_count": null,
   "id": "6a38a179",
   "metadata": {},
   "outputs": [],
   "source": []
  }
 ],
 "metadata": {
  "kernelspec": {
   "display_name": "Python 3 (ipykernel)",
   "language": "python",
   "name": "python3"
  },
  "language_info": {
   "codemirror_mode": {
    "name": "ipython",
    "version": 3
   },
   "file_extension": ".py",
   "mimetype": "text/x-python",
   "name": "python",
   "nbconvert_exporter": "python",
   "pygments_lexer": "ipython3",
   "version": "3.11.5"
  }
 },
 "nbformat": 4,
 "nbformat_minor": 5
}

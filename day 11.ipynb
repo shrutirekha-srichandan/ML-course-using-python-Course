{
 "cells": [
  {
   "cell_type": "markdown",
   "id": "6a010fcc",
   "metadata": {},
   "source": [
    "## Day 11 (30/05/2025)"
   ]
  },
  {
   "cell_type": "markdown",
   "id": "53452cdc",
   "metadata": {},
   "source": [
    "## numpy"
   ]
  },
  {
   "cell_type": "code",
   "execution_count": 1,
   "id": "c122480f",
   "metadata": {},
   "outputs": [],
   "source": [
    "import numpy as np"
   ]
  },
  {
   "cell_type": "code",
   "execution_count": 2,
   "id": "11ea2df6",
   "metadata": {},
   "outputs": [
    {
     "name": "stdout",
     "output_type": "stream",
     "text": [
      "[[1 2 3]\n",
      " [4 5 6]\n",
      " [7 8 9]]\n"
     ]
    }
   ],
   "source": [
    "arr = np.array([[1, 2, 3], [4, 5, 6], [7, 8, 9]])\n",
    "print(arr)"
   ]
  },
  {
   "cell_type": "markdown",
   "id": "5873603c",
   "metadata": {},
   "source": [
    "### Adding and removing Elements"
   ]
  },
  {
   "cell_type": "code",
   "execution_count": 4,
   "id": "87ec615f",
   "metadata": {},
   "outputs": [
    {
     "name": "stdout",
     "output_type": "stream",
     "text": [
      "[ 1  2  3  4  5  6  7  8  9 10 11 12]\n"
     ]
    }
   ],
   "source": [
    "a=np.append(arr, [[10, 11, 12]])\n",
    "print(a)"
   ]
  },
  {
   "cell_type": "code",
   "execution_count": 6,
   "id": "c4329fa3",
   "metadata": {},
   "outputs": [
    {
     "data": {
      "text/plain": [
       "array([1, 2, 1, 2, 3, 3, 4, 5, 6, 7, 8, 9])"
      ]
     },
     "execution_count": 6,
     "metadata": {},
     "output_type": "execute_result"
    }
   ],
   "source": [
    "a=np.insert(arr,2,[1,2,3])\n",
    "a"
   ]
  },
  {
   "cell_type": "code",
   "execution_count": null,
   "id": "afedaeeb",
   "metadata": {},
   "outputs": [
    {
     "name": "stdout",
     "output_type": "stream",
     "text": [
      "[[ 1  2  3]\n",
      " [10 11 12]]\n",
      "[[ 1  3]\n",
      " [ 4  6]\n",
      " [10 12]]\n"
     ]
    }
   ],
   "source": [
    "arr=np.array([[1,2,3],[4,5,6],[10,11,12]])\n",
    "arrdelete=np.delete(arr,1,axis=0) #Row wise delete at index 1(4,5,6)\n",
    "print(arrdelete)\n",
    "arrdelete=np.delete(arr,1,axis=1) #column wise delete at index 1(2,5,11)\n",
    "print(arrdelete)\n",
    "\n"
   ]
  },
  {
   "cell_type": "markdown",
   "id": "0dcd112e",
   "metadata": {},
   "source": [
    "### Combining & spliting"
   ]
  },
  {
   "cell_type": "code",
   "execution_count": null,
   "id": "b11ac5d9",
   "metadata": {},
   "outputs": [
    {
     "data": {
      "text/plain": [
       "array([[ 1,  2,  3],\n",
       "       [ 4,  5,  6],\n",
       "       [11, 12, 13],\n",
       "       [14, 15, 16]])"
      ]
     },
     "execution_count": 11,
     "metadata": {},
     "output_type": "execute_result"
    }
   ],
   "source": [
    "arr1=np.array([[1,2,3],[4,5,6]])\n",
    "arr2=np.array([[11,12,13],[14,15,16]])\n",
    "np.concatenate((arr1,arr2),axis=0)\n"
   ]
  },
  {
   "cell_type": "code",
   "execution_count": 12,
   "id": "beb2cab4",
   "metadata": {},
   "outputs": [
    {
     "data": {
      "text/plain": [
       "array([[ 1,  2,  3, 11, 12, 13],\n",
       "       [ 4,  5,  6, 14, 15, 16]])"
      ]
     },
     "execution_count": 12,
     "metadata": {},
     "output_type": "execute_result"
    }
   ],
   "source": [
    "np.concatenate((arr1,arr2),axis=1)"
   ]
  },
  {
   "cell_type": "code",
   "execution_count": 26,
   "id": "821ec48e",
   "metadata": {},
   "outputs": [
    {
     "data": {
      "text/plain": [
       "array([[[[ 1,  2,  3, 11, 12, 13],\n",
       "         [ 4,  5,  6, 14, 15, 16],\n",
       "         [ 7,  8,  9, 17, 18, 19]]]])"
      ]
     },
     "execution_count": 26,
     "metadata": {},
     "output_type": "execute_result"
    }
   ],
   "source": [
    "arr1=np.array([[[[1,2,3],[4,5,6],[7,8,9]]]])\n",
    "arr2=np.array([[[[11,12,13],[14,15,16],[17,18,19]]]])\n",
    "np.concatenate((arr1,arr2),axis=3)"
   ]
  },
  {
   "cell_type": "code",
   "execution_count": 37,
   "id": "471631f1",
   "metadata": {},
   "outputs": [
    {
     "name": "stdout",
     "output_type": "stream",
     "text": [
      "[[ 1  2  3  4  5  6]\n",
      " [ 7  8  9 10 11 12]]\n"
     ]
    },
    {
     "data": {
      "text/plain": [
       "[array([[1, 2, 3, 4, 5, 6]]), array([[ 7,  8,  9, 10, 11, 12]])]"
      ]
     },
     "execution_count": 37,
     "metadata": {},
     "output_type": "execute_result"
    }
   ],
   "source": [
    "arr=np.array([[1,2,3,4,5,6],[7,8,9,10,11,12]])\n",
    "print(arr)\n",
    "np.split(arr,2)"
   ]
  },
  {
   "cell_type": "code",
   "execution_count": 38,
   "id": "dda1ffc0",
   "metadata": {},
   "outputs": [
    {
     "data": {
      "text/plain": [
       "[array([[1],\n",
       "        [7]]),\n",
       " array([[2],\n",
       "        [8]]),\n",
       " array([[3],\n",
       "        [9]]),\n",
       " array([[ 4],\n",
       "        [10]]),\n",
       " array([[ 5],\n",
       "        [11]]),\n",
       " array([[ 6],\n",
       "        [12]])]"
      ]
     },
     "execution_count": 38,
     "metadata": {},
     "output_type": "execute_result"
    }
   ],
   "source": [
    "np.hsplit(arr,6)"
   ]
  },
  {
   "cell_type": "markdown",
   "id": "2e1deaa0",
   "metadata": {},
   "source": [
    "### Indexing & slicing"
   ]
  },
  {
   "cell_type": "code",
   "execution_count": 44,
   "id": "9f0a42b1",
   "metadata": {},
   "outputs": [
    {
     "name": "stdout",
     "output_type": "stream",
     "text": [
      "[[ 1  2  3  4  5  6]\n",
      " [ 7  8  9 10 11 12]]\n",
      "9\n"
     ]
    }
   ],
   "source": [
    "print(arr)\n",
    "print(arr[1,2])"
   ]
  },
  {
   "cell_type": "code",
   "execution_count": null,
   "id": "bbe44cf8",
   "metadata": {},
   "outputs": [
    {
     "data": {
      "text/plain": [
       "3"
      ]
     },
     "execution_count": 45,
     "metadata": {},
     "output_type": "execute_result"
    }
   ],
   "source": [
    "a=np.array([1,2,3])\n",
    "print(a[2])"
   ]
  },
  {
   "cell_type": "code",
   "execution_count": null,
   "id": "1004d84e",
   "metadata": {},
   "outputs": [
    {
     "data": {
      "text/plain": [
       "array([1, 2, 7])"
      ]
     },
     "execution_count": 46,
     "metadata": {},
     "output_type": "execute_result"
    }
   ],
   "source": [
    "a[2]=7\n",
    "print(a)"
   ]
  },
  {
   "cell_type": "code",
   "execution_count": 49,
   "id": "186d03d0",
   "metadata": {},
   "outputs": [
    {
     "name": "stdout",
     "output_type": "stream",
     "text": [
      "10\n",
      "[[  1   2   3   4   5   6]\n",
      " [  7   8   9 100  11  12]]\n"
     ]
    }
   ],
   "source": [
    "print(arr[1,3])\n",
    "arr[1,3]=100\n",
    "print(arr)"
   ]
  },
  {
   "cell_type": "code",
   "execution_count": 50,
   "id": "7169cce2",
   "metadata": {},
   "outputs": [
    {
     "name": "stdout",
     "output_type": "stream",
     "text": [
      "[1 2]\n"
     ]
    }
   ],
   "source": [
    "print(a[0:2])"
   ]
  },
  {
   "cell_type": "code",
   "execution_count": null,
   "id": "d417daf1",
   "metadata": {},
   "outputs": [
    {
     "name": "stdout",
     "output_type": "stream",
     "text": [
      "[[  1   2   3   4   5   6]\n",
      " [  7   8   9 100  11  12]]\n",
      "[ 5 11]\n"
     ]
    }
   ],
   "source": [
    "print(arr)\n",
    "print(arr[0:2,4]) "
   ]
  },
  {
   "cell_type": "code",
   "execution_count": 55,
   "id": "b36dc341",
   "metadata": {},
   "outputs": [
    {
     "data": {
      "text/plain": [
       "array([[1, 2, 3, 4, 5, 6]])"
      ]
     },
     "execution_count": 55,
     "metadata": {},
     "output_type": "execute_result"
    }
   ],
   "source": [
    "arr[:1]"
   ]
  },
  {
   "cell_type": "code",
   "execution_count": 56,
   "id": "3c97c183",
   "metadata": {},
   "outputs": [
    {
     "data": {
      "text/plain": [
       "array([2, 8])"
      ]
     },
     "execution_count": 56,
     "metadata": {},
     "output_type": "execute_result"
    }
   ],
   "source": [
    "arr[:,1]"
   ]
  },
  {
   "cell_type": "code",
   "execution_count": 57,
   "id": "718a7ba7",
   "metadata": {},
   "outputs": [
    {
     "data": {
      "text/plain": [
       "array([[ True,  True,  True,  True, False, False],\n",
       "       [False, False, False, False, False, False]])"
      ]
     },
     "execution_count": 57,
     "metadata": {},
     "output_type": "execute_result"
    }
   ],
   "source": [
    "arr<5"
   ]
  },
  {
   "cell_type": "markdown",
   "id": "9cdcba14",
   "metadata": {},
   "source": [
    "### indexing and Slicing"
   ]
  },
  {
   "cell_type": "code",
   "execution_count": null,
   "id": "9595a2d1",
   "metadata": {},
   "outputs": [
    {
     "name": "stdout",
     "output_type": "stream",
     "text": [
      "[[False  True  True]\n",
      " [ True  True False]\n",
      " [False False False]]\n",
      "[[ True  True  True]\n",
      " [ True  True  True]\n",
      " [ True  True  True]]\n"
     ]
    }
   ],
   "source": [
    "arr1=np.array([[1,2,3],[4,5,6],[7,8,9]])\n",
    "arr2=np.array([[11,12,13],[14,15,16],[17,18,19]])\n",
    "print((arr1<6)&(arr2>11))#True if both the condition is true\n",
    "print((arr1<6)|(arr2>11))#True if atleast one condition is true"
   ]
  },
  {
   "cell_type": "code",
   "execution_count": 62,
   "id": "b7249514",
   "metadata": {},
   "outputs": [
    {
     "data": {
      "text/plain": [
       "array([False,  True, False])"
      ]
     },
     "execution_count": 62,
     "metadata": {},
     "output_type": "execute_result"
    }
   ],
   "source": [
    "arrbool=np.array([True,False,True])\n",
    "~arrbool"
   ]
  },
  {
   "cell_type": "code",
   "execution_count": 64,
   "id": "4e098e6d",
   "metadata": {},
   "outputs": [
    {
     "name": "stdout",
     "output_type": "stream",
     "text": [
      "[[  1   2   3   4   5   6]\n",
      " [  7   8   9 100  11  12]] \n",
      "\n",
      "[1 2 3 4]\n"
     ]
    }
   ],
   "source": [
    "print(arr,'\\n')\n",
    "print(arr[arr<5])"
   ]
  },
  {
   "cell_type": "markdown",
   "id": "8ca2b7f9",
   "metadata": {},
   "source": [
    "### Scalar Math"
   ]
  },
  {
   "cell_type": "code",
   "execution_count": 66,
   "id": "40a6e012",
   "metadata": {},
   "outputs": [
    {
     "name": "stdout",
     "output_type": "stream",
     "text": [
      "[[  1   2   3   4   5   6]\n",
      " [  7   8   9 100  11  12]] \n",
      "\n"
     ]
    }
   ],
   "source": [
    "print(arr,\"\\n\")"
   ]
  },
  {
   "cell_type": "code",
   "execution_count": 68,
   "id": "c78f481f",
   "metadata": {},
   "outputs": [
    {
     "name": "stdout",
     "output_type": "stream",
     "text": [
      "[[  3   4   5   6   7   8]\n",
      " [  9  10  11 102  13  14]]\n"
     ]
    }
   ],
   "source": [
    "print(np.add(arr,2))"
   ]
  },
  {
   "cell_type": "code",
   "execution_count": 69,
   "id": "f1ca2dea",
   "metadata": {},
   "outputs": [
    {
     "name": "stdout",
     "output_type": "stream",
     "text": [
      "[[-1  0  1  2  3  4]\n",
      " [ 5  6  7 98  9 10]]\n"
     ]
    }
   ],
   "source": [
    "print(np.subtract(arr,2))"
   ]
  },
  {
   "cell_type": "code",
   "execution_count": 70,
   "id": "2530d751",
   "metadata": {},
   "outputs": [
    {
     "name": "stdout",
     "output_type": "stream",
     "text": [
      "[[  2   4   6   8  10  12]\n",
      " [ 14  16  18 200  22  24]]\n"
     ]
    }
   ],
   "source": [
    "print(np.multiply(arr,2))"
   ]
  },
  {
   "cell_type": "code",
   "execution_count": 71,
   "id": "3c116f60",
   "metadata": {},
   "outputs": [
    {
     "name": "stdout",
     "output_type": "stream",
     "text": [
      "[[ 0.5  1.   1.5  2.   2.5  3. ]\n",
      " [ 3.5  4.   4.5 50.   5.5  6. ]]\n"
     ]
    }
   ],
   "source": [
    "print(np.divide(arr,2))"
   ]
  },
  {
   "cell_type": "code",
   "execution_count": 74,
   "id": "634bc0df",
   "metadata": {},
   "outputs": [
    {
     "name": "stdout",
     "output_type": "stream",
     "text": [
      "[[    1     4     9    16    25    36]\n",
      " [   49    64    81 10000   121   144]]\n"
     ]
    }
   ],
   "source": [
    "print(np.power(arr,2))"
   ]
  },
  {
   "cell_type": "markdown",
   "id": "c5991cf9",
   "metadata": {},
   "source": [
    "### Vector Math"
   ]
  },
  {
   "cell_type": "code",
   "execution_count": 75,
   "id": "eaa78d81",
   "metadata": {},
   "outputs": [
    {
     "data": {
      "text/plain": [
       "array([[12, 14, 16],\n",
       "       [18, 20, 22],\n",
       "       [24, 26, 28]])"
      ]
     },
     "execution_count": 75,
     "metadata": {},
     "output_type": "execute_result"
    }
   ],
   "source": [
    "arr1=np.array([[1,2,3],[4,5,6],[7,8,9]])\n",
    "arr2=np.array([[11,12,13],[14,15,16],[17,18,19]])\n",
    "np.add(arr1,arr2)"
   ]
  },
  {
   "cell_type": "code",
   "execution_count": 76,
   "id": "532d5f47",
   "metadata": {},
   "outputs": [
    {
     "data": {
      "text/plain": [
       "array([[-10, -10, -10],\n",
       "       [-10, -10, -10],\n",
       "       [-10, -10, -10]])"
      ]
     },
     "execution_count": 76,
     "metadata": {},
     "output_type": "execute_result"
    }
   ],
   "source": [
    "np.subtract(arr1,arr2)"
   ]
  },
  {
   "cell_type": "code",
   "execution_count": 77,
   "id": "6918864c",
   "metadata": {},
   "outputs": [
    {
     "data": {
      "text/plain": [
       "array([[ 11,  24,  39],\n",
       "       [ 56,  75,  96],\n",
       "       [119, 144, 171]])"
      ]
     },
     "execution_count": 77,
     "metadata": {},
     "output_type": "execute_result"
    }
   ],
   "source": [
    "np.multiply(arr1,arr2)"
   ]
  },
  {
   "cell_type": "code",
   "execution_count": 78,
   "id": "2a513c0c",
   "metadata": {},
   "outputs": [
    {
     "data": {
      "text/plain": [
       "array([[0.09090909, 0.16666667, 0.23076923],\n",
       "       [0.28571429, 0.33333333, 0.375     ],\n",
       "       [0.41176471, 0.44444444, 0.47368421]])"
      ]
     },
     "execution_count": 78,
     "metadata": {},
     "output_type": "execute_result"
    }
   ],
   "source": [
    "np.divide(arr1,arr2)"
   ]
  },
  {
   "cell_type": "code",
   "execution_count": 79,
   "id": "0bc597f3",
   "metadata": {},
   "outputs": [
    {
     "data": {
      "text/plain": [
       "array([[          1,        4096,     1594323],\n",
       "       [  268435456,   452807053,  -683606016],\n",
       "       [-2094633337,           0,  -400556711]])"
      ]
     },
     "execution_count": 79,
     "metadata": {},
     "output_type": "execute_result"
    }
   ],
   "source": [
    "np.power(arr1,arr2)"
   ]
  },
  {
   "cell_type": "code",
   "execution_count": 84,
   "id": "dd6686db",
   "metadata": {},
   "outputs": [
    {
     "data": {
      "text/plain": [
       "False"
      ]
     },
     "execution_count": 84,
     "metadata": {},
     "output_type": "execute_result"
    }
   ],
   "source": [
    "a=np.array([1,2,3])\n",
    "b=np.array([1,4,3])\n",
    "np.array_equal(a, b)"
   ]
  },
  {
   "cell_type": "code",
   "execution_count": 85,
   "id": "b7be188c",
   "metadata": {},
   "outputs": [
    {
     "data": {
      "text/plain": [
       "array([1.        , 1.41421356, 1.73205081])"
      ]
     },
     "execution_count": 85,
     "metadata": {},
     "output_type": "execute_result"
    }
   ],
   "source": [
    "np.sqrt(a)"
   ]
  },
  {
   "cell_type": "code",
   "execution_count": 86,
   "id": "8e8557dc",
   "metadata": {},
   "outputs": [
    {
     "data": {
      "text/plain": [
       "array([0.84147098, 0.90929743, 0.14112001])"
      ]
     },
     "execution_count": 86,
     "metadata": {},
     "output_type": "execute_result"
    }
   ],
   "source": [
    "np.sin(a)"
   ]
  },
  {
   "cell_type": "code",
   "execution_count": 87,
   "id": "3101af9c",
   "metadata": {},
   "outputs": [
    {
     "data": {
      "text/plain": [
       "array([0.        , 0.69314718, 1.09861229])"
      ]
     },
     "execution_count": 87,
     "metadata": {},
     "output_type": "execute_result"
    }
   ],
   "source": [
    "np.log(a)"
   ]
  },
  {
   "cell_type": "code",
   "execution_count": 91,
   "id": "41cc2fe4",
   "metadata": {},
   "outputs": [
    {
     "data": {
      "text/plain": [
       "array([1, 2, 3])"
      ]
     },
     "execution_count": 91,
     "metadata": {},
     "output_type": "execute_result"
    }
   ],
   "source": [
    "a=np.array([-1, -2, -3])\n",
    "np.abs(a)"
   ]
  },
  {
   "cell_type": "code",
   "execution_count": 95,
   "id": "dddfca23",
   "metadata": {},
   "outputs": [
    {
     "name": "stdout",
     "output_type": "stream",
     "text": [
      "[2. 3. 3.]\n",
      "[1. 2. 3.]\n",
      "[1. 2. 3.]\n"
     ]
    }
   ],
   "source": [
    "a=np.array([1.2, 2.5, 3])\n",
    "print(np.ceil(a))\n",
    "print(np.floor(a))\n",
    "print(np.round(a))"
   ]
  },
  {
   "cell_type": "markdown",
   "id": "80cde401",
   "metadata": {},
   "source": [
    "### Statistics"
   ]
  },
  {
   "cell_type": "code",
   "execution_count": 97,
   "id": "fdeead8c",
   "metadata": {},
   "outputs": [
    {
     "name": "stdout",
     "output_type": "stream",
     "text": [
      "[4. 5. 6.]\n",
      "[2. 5. 8.]\n"
     ]
    }
   ],
   "source": [
    "a=np.array([[1, 2, 3], [4, 5, 6], [7, 8, 9]])\n",
    "print(np.mean(a,axis=0))  # Mean of each column\n",
    "print(np.mean(a,axis=1))  # Mean of each row"
   ]
  },
  {
   "cell_type": "code",
   "execution_count": null,
   "id": "212fe8ef",
   "metadata": {},
   "outputs": [
    {
     "name": "stdout",
     "output_type": "stream",
     "text": [
      "45\n",
      "[12 15 18]\n",
      "[ 6 15 24]\n"
     ]
    }
   ],
   "source": [
    "print(a.sum())  # Sum of all elements\n",
    "print(a.sum(axis=0))  # Sum of each column\n",
    "print(a.sum(axis=1))  # Sum of each row\n"
   ]
  },
  {
   "cell_type": "code",
   "execution_count": 104,
   "id": "c90739af",
   "metadata": {},
   "outputs": [
    {
     "name": "stdout",
     "output_type": "stream",
     "text": [
      "[[  1   2   3   4   5   6]\n",
      " [  7   8   9 100  11  12]]\n",
      "min = 1\n",
      "Max = 100\n",
      "minimum in each column = [1 2 3 4 5 6]\n",
      "minimum in each row = [  6 100]\n"
     ]
    }
   ],
   "source": [
    "print(arr)\n",
    "print(\"min =\",arr.min())  # Minimum value in the array\n",
    "print(\"Max =\",arr.max())  # Maximum value in the array\n",
    "print(\"minimum in each column =\",arr.min(axis=0))  # Minimum value in each column\n",
    "print(\"minimum in each row =\",arr.max(axis=1))  # Maximum value in each row"
   ]
  },
  {
   "cell_type": "code",
   "execution_count": 113,
   "id": "c4bce200",
   "metadata": {},
   "outputs": [
    {
     "name": "stdout",
     "output_type": "stream",
     "text": [
      "[[  1   2   3   4   5   6]\n",
      " [  7   8   9 100  11  12]] \n",
      "\n",
      "[ 3.  3.  3. 48.  3.  3.]\n",
      "[ 1.70782513 33.80705055]\n",
      "[   9.    9.    9. 2304.    9.    9.]\n",
      "[   2.91666667 1142.91666667]\n",
      "variance  683.1666666666666\n",
      "standard deviation  26.1374571576247\n",
      "Correlation coefficient = \n",
      "[[1.         0.18041726]\n",
      " [0.18041726 1.        ]]\n"
     ]
    }
   ],
   "source": [
    "print(arr,\"\\n\")\n",
    "print(np.std(arr,axis=0))  # Standard deviation of each column\n",
    "print(np.std(arr,axis=1))  # Standard deviation of each row\n",
    "print(np.var(arr,axis=0))  # Variance of each column\n",
    "print(np.var(arr,axis=1))  # Variance of each row\n",
    "print(\"variance \",np.var(arr))  # Variance of the entire array\n",
    "print(\"standard deviation \",np.std(arr))  # Standard deviation of the entire array\n",
    "print(\"Correlation coefficient = \")\n",
    "print(np.corrcoef(arr))  # Correlation coefficient matrix\n"
   ]
  },
  {
   "cell_type": "code",
   "execution_count": null,
   "id": "f61442de",
   "metadata": {},
   "outputs": [],
   "source": []
  }
 ],
 "metadata": {
  "kernelspec": {
   "display_name": "base",
   "language": "python",
   "name": "python3"
  },
  "language_info": {
   "codemirror_mode": {
    "name": "ipython",
    "version": 3
   },
   "file_extension": ".py",
   "mimetype": "text/x-python",
   "name": "python",
   "nbconvert_exporter": "python",
   "pygments_lexer": "ipython3",
   "version": "3.11.5"
  }
 },
 "nbformat": 4,
 "nbformat_minor": 5
}

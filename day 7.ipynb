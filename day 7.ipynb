{
 "cells": [
  {
   "cell_type": "markdown",
   "id": "ba728e81",
   "metadata": {},
   "source": [
    "# Day- 7 (22-05-2025)"
   ]
  },
  {
   "cell_type": "markdown",
   "id": "0782a548",
   "metadata": {},
   "source": [
    "### write a function to print name"
   ]
  },
  {
   "cell_type": "code",
   "execution_count": 3,
   "id": "23943ae8",
   "metadata": {},
   "outputs": [
    {
     "name": "stdout",
     "output_type": "stream",
     "text": [
      "Enter your name :shruti\n",
      "my name is  shruti\n"
     ]
    }
   ],
   "source": [
    "def name(n):\n",
    "    print(\"my name is \",n)\n",
    "user_name= input(\"Enter your name :\")\n",
    "name(user_name)"
   ]
  },
  {
   "cell_type": "markdown",
   "id": "a62857cf",
   "metadata": {},
   "source": [
    "### write a function to calculate and return sum of 2 numbers"
   ]
  },
  {
   "cell_type": "code",
   "execution_count": 14,
   "id": "d9b113a3",
   "metadata": {},
   "outputs": [
    {
     "name": "stdout",
     "output_type": "stream",
     "text": [
      "Enter the number 1: 3\n",
      "Enter the number 2: 4\n",
      "7\n"
     ]
    }
   ],
   "source": [
    "\n",
    "num1 = int(input(\"Enter the number 1: \"))\n",
    "num2 = int(input(\"Enter the number 2: \"))\n",
    "add(num1,num2)\n",
    "\n",
    "def add(n1,n2):\n",
    "    print(n1+n2)\n",
    "# print(num1,\" + \",num2,\" = \",result)"
   ]
  },
  {
   "cell_type": "code",
   "execution_count": 22,
   "id": "fccda30d",
   "metadata": {},
   "outputs": [
    {
     "name": "stdout",
     "output_type": "stream",
     "text": [
      "Enter the number 1: 2\n",
      "Enter the number 2: 5\n",
      "2  +  5  =  7\n"
     ]
    }
   ],
   "source": [
    "def add(n1,n2):\n",
    "    return n1+n2\n",
    "num1 = int(input(\"Enter the number 1: \"))\n",
    "num2 = int(input(\"Enter the number 2: \"))\n",
    "result = add(num1,num2)\n",
    "print(num1,\" + \",num2,\" = \",result)"
   ]
  },
  {
   "cell_type": "markdown",
   "id": "01ddd7e5",
   "metadata": {},
   "source": [
    "### create a function that return both area and circumference of a circle .given its radius"
   ]
  },
  {
   "cell_type": "code",
   "execution_count": 16,
   "id": "123f287a",
   "metadata": {},
   "outputs": [
    {
     "name": "stdout",
     "output_type": "stream",
     "text": [
      "enter the radius value = 2\n",
      "Area =  12.56\n",
      "Circumference =  12.56\n"
     ]
    }
   ],
   "source": [
    "def solution(r):\n",
    "    area = 3.14*r*r\n",
    "    print(\"Area = \",area)\n",
    "    c= 2*3.14*r\n",
    "    print(\"Circumference = \",c)\n",
    "n= int(input(\"enter the radius value = \"))\n",
    "solution(n)\n"
   ]
  },
  {
   "cell_type": "markdown",
   "id": "5973b907",
   "metadata": {},
   "source": [
    "### Default function"
   ]
  },
  {
   "cell_type": "code",
   "execution_count": 20,
   "id": "0fa64759",
   "metadata": {},
   "outputs": [
    {
     "name": "stdout",
     "output_type": "stream",
     "text": [
      "hii   Ram\n",
      "Hello   alice\n"
     ]
    }
   ],
   "source": [
    "def fun(a,b=\"alice\"):\n",
    "    print(a,\" \",b)\n",
    "(fun(\"hii\",\"Ram\"))\n",
    "(fun(\"Hello\"))\n"
   ]
  },
  {
   "cell_type": "markdown",
   "id": "71dc8387",
   "metadata": {},
   "source": [
    "### Lambda function"
   ]
  },
  {
   "cell_type": "code",
   "execution_count": 21,
   "id": "0a1dccfd",
   "metadata": {},
   "outputs": [
    {
     "name": "stdout",
     "output_type": "stream",
     "text": [
      "27\n"
     ]
    }
   ],
   "source": [
    "#finding cube of a number\n",
    "cube = lambda x:x**3\n",
    "print(cube(3))"
   ]
  },
  {
   "cell_type": "markdown",
   "id": "276071fb",
   "metadata": {},
   "source": [
    "### *args use"
   ]
  },
  {
   "cell_type": "code",
   "execution_count": 44,
   "id": "c28c498b",
   "metadata": {},
   "outputs": [
    {
     "name": "stdout",
     "output_type": "stream",
     "text": [
      "(1, 2, 3)\n",
      "<class 'tuple'>\n",
      "6\n",
      "(1, 2, 3, 4, 5)\n",
      "<class 'tuple'>\n",
      "15\n",
      "(1, 2, 3, 4, 5, 6, 7, 8, 9, 10)\n",
      "<class 'tuple'>\n",
      "55\n"
     ]
    }
   ],
   "source": [
    "#sum of all numbers in a tuple\n",
    "def sum_all(*args):\n",
    "    print(args)\n",
    "    print(type(args))\n",
    "    sum =0\n",
    "    for i in  args:\n",
    "        sum+=i\n",
    "        \n",
    "    return sum\n",
    "\n",
    "print(sum_all(1,2,3))\n",
    "print(sum_all(1,2,3,4,5))\n",
    "print(sum_all(1,2,3,4,5,6,7,8,9,10))"
   ]
  },
  {
   "cell_type": "markdown",
   "id": "5dcea0d5",
   "metadata": {},
   "source": [
    "### **kwargs use"
   ]
  },
  {
   "cell_type": "markdown",
   "id": "c4d60ee9",
   "metadata": {},
   "source": [
    "#### Create a function that accepts any number of keyword arguments and print them in the form of key = value"
   ]
  },
  {
   "cell_type": "code",
   "execution_count": 47,
   "id": "d05cfbc4",
   "metadata": {
    "scrolled": true
   },
   "outputs": [
    {
     "name": "stdout",
     "output_type": "stream",
     "text": [
      "{'a': 1, 'b': 2, 'c': 3}\n",
      "<class 'dict'>\n",
      "a 1\n",
      "b 2\n",
      "c 3\n",
      "{'a': 1, 'b': 2, 'c': 3, 'd': 4, 'e': 5}\n",
      "<class 'dict'>\n",
      "a 1\n",
      "b 2\n",
      "c 3\n",
      "d 4\n",
      "e 5\n"
     ]
    }
   ],
   "source": [
    "def sum_all(**kwargs):\n",
    "    print(kwargs)\n",
    "    print(type(kwargs))\n",
    "    for key,value in  kwargs.items():\n",
    "        print(key,value)\n",
    "        \n",
    "(sum_all(a=1,b=2,c=3))\n",
    "(sum_all(a=1,b=2,c=3,d=4,e=5))\n",
    "\n",
    "    "
   ]
  },
  {
   "cell_type": "markdown",
   "id": "aa65df20",
   "metadata": {},
   "source": [
    "### factorial of a number using recursion"
   ]
  },
  {
   "cell_type": "code",
   "execution_count": 60,
   "id": "caae4dd8",
   "metadata": {},
   "outputs": [
    {
     "data": {
      "text/plain": [
       "120"
      ]
     },
     "execution_count": 60,
     "metadata": {},
     "output_type": "execute_result"
    }
   ],
   "source": [
    "def fact(n):\n",
    "    f=1\n",
    "    if(n==0):\n",
    "        return 1\n",
    "    else:\n",
    "        f=n*fact(n-1)\n",
    "        return f\n",
    "fact(5)"
   ]
  },
  {
   "cell_type": "code",
   "execution_count": null,
   "id": "d823950c",
   "metadata": {},
   "outputs": [],
   "source": []
  }
 ],
 "metadata": {
  "kernelspec": {
   "display_name": "Python 3 (ipykernel)",
   "language": "python",
   "name": "python3"
  },
  "language_info": {
   "codemirror_mode": {
    "name": "ipython",
    "version": 3
   },
   "file_extension": ".py",
   "mimetype": "text/x-python",
   "name": "python",
   "nbconvert_exporter": "python",
   "pygments_lexer": "ipython3",
   "version": "3.11.5"
  }
 },
 "nbformat": 4,
 "nbformat_minor": 5
}

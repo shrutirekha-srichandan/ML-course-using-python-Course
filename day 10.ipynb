{
 "cells": [
  {
   "cell_type": "markdown",
   "id": "8c0a9e0c",
   "metadata": {},
   "source": [
    "## Day 10 (29-05-2025)"
   ]
  },
  {
   "cell_type": "markdown",
   "id": "360928d7",
   "metadata": {},
   "source": [
    "## Numpy"
   ]
  },
  {
   "cell_type": "code",
   "execution_count": 1,
   "id": "1517dbbd",
   "metadata": {},
   "outputs": [
    {
     "name": "stdout",
     "output_type": "stream",
     "text": [
      "Collecting numpy\n",
      "  Downloading numpy-2.2.6-cp313-cp313-win_amd64.whl.metadata (60 kB)\n",
      "Downloading numpy-2.2.6-cp313-cp313-win_amd64.whl (12.6 MB)\n",
      "   ---------------------------------------- 0.0/12.6 MB ? eta -:--:--\n",
      "    --------------------------------------- 0.3/12.6 MB ? eta -:--:--\n",
      "   - -------------------------------------- 0.5/12.6 MB 1.2 MB/s eta 0:00:11\n",
      "   -- ------------------------------------- 0.8/12.6 MB 1.2 MB/s eta 0:00:10\n",
      "   -- ------------------------------------- 0.8/12.6 MB 1.2 MB/s eta 0:00:10\n",
      "   --- ------------------------------------ 1.0/12.6 MB 1.1 MB/s eta 0:00:11\n",
      "   ---- ----------------------------------- 1.3/12.6 MB 1.2 MB/s eta 0:00:10\n",
      "   ---- ----------------------------------- 1.6/12.6 MB 1.2 MB/s eta 0:00:10\n",
      "   ----- ---------------------------------- 1.8/12.6 MB 1.1 MB/s eta 0:00:11\n",
      "   ------ --------------------------------- 2.1/12.6 MB 1.1 MB/s eta 0:00:10\n",
      "   ------ --------------------------------- 2.1/12.6 MB 1.1 MB/s eta 0:00:10\n",
      "   ------- -------------------------------- 2.4/12.6 MB 991.2 kB/s eta 0:00:11\n",
      "   ------- -------------------------------- 2.4/12.6 MB 991.2 kB/s eta 0:00:11\n",
      "   -------- ------------------------------- 2.6/12.6 MB 993.3 kB/s eta 0:00:11\n",
      "   -------- ------------------------------- 2.6/12.6 MB 993.3 kB/s eta 0:00:11\n",
      "   --------- ------------------------------ 2.9/12.6 MB 919.8 kB/s eta 0:00:11\n",
      "   --------- ------------------------------ 2.9/12.6 MB 919.8 kB/s eta 0:00:11\n",
      "   --------- ------------------------------ 3.1/12.6 MB 855.3 kB/s eta 0:00:12\n",
      "   --------- ------------------------------ 3.1/12.6 MB 855.3 kB/s eta 0:00:12\n",
      "   ---------- ----------------------------- 3.4/12.6 MB 829.6 kB/s eta 0:00:12\n",
      "   ---------- ----------------------------- 3.4/12.6 MB 829.6 kB/s eta 0:00:12\n",
      "   ---------- ----------------------------- 3.4/12.6 MB 829.6 kB/s eta 0:00:12\n",
      "   ----------- ---------------------------- 3.7/12.6 MB 774.3 kB/s eta 0:00:12\n",
      "   ----------- ---------------------------- 3.7/12.6 MB 774.3 kB/s eta 0:00:12\n",
      "   ----------- ---------------------------- 3.7/12.6 MB 774.3 kB/s eta 0:00:12\n",
      "   ------------ --------------------------- 3.9/12.6 MB 741.4 kB/s eta 0:00:12\n",
      "   ------------ --------------------------- 3.9/12.6 MB 741.4 kB/s eta 0:00:12\n",
      "   ------------ --------------------------- 3.9/12.6 MB 741.4 kB/s eta 0:00:12\n",
      "   ------------ --------------------------- 3.9/12.6 MB 741.4 kB/s eta 0:00:12\n",
      "   ------------- -------------------------- 4.2/12.6 MB 675.9 kB/s eta 0:00:13\n",
      "   ------------- -------------------------- 4.2/12.6 MB 675.9 kB/s eta 0:00:13\n",
      "   -------------- ------------------------- 4.5/12.6 MB 668.1 kB/s eta 0:00:13\n",
      "   -------------- ------------------------- 4.7/12.6 MB 680.3 kB/s eta 0:00:12\n",
      "   -------------- ------------------------- 4.7/12.6 MB 680.3 kB/s eta 0:00:12\n",
      "   -------------- ------------------------- 4.7/12.6 MB 680.3 kB/s eta 0:00:12\n",
      "   --------------- ------------------------ 5.0/12.6 MB 667.6 kB/s eta 0:00:12\n",
      "   --------------- ------------------------ 5.0/12.6 MB 667.6 kB/s eta 0:00:12\n",
      "   ---------------- ----------------------- 5.2/12.6 MB 662.3 kB/s eta 0:00:12\n",
      "   ---------------- ----------------------- 5.2/12.6 MB 662.3 kB/s eta 0:00:12\n",
      "   ----------------- ---------------------- 5.5/12.6 MB 665.6 kB/s eta 0:00:11\n",
      "   ------------------ --------------------- 5.8/12.6 MB 668.2 kB/s eta 0:00:11\n",
      "   ------------------ --------------------- 5.8/12.6 MB 668.2 kB/s eta 0:00:11\n",
      "   ------------------ --------------------- 5.8/12.6 MB 668.2 kB/s eta 0:00:11\n",
      "   ------------------ --------------------- 5.8/12.6 MB 668.2 kB/s eta 0:00:11\n",
      "   ------------------- -------------------- 6.0/12.6 MB 637.1 kB/s eta 0:00:11\n",
      "   ------------------- -------------------- 6.0/12.6 MB 637.1 kB/s eta 0:00:11\n",
      "   ------------------- -------------------- 6.0/12.6 MB 637.1 kB/s eta 0:00:11\n",
      "   ------------------- -------------------- 6.0/12.6 MB 637.1 kB/s eta 0:00:11\n",
      "   ------------------- -------------------- 6.0/12.6 MB 637.1 kB/s eta 0:00:11\n",
      "   ------------------- -------------------- 6.3/12.6 MB 593.8 kB/s eta 0:00:11\n",
      "   ------------------- -------------------- 6.3/12.6 MB 593.8 kB/s eta 0:00:11\n",
      "   ------------------- -------------------- 6.3/12.6 MB 593.8 kB/s eta 0:00:11\n",
      "   -------------------- ------------------- 6.6/12.6 MB 583.0 kB/s eta 0:00:11\n",
      "   -------------------- ------------------- 6.6/12.6 MB 583.0 kB/s eta 0:00:11\n",
      "   --------------------- ------------------ 6.8/12.6 MB 591.2 kB/s eta 0:00:10\n",
      "   --------------------- ------------------ 6.8/12.6 MB 591.2 kB/s eta 0:00:10\n",
      "   --------------------- ------------------ 6.8/12.6 MB 591.2 kB/s eta 0:00:10\n",
      "   --------------------- ------------------ 6.8/12.6 MB 591.2 kB/s eta 0:00:10\n",
      "   --------------------- ------------------ 6.8/12.6 MB 591.2 kB/s eta 0:00:10\n",
      "   --------------------- ------------------ 6.8/12.6 MB 591.2 kB/s eta 0:00:10\n",
      "   ---------------------- ----------------- 7.1/12.6 MB 544.3 kB/s eta 0:00:11\n",
      "   ---------------------- ----------------- 7.1/12.6 MB 544.3 kB/s eta 0:00:11\n",
      "   ---------------------- ----------------- 7.1/12.6 MB 544.3 kB/s eta 0:00:11\n",
      "   ---------------------- ----------------- 7.1/12.6 MB 544.3 kB/s eta 0:00:11\n",
      "   ---------------------- ----------------- 7.1/12.6 MB 544.3 kB/s eta 0:00:11\n",
      "   ----------------------- ---------------- 7.3/12.6 MB 528.1 kB/s eta 0:00:10\n",
      "   ----------------------- ---------------- 7.3/12.6 MB 528.1 kB/s eta 0:00:10\n",
      "   ----------------------- ---------------- 7.3/12.6 MB 528.1 kB/s eta 0:00:10\n",
      "   ----------------------- ---------------- 7.3/12.6 MB 528.1 kB/s eta 0:00:10\n",
      "   ----------------------- ---------------- 7.3/12.6 MB 528.1 kB/s eta 0:00:10\n",
      "   ------------------------ --------------- 7.6/12.6 MB 501.4 kB/s eta 0:00:10\n",
      "   ------------------------ --------------- 7.6/12.6 MB 501.4 kB/s eta 0:00:10\n",
      "   ------------------------ --------------- 7.6/12.6 MB 501.4 kB/s eta 0:00:10\n",
      "   ------------------------ --------------- 7.6/12.6 MB 501.4 kB/s eta 0:00:10\n",
      "   ------------------------ --------------- 7.6/12.6 MB 501.4 kB/s eta 0:00:10\n",
      "   ------------------------ --------------- 7.6/12.6 MB 501.4 kB/s eta 0:00:10\n",
      "   ------------------------ --------------- 7.6/12.6 MB 501.4 kB/s eta 0:00:10\n",
      "   ------------------------ --------------- 7.6/12.6 MB 501.4 kB/s eta 0:00:10\n",
      "   ------------------------ --------------- 7.6/12.6 MB 501.4 kB/s eta 0:00:10\n",
      "   ------------------------ --------------- 7.6/12.6 MB 501.4 kB/s eta 0:00:10\n",
      "   ------------------------ --------------- 7.6/12.6 MB 501.4 kB/s eta 0:00:10\n",
      "   ------------------------ --------------- 7.6/12.6 MB 501.4 kB/s eta 0:00:10\n",
      "   ------------------------ --------------- 7.9/12.6 MB 447.4 kB/s eta 0:00:11\n",
      "   ------------------------ --------------- 7.9/12.6 MB 447.4 kB/s eta 0:00:11\n",
      "   ------------------------ --------------- 7.9/12.6 MB 447.4 kB/s eta 0:00:11\n",
      "   ------------------------ --------------- 7.9/12.6 MB 447.4 kB/s eta 0:00:11\n",
      "   ------------------------ --------------- 7.9/12.6 MB 447.4 kB/s eta 0:00:11\n",
      "   ------------------------ --------------- 7.9/12.6 MB 447.4 kB/s eta 0:00:11\n",
      "   ------------------------ --------------- 7.9/12.6 MB 447.4 kB/s eta 0:00:11\n",
      "   ------------------------- -------------- 8.1/12.6 MB 422.0 kB/s eta 0:00:11\n",
      "   ------------------------- -------------- 8.1/12.6 MB 422.0 kB/s eta 0:00:11\n",
      "   ------------------------- -------------- 8.1/12.6 MB 422.0 kB/s eta 0:00:11\n",
      "   ------------------------- -------------- 8.1/12.6 MB 422.0 kB/s eta 0:00:11\n",
      "   ------------------------- -------------- 8.1/12.6 MB 422.0 kB/s eta 0:00:11\n",
      "   -------------------------- ------------- 8.4/12.6 MB 412.6 kB/s eta 0:00:11\n",
      "   -------------------------- ------------- 8.4/12.6 MB 412.6 kB/s eta 0:00:11\n",
      "   -------------------------- ------------- 8.4/12.6 MB 412.6 kB/s eta 0:00:11\n",
      "   -------------------------- ------------- 8.4/12.6 MB 412.6 kB/s eta 0:00:11\n",
      "   -------------------------- ------------- 8.4/12.6 MB 412.6 kB/s eta 0:00:11\n",
      "   -------------------------- ------------- 8.4/12.6 MB 412.6 kB/s eta 0:00:11\n",
      "   -------------------------- ------------- 8.4/12.6 MB 412.6 kB/s eta 0:00:11\n",
      "   -------------------------- ------------- 8.4/12.6 MB 412.6 kB/s eta 0:00:11\n",
      "   -------------------------- ------------- 8.4/12.6 MB 412.6 kB/s eta 0:00:11\n",
      "   -------------------------- ------------- 8.4/12.6 MB 412.6 kB/s eta 0:00:11\n",
      "   -------------------------- ------------- 8.4/12.6 MB 412.6 kB/s eta 0:00:11\n",
      "   -------------------------- ------------- 8.4/12.6 MB 412.6 kB/s eta 0:00:11\n",
      "   -------------------------- ------------- 8.4/12.6 MB 412.6 kB/s eta 0:00:11\n",
      "   --------------------------- ------------ 8.7/12.6 MB 373.3 kB/s eta 0:00:11\n",
      "   --------------------------- ------------ 8.7/12.6 MB 373.3 kB/s eta 0:00:11\n",
      "   --------------------------- ------------ 8.7/12.6 MB 373.3 kB/s eta 0:00:11\n",
      "   ---------------------------- ----------- 8.9/12.6 MB 374.9 kB/s eta 0:00:10\n",
      "   ---------------------------- ----------- 8.9/12.6 MB 374.9 kB/s eta 0:00:10\n",
      "   ----------------------------- ---------- 9.2/12.6 MB 379.4 kB/s eta 0:00:10\n",
      "   ----------------------------- ---------- 9.2/12.6 MB 379.4 kB/s eta 0:00:10\n",
      "   ----------------------------- ---------- 9.4/12.6 MB 383.9 kB/s eta 0:00:09\n",
      "   ----------------------------- ---------- 9.4/12.6 MB 383.9 kB/s eta 0:00:09\n",
      "   ----------------------------- ---------- 9.4/12.6 MB 383.9 kB/s eta 0:00:09\n",
      "   ----------------------------- ---------- 9.4/12.6 MB 383.9 kB/s eta 0:00:09\n",
      "   ------------------------------ --------- 9.7/12.6 MB 381.2 kB/s eta 0:00:08\n",
      "   ------------------------------ --------- 9.7/12.6 MB 381.2 kB/s eta 0:00:08\n",
      "   ------------------------------ --------- 9.7/12.6 MB 381.2 kB/s eta 0:00:08\n",
      "   ------------------------------ --------- 9.7/12.6 MB 381.2 kB/s eta 0:00:08\n",
      "   ------------------------------- -------- 10.0/12.6 MB 378.8 kB/s eta 0:00:07\n",
      "   ------------------------------- -------- 10.0/12.6 MB 378.8 kB/s eta 0:00:07\n",
      "   -------------------------------- ------- 10.2/12.6 MB 382.8 kB/s eta 0:00:07\n",
      "   -------------------------------- ------- 10.2/12.6 MB 382.8 kB/s eta 0:00:07\n",
      "   --------------------------------- ------ 10.5/12.6 MB 386.7 kB/s eta 0:00:06\n",
      "   ---------------------------------- ----- 10.7/12.6 MB 392.9 kB/s eta 0:00:05\n",
      "   ---------------------------------- ----- 10.7/12.6 MB 392.9 kB/s eta 0:00:05\n",
      "   ----------------------------------- ---- 11.3/12.6 MB 405.6 kB/s eta 0:00:04\n",
      "   ------------------------------------ --- 11.5/12.6 MB 412.6 kB/s eta 0:00:03\n",
      "   ------------------------------------- -- 11.8/12.6 MB 418.4 kB/s eta 0:00:02\n",
      "   -------------------------------------- - 12.1/12.6 MB 425.0 kB/s eta 0:00:02\n",
      "   ---------------------------------------  12.3/12.6 MB 431.6 kB/s eta 0:00:01\n",
      "   ---------------------------------------- 12.6/12.6 MB 437.9 kB/s eta 0:00:00\n",
      "Installing collected packages: numpy\n",
      "Successfully installed numpy-2.2.6\n",
      "Note: you may need to restart the kernel to use updated packages.\n"
     ]
    },
    {
     "name": "stderr",
     "output_type": "stream",
     "text": [
      "\n",
      "[notice] A new release of pip is available: 24.3.1 -> 25.1.1\n",
      "[notice] To update, run: python.exe -m pip install --upgrade pip\n"
     ]
    }
   ],
   "source": [
    "pip install numpy"
   ]
  },
  {
   "cell_type": "code",
   "execution_count": 2,
   "id": "75125c4c",
   "metadata": {},
   "outputs": [],
   "source": [
    "import numpy as np"
   ]
  },
  {
   "cell_type": "markdown",
   "id": "45a4b879",
   "metadata": {},
   "source": [
    "### #Creating Arrays"
   ]
  },
  {
   "cell_type": "code",
   "execution_count": null,
   "id": "ff7a0830",
   "metadata": {},
   "outputs": [
    {
     "data": {
      "text/plain": [
       "array([1, 2, 3])"
      ]
     },
     "execution_count": 5,
     "metadata": {},
     "output_type": "execute_result"
    }
   ],
   "source": [
    "# Create a 1D NumPy array\n",
    "arr_1d=np.array([1,2,3])\n",
    "arr_1d"
   ]
  },
  {
   "cell_type": "code",
   "execution_count": null,
   "id": "61b75a48",
   "metadata": {},
   "outputs": [
    {
     "name": "stdout",
     "output_type": "stream",
     "text": [
      "[[1 2 3]\n",
      " [4 5 6]]\n"
     ]
    }
   ],
   "source": [
    "# Create a 2D NumPy array\n",
    "arr_2d = np.array([[1,2,3],[4,5,6]])\n",
    "print(arr_2d)"
   ]
  },
  {
   "cell_type": "code",
   "execution_count": 13,
   "id": "3fad3f6b",
   "metadata": {},
   "outputs": [
    {
     "name": "stdout",
     "output_type": "stream",
     "text": [
      "list multiplication = [1, 2, 3, 1, 2, 3]\n",
      "\n",
      "numpy array multiplication = [2 4 6]\n"
     ]
    }
   ],
   "source": [
    "# numpy vs list array\n",
    "l=[1,2,3]\n",
    "print(f\"list multiplication = {2*l}\\n\")\n",
    "a=np.array([1,2,3])\n",
    "print(f\"numpy array multiplication = {a*2}\")"
   ]
  },
  {
   "cell_type": "code",
   "execution_count": 17,
   "id": "986cef99",
   "metadata": {},
   "outputs": [
    {
     "name": "stdout",
     "output_type": "stream",
     "text": [
      "[0. 0. 0.]\n"
     ]
    }
   ],
   "source": [
    "#1d array of length 3 with zeros\n",
    "arr = np.zeros(3)\n",
    "print(arr)"
   ]
  },
  {
   "cell_type": "code",
   "execution_count": 18,
   "id": "8aca1f40",
   "metadata": {},
   "outputs": [
    {
     "name": "stdout",
     "output_type": "stream",
     "text": [
      "[[0. 0. 0. 0.]\n",
      " [0. 0. 0. 0.]\n",
      " [0. 0. 0. 0.]]\n"
     ]
    }
   ],
   "source": [
    "# 2D array of shape (3,4) with zeros\n",
    "arr = np.zeros((3,4))\n",
    "print(arr)"
   ]
  },
  {
   "cell_type": "code",
   "execution_count": 20,
   "id": "b69ad7f1",
   "metadata": {},
   "outputs": [
    {
     "name": "stdout",
     "output_type": "stream",
     "text": [
      "[[1. 0. 0. 0. 0.]\n",
      " [0. 1. 0. 0. 0.]\n",
      " [0. 0. 1. 0. 0.]\n",
      " [0. 0. 0. 1. 0.]\n",
      " [0. 0. 0. 0. 1.]]\n"
     ]
    }
   ],
   "source": [
    "#5*5 identity matrix\n",
    "arr = np.eye(5)\n",
    "print(arr)"
   ]
  },
  {
   "cell_type": "code",
   "execution_count": 26,
   "id": "55856e23",
   "metadata": {},
   "outputs": [
    {
     "name": "stdout",
     "output_type": "stream",
     "text": [
      "One dimensional array of ones\n",
      "\n",
      "[1. 1. 1.] \n",
      "\n",
      "2D array of ones with shape (3,4)\n",
      "\n",
      "[[1. 1. 1. 1.]\n",
      " [1. 1. 1. 1.]\n",
      " [1. 1. 1. 1.]]\n"
     ]
    }
   ],
   "source": [
    "#one dimensional array of ones\n",
    "arr=np.ones(3)\n",
    "print(\"One dimensional array of ones\\n\")\n",
    "print(arr,'\\n')\n",
    "# 2D array of ones with shape (3,4)\n",
    "arr = np.ones((3,4))\n",
    "print(\"2D array of ones with shape (3,4)\\n\")\n",
    "print(arr)"
   ]
  },
  {
   "cell_type": "code",
   "execution_count": 28,
   "id": "fdef80ef",
   "metadata": {},
   "outputs": [
    {
     "name": "stdout",
     "output_type": "stream",
     "text": [
      "1D array with 6 evenly spaced values between 0 and 100\n",
      "\n",
      "[  0.  20.  40.  60.  80. 100.]\n"
     ]
    }
   ],
   "source": [
    "arr = np.linspace(0,100,6)\n",
    "print(\"1D array with 6 evenly spaced values between 0 and 100\\n\")\n",
    "print(arr)"
   ]
  },
  {
   "cell_type": "code",
   "execution_count": 31,
   "id": "c218eca9",
   "metadata": {},
   "outputs": [
    {
     "name": "stdout",
     "output_type": "stream",
     "text": [
      "1D array with values from 0 to 10 with a step of 3\n",
      "\n",
      "[0 3 6 9]\n"
     ]
    }
   ],
   "source": [
    "arr=np.arange(0,10,3)\n",
    "print(\"1D array with values from 0 to 10 with a step of 3\\n\")\n",
    "print(arr)"
   ]
  },
  {
   "cell_type": "code",
   "execution_count": 32,
   "id": "a15ee8b4",
   "metadata": {},
   "outputs": [
    {
     "name": "stdout",
     "output_type": "stream",
     "text": [
      "2D array of shape (2,3) with all values set to 8\n",
      "\n",
      "[[8 8 8]\n",
      " [8 8 8]]\n"
     ]
    }
   ],
   "source": [
    "arr = np.full((2,3),8)\n",
    "print(\"2D array of shape (2,3) with all values set to 8\\n\")\n",
    "print(arr)"
   ]
  },
  {
   "cell_type": "code",
   "execution_count": 5,
   "id": "1676f306",
   "metadata": {},
   "outputs": [
    {
     "name": "stdout",
     "output_type": "stream",
     "text": [
      "2D array of shape (4,5) with random values between 0 and 1\n",
      "\n",
      "[[0.96702984 0.54723225 0.97268436 0.71481599 0.69772882]\n",
      " [0.2160895  0.97627445 0.00623026 0.25298236 0.43479153]\n",
      " [0.77938292 0.19768507 0.86299324 0.98340068 0.16384224]\n",
      " [0.59733394 0.0089861  0.38657128 0.04416006 0.95665297]]\n"
     ]
    }
   ],
   "source": [
    "arr = np.random.rand(4,5)\n",
    "print(\"2D array of shape (4,5) with random values between 0 and 1\\n\")\n",
    "print(arr)\n"
   ]
  },
  {
   "cell_type": "code",
   "execution_count": 38,
   "id": "c1bf02bd",
   "metadata": {},
   "outputs": [
    {
     "name": "stdout",
     "output_type": "stream",
     "text": [
      "2D array of shape (2,3) with random values between 0 and 100\n",
      "\n",
      "[[17.24715447 77.05766213 57.03810898]\n",
      " [89.88945905 57.71398508 33.59983269]]\n"
     ]
    }
   ],
   "source": [
    "arr = np.random.rand(2,3)*100\n",
    "print(\"2D array of shape (2,3) with random values between 0 and 100\\n\")\n",
    "print(arr)"
   ]
  },
  {
   "cell_type": "code",
   "execution_count": 42,
   "id": "66f00693",
   "metadata": {},
   "outputs": [
    {
     "name": "stdout",
     "output_type": "stream",
     "text": [
      "2D array of shape (2,3) with random integers between 0 and 4\n",
      "\n",
      "[[4 3 0]\n",
      " [3 3 3]]\n"
     ]
    }
   ],
   "source": [
    "arr = np.random.randint(5, size=(2,3))\n",
    "print(\"2D array of shape (2,3) with random integers between 0 and 4\\n\")\n",
    "print(arr)"
   ]
  },
  {
   "cell_type": "markdown",
   "id": "c17f4ee9",
   "metadata": {},
   "source": [
    "### #inspecting properties"
   ]
  },
  {
   "cell_type": "code",
   "execution_count": null,
   "id": "2c496657",
   "metadata": {},
   "outputs": [
    {
     "name": "stdout",
     "output_type": "stream",
     "text": [
      "[[1 2 3]\n",
      " [4 5 6]]\n"
     ]
    }
   ],
   "source": [
    "\n",
    "arr= np.array([[1,2,3],[4,5,6]])\n",
    "# print(\"Shape of the array:\", arr.shape)\n",
    "print(arr.astype(dtype=int))\n"
   ]
  },
  {
   "cell_type": "code",
   "execution_count": 60,
   "id": "bdca2477",
   "metadata": {},
   "outputs": [
    {
     "name": "stdout",
     "output_type": "stream",
     "text": [
      "[[1, 2, 3], [4, 5, 6]]\n"
     ]
    }
   ],
   "source": [
    "print(arr.tolist())"
   ]
  },
  {
   "cell_type": "code",
   "execution_count": 67,
   "id": "c1d763c4",
   "metadata": {},
   "outputs": [
    {
     "name": "stdout",
     "output_type": "stream",
     "text": [
      " eye(N, M=None, k=0, dtype=<class 'float'>, order='C', *, device=None,\n",
      "     like=None)\n",
      "\n",
      "Return a 2-D array with ones on the diagonal and zeros elsewhere.\n",
      "\n",
      "Parameters\n",
      "----------\n",
      "N : int\n",
      "  Number of rows in the output.\n",
      "M : int, optional\n",
      "  Number of columns in the output. If None, defaults to `N`.\n",
      "k : int, optional\n",
      "  Index of the diagonal: 0 (the default) refers to the main diagonal,\n",
      "  a positive value refers to an upper diagonal, and a negative value\n",
      "  to a lower diagonal.\n",
      "dtype : data-type, optional\n",
      "  Data-type of the returned array.\n",
      "order : {'C', 'F'}, optional\n",
      "    Whether the output should be stored in row-major (C-style) or\n",
      "    column-major (Fortran-style) order in memory.\n",
      "device : str, optional\n",
      "    The device on which to place the created array. Default: None.\n",
      "    For Array-API interoperability only, so must be ``\"cpu\"`` if passed.\n",
      "\n",
      "    .. versionadded:: 2.0.0\n",
      "like : array_like, optional\n",
      "        Reference object to allow the creation of arrays which are not\n",
      "        NumPy arrays. If an array-like passed in as ``like`` supports\n",
      "        the ``__array_function__`` protocol, the result will be defined\n",
      "        by it. In this case, it ensures the creation of an array object\n",
      "        compatible with that passed in via this argument.\n",
      "\n",
      "    .. versionadded:: 1.20.0\n",
      "\n",
      "Returns\n",
      "-------\n",
      "I : ndarray of shape (N,M)\n",
      "  An array where all elements are equal to zero, except for the `k`-th\n",
      "  diagonal, whose values are equal to one.\n",
      "\n",
      "See Also\n",
      "--------\n",
      "identity : (almost) equivalent function\n",
      "diag : diagonal 2-D array from a 1-D array specified by the user.\n",
      "\n",
      "Examples\n",
      "--------\n",
      ">>> import numpy as np\n",
      ">>> np.eye(2, dtype=int)\n",
      "array([[1, 0],\n",
      "       [0, 1]])\n",
      ">>> np.eye(3, k=1)\n",
      "array([[0.,  1.,  0.],\n",
      "       [0.,  0.,  1.],\n",
      "       [0.,  0.,  0.]])\n",
      "None\n"
     ]
    }
   ],
   "source": [
    "print(np.info(np.eye))"
   ]
  },
  {
   "cell_type": "code",
   "execution_count": 62,
   "id": "baa8a7ae",
   "metadata": {},
   "outputs": [
    {
     "name": "stdout",
     "output_type": "stream",
     "text": [
      "6\n"
     ]
    }
   ],
   "source": [
    "print(arr.size)"
   ]
  },
  {
   "cell_type": "code",
   "execution_count": 63,
   "id": "ef2fce84",
   "metadata": {},
   "outputs": [
    {
     "name": "stdout",
     "output_type": "stream",
     "text": [
      "(2, 3)\n"
     ]
    }
   ],
   "source": [
    "print(arr.shape)"
   ]
  },
  {
   "cell_type": "code",
   "execution_count": 68,
   "id": "f63a8d17",
   "metadata": {},
   "outputs": [
    {
     "name": "stdout",
     "output_type": "stream",
     "text": [
      "int64\n"
     ]
    }
   ],
   "source": [
    "print(arr.dtype)"
   ]
  },
  {
   "cell_type": "markdown",
   "id": "018cd8cc",
   "metadata": {},
   "source": [
    "### #copying,sorting,& reshaping"
   ]
  },
  {
   "cell_type": "code",
   "execution_count": 71,
   "id": "60aef2b9",
   "metadata": {},
   "outputs": [
    {
     "name": "stdout",
     "output_type": "stream",
     "text": [
      "Copied array:\n",
      "[[1 2 3]\n",
      " [4 5 6]]\n"
     ]
    }
   ],
   "source": [
    "copy_arr = arr.copy()\n",
    "print(\"Copied array:\")\n",
    "print(copy_arr)\n"
   ]
  },
  {
   "cell_type": "code",
   "execution_count": 110,
   "id": "56eb307d",
   "metadata": {},
   "outputs": [
    {
     "name": "stdout",
     "output_type": "stream",
     "text": [
      "[[1 2 3]\n",
      " [4 5 6]]\n"
     ]
    }
   ],
   "source": [
    "print(arr.view(dtype=int))"
   ]
  },
  {
   "cell_type": "code",
   "execution_count": 95,
   "id": "7fddc53d",
   "metadata": {},
   "outputs": [
    {
     "name": "stdout",
     "output_type": "stream",
     "text": [
      "[[1 2 3]\n",
      " [2 3 7]]\n"
     ]
    }
   ],
   "source": [
    "a= np.array([[1,2,3],[7,2,3]])\n",
    "a.sort()\n",
    "print(a)"
   ]
  },
  {
   "cell_type": "code",
   "execution_count": 108,
   "id": "50fcd6cc",
   "metadata": {},
   "outputs": [
    {
     "name": "stdout",
     "output_type": "stream",
     "text": [
      "[[ 24  90   3]\n",
      " [100 100   6]]\n",
      "\n",
      " [[  3  24  90]\n",
      " [  6 100 100]]\n"
     ]
    }
   ],
   "source": [
    "ar= np.array([[100,90,3],\n",
    "            [24,100,6]])\n",
    "ar.sort(axis=0) # Sort along the first axis (columns)\n",
    "print(ar)\n",
    "ar.sort(axis=1) # Sort along the second axis (rows)\n",
    "print(\"\\n\",ar)"
   ]
  },
  {
   "cell_type": "code",
   "execution_count": 117,
   "id": "d8c8e19e",
   "metadata": {},
   "outputs": [
    {
     "name": "stdout",
     "output_type": "stream",
     "text": [
      "Original array:\n",
      "\n",
      "[[1 2 3]\n",
      " [4 5 6]]\n",
      "\n",
      "Flattened array:\n",
      "\n",
      "[1 2 3 4 5 6]\n"
     ]
    }
   ],
   "source": [
    "ar_2d= np.array([[1,2,3],[4,5,6]])\n",
    "print(\"Original array:\\n\")\n",
    "print(ar_2d)\n",
    "ar_1d=ar_2d.flatten()  # Flatten the array to 1D\n",
    "print(\"\\nFlattened array:\\n\")\n",
    "print(ar_1d)"
   ]
  },
  {
   "cell_type": "code",
   "execution_count": 80,
   "id": "59ffa062",
   "metadata": {},
   "outputs": [
    {
     "data": {
      "text/plain": [
       "array([[1, 4],\n",
       "       [2, 5],\n",
       "       [3, 6]])"
      ]
     },
     "execution_count": 80,
     "metadata": {},
     "output_type": "execute_result"
    }
   ],
   "source": [
    "arr.T"
   ]
  },
  {
   "cell_type": "code",
   "execution_count": 82,
   "id": "060250a4",
   "metadata": {},
   "outputs": [
    {
     "data": {
      "text/plain": [
       "array([[1, 2],\n",
       "       [3, 4],\n",
       "       [5, 6]])"
      ]
     },
     "execution_count": 82,
     "metadata": {},
     "output_type": "execute_result"
    }
   ],
   "source": [
    "arr.reshape(3,2)"
   ]
  },
  {
   "cell_type": "code",
   "execution_count": 93,
   "id": "69361356",
   "metadata": {},
   "outputs": [
    {
     "name": "stdout",
     "output_type": "stream",
     "text": [
      "[[1 2 3 4 5]\n",
      " [6 0 0 0 0]\n",
      " [0 0 0 0 0]]\n"
     ]
    }
   ],
   "source": [
    "arr1=np.array([[1,2,3],[4,5,6]])\n",
    "arr1.resize((3,5))\n",
    "print(arr1)"
   ]
  },
  {
   "cell_type": "code",
   "execution_count": null,
   "id": "e7e4efd8",
   "metadata": {},
   "outputs": [],
   "source": []
  }
 ],
 "metadata": {
  "kernelspec": {
   "display_name": "Python 3",
   "language": "python",
   "name": "python3"
  },
  "language_info": {
   "codemirror_mode": {
    "name": "ipython",
    "version": 3
   },
   "file_extension": ".py",
   "mimetype": "text/x-python",
   "name": "python",
   "nbconvert_exporter": "python",
   "pygments_lexer": "ipython3",
   "version": "3.13.1"
  }
 },
 "nbformat": 4,
 "nbformat_minor": 5
}
